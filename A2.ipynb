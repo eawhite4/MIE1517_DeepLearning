{
  "cells": [
    {
      "cell_type": "markdown",
      "metadata": {
        "id": "view-in-github",
        "colab_type": "text"
      },
      "source": [
        "<a href=\"https://colab.research.google.com/github/eawhite4/MIE1517_DeepLearning/blob/main/A2.ipynb\" target=\"_parent\"><img src=\"https://colab.research.google.com/assets/colab-badge.svg\" alt=\"Open In Colab\"/></a>"
      ]
    },
    {
      "cell_type": "markdown",
      "metadata": {
        "id": "X6WDvajSqIDs"
      },
      "source": [
        "# THINGS I NEED TO CHANGE\n",
        "1. B1 splitting data, test set needs to have images from PEOPLE who have not been seen in training, Need to select some poeple to make the test set --> allowed to manually split the dataset\n",
        "2. B2 iii --> construct a small dataset (e.g. just the images that you have collected THIS NEEDS TO BE MY IMAGES\n",
        "\n",
        "\n",
        "\n",
        "\n",
        "# Assignment 2: Hand Gesture Recognition [50 Pt]\n",
        "\n",
        "This assignment will be completed in two parts. In Part A you will gain experience gathering your own data set (specifically images of hand gestures), and understand the challenges involved in the data cleaning process. In Part B you will train a convolutional neural network to make classifications on different hand gestures. By the end of this assignment, you should be able to:\n",
        "\n",
        "1. Generate and preprocess your own data\n",
        "2. Load and split data for training, validation and testing\n",
        "3. Train a Convolutional Neural Network\n",
        "4. Apply transfer learning to improve your model\n",
        "\n",
        "Note that for this assignment we will not be providing you with any starter code. You should be able to take the sample code provided in the preparation sample code, previous assignment, and lectures and modify it accordingly to complete the tasks outlined below.\n",
        "\n",
        "*This assignment is based on an assignment developed by Prof. Lisa Zhang.*\n",
        "\n",
        "### What to submit\n",
        "\n",
        "**Submission for Part A:**  \n",
        "Submit a zip file containing your images. Three images each of American Sign Language gestures for letters A - I (total of 27 images). You will be required to clean the images before submitting them. Details are provided under Part A of the handout.\n",
        "\n",
        "Individual image file names should follow the convention of student-number_Alphabet_file-number.jpg\n",
        "(e.g. 100343434_A_1.jpg).\n",
        "\n",
        "\n",
        "**Submission for Part B:**  \n",
        "Submit an HTML file containing all your code, outputs, and write-up\n",
        "from parts A and B. You can produce a HTML file directly from Google Colab. The Colab instructions are provided at the end of this document.\n",
        "For Part B5(iii), submit a single .csv file following the specified naming and formatting instructions.\n",
        "\n",
        "**Do not submit any other files produced by your code.**\n",
        "\n",
        "Include a link to your colab file in your submission.\n",
        "\n",
        "Please use Google Colab to complete this assignment. If you want to use Jupyter Notebook, please complete the assignment and upload your Jupyter Notebook file to Google Colab for submission."
      ]
    },
    {
      "cell_type": "markdown",
      "metadata": {
        "id": "LfiFE_WOqIDu"
      },
      "source": [
        "## Colab Link\n",
        "\n",
        "Include a link to your colab file here and ensure the file can be accessed by the our teaching team.\n"
      ]
    },
    {
      "cell_type": "code",
      "execution_count": null,
      "metadata": {
        "id": "TeX7gWbmMdqh"
      },
      "outputs": [],
      "source": [
        "# TO BE COMPLETED\n",
        "#https://colab.research.google.com/drive/1xRFjTI-EvUjoviLbDRZSr5Ub0YmHbs_g?usp=sharing"
      ]
    },
    {
      "cell_type": "markdown",
      "metadata": {
        "id": "kvTXpH_kqIDy"
      },
      "source": [
        "# Part A. Data Collection [5pt]\n",
        "\n",
        "So far, we have worked with data sets that have been collected, cleaned, and curated by machine learning\n",
        "researchers and practitioners. Datasets like MNIST and CIFAR are often used as toy examples, both by\n",
        "students and by researchers testing new machine learning models.\n",
        "\n",
        "In the real world, getting a clean data set is never that easy. More than half the work in applying machine\n",
        "learning is finding, gathering, cleaning, and formatting your data set.\n",
        "\n",
        "The purpose of this assignment is to help you gain experience gathering your own data set, and understand the\n",
        "challenges involved in the data cleaning process.\n",
        "\n",
        "### American Sign Language\n",
        "\n",
        "American Sign Language (ASL) is a complete, complex language that employs signs made by moving the\n",
        "hands combined with facial expressions and postures of the body. It is the primary language of many\n",
        "North Americans who are deaf and is one of several communication options used by people who are deaf or\n",
        "hard-of-hearing.\n",
        "\n",
        "The hand gestures representing English alphabet are shown below. This assignment focuses on classifying a subset\n",
        "of these hand gesture images using convolutional neural networks. Specifically, given an image of a hand\n",
        "showing one of the letters A-I, we want to detect which letter is being represented.\n",
        "\n",
        "![alt text](https://www.disabled-world.com/pics/1/asl-alphabet.jpg)\n",
        "\n",
        "\n",
        "### Generating Data\n",
        "We will produce the images required to assess our models by ourselves. You are required to collect, clean and submit\n",
        "three images each of Americal Sign Language gestures for letters A - I (total of 27 images)\n",
        "Steps involved in data collection\n",
        "\n",
        "1. Familiarize yourself with American Sign Language gestures for letters from A - I (9 letters).\n",
        "2. Take three pictures at slightly different orientation for each letter gesture using your\n",
        "mobile phone.\n",
        " - Ensure adequate lighting while you are capturing the images.\n",
        " - Use a white wall as your background.\n",
        " - Use your right hand to create gestures (for consistency).\n",
        " - Keep your right hand fairly apart from your body and any other obstructions.\n",
        " - Avoid having shadows on parts of your hand.\n",
        "3. Transfer the images to your laptop for cleaning.\n",
        "\n",
        "### Cleaning Data\n",
        "To simplify the machine learning the task, we will standardize the training images. We will make sure that\n",
        "all our images are of the same size (224 x 224 pixels RGB), and have the hand in the center of the cropped\n",
        "regions.\n",
        "\n",
        "You may use the following applications to crop and resize your images:\n",
        "\n",
        "**Mac**\n",
        "- Use Preview:\n",
        "– Holding down CMD + Shift will keep a square aspect ratio while selecting the hand area.\n",
        "– Resize to 224x224 pixels.\n",
        "\n",
        "**Windows 10**\n",
        "- Use Photos app to edit and crop the image and keep the aspect ratio a square.\n",
        "- Use Paint to resize the image to the final image size of 224x224 pixels.\n",
        "\n",
        "**Linux**\n",
        "- You can use GIMP, imagemagick, or other tools of your choosing.\n",
        "You may also use online tools such as http://picresize.com\n",
        "All the above steps are illustrative only. You need not follow these steps but following these will ensure that\n",
        "you produce a good quality dataset. You will be judged based on the quality of the images alone.\n",
        "Please do not edit your photos in any other way. You should not need to change the aspect ratio of your\n",
        "image. You also should not digitally remove the background or shadows—instead, take photos with a white\n",
        "background and minimal shadows.\n",
        "\n",
        "### Accepted Images\n",
        "Images will be accepted and graded based on the criteria below\n",
        "1. The final image should be size 224x224 pixels (RGB).\n",
        "2. The file format should be a .jpg file.\n",
        "3. The hand should be approximately centered on the frame.\n",
        "4. The hand should not be obscured or cut off.\n",
        "5. The photos follows the ASL gestures posted earlier.\n",
        "6. The photos were not edited in any other way (e.g. no electronic removal of shadows or background).\n",
        "\n",
        "### Submission\n",
        "Submit a zip file containing your images. There should be a total of 27 images (3 for each category)\n",
        "1. Individual image file names should follow the convention of student-number_Alphabet_file-number.jpg\n",
        "(e.g. 100343434_A_1.jpg)\n",
        "2. Zip all the images together and name it with the following convention: last-name_student-number.zip\n",
        "(e.g. last-name_100343434.zip).\n",
        "3. Submit the zipped folder.\n",
        "\n",
        "![alt text](https://github.com/UTNeural/APS360/blob/master/Gesture%20Images.PNG?raw=true)"
      ]
    },
    {
      "cell_type": "markdown",
      "metadata": {
        "id": "bJxMgWGNqID2"
      },
      "source": [
        "# Part B. Building a CNN [45pt]\n",
        "\n",
        "For this assignment, we are not going to give you any starter code. You will be writing a convolutional neural network\n",
        "from scratch. You are welcome to modify and combine code provided previously in the course (assignments, preparation code, lectures, etc.). You can also write your own code.\n",
        "\n",
        "You may use the PyTorch documentation freely. You might also find online tutorials helpful. However, all code that you submit must be be your own. You cannot take a completed assignment and claim it as your own.\n",
        "\n",
        "Make sure that your code is vectorized, and does not contain obvious inefficiencies (for example, unecessary\n",
        "for loops, or unnecessary calls to unsqueeze()). Ensure enough comments are included in the code so that\n",
        "your TA can understand what you are doing. It is your responsibility to show that you understand what you\n",
        "write.\n",
        "\n",
        "**This is much more challenging and time-consuming than the previous assignments.** Make sure that you give yourself plenty of time by starting early."
      ]
    },
    {
      "cell_type": "markdown",
      "metadata": {
        "id": "MiDuQaAh56sT"
      },
      "source": [
        "## Part 1. Data Loading and Splitting [3pt EXPLORATORY]\n",
        "\n",
        "Download the anonymized data provided on Quercus (`A2_Hand_Gesture_Dataset_Revised.zip`). Split the data into training, validation, and test sets. Do not use `A2_Hand_Gesture_Unlabeled_Data.zip` which will be used in later sections.\n",
        "\n",
        "Note: Data splitting is not as trivial in this assignment. We want our test set to closely resemble the setting in which\n",
        "our model will be used. In particular, our test set should contain hands that are never seen in training!\n",
        "\n",
        "Explain how you split the data, either by describing what you did, or by showing the code that you used.\n",
        "Justify your choice of splitting strategy. How many training, validation, and test images do you have?\n",
        "\n",
        "For loading the data, you can use plt.imread, or any other method that you choose. You may find\n",
        "torchvision.datasets.ImageFolder helpful. (see https://pytorch.org/vision/main/generated/torchvision.datasets.ImageFolder.html)\n",
        ")"
      ]
    },
    {
      "cell_type": "markdown",
      "source": [
        "## Importing packages and data"
      ],
      "metadata": {
        "id": "tm-OT9o5in6M"
      }
    },
    {
      "cell_type": "code",
      "source": [
        "!pip install optuna"
      ],
      "metadata": {
        "id": "-5kN32EiwsxU"
      },
      "execution_count": null,
      "outputs": []
    },
    {
      "cell_type": "code",
      "source": [
        "#import packages\n",
        "import torch\n",
        "import torch.nn as nn\n",
        "import torch.nn.functional as F\n",
        "\n",
        "import matplotlib.pyplot as plt # for plotting\n",
        "import torch.optim as optim #for gradient descent\n",
        "\n",
        "# obtain data\n",
        "import torchvision\n",
        "from torchvision import datasets, transforms\n",
        "from torch.utils.data.sampler import SubsetRandomSampler\n",
        "from torch.utils.data import DataLoader, random_split\n",
        "from torch.cuda.amp import autocast, GradScaler  # Import for mixed precision\n",
        "\n",
        "\n",
        "\n",
        "#Visualize Feature Map packages\n",
        "import numpy as np\n",
        "import matplotlib.pyplot as plt\n",
        "import scipy.signal as sg\n",
        "\n",
        "from PIL import Image\n",
        "import requests\n",
        "\n",
        "#other\n",
        "import os\n",
        "import time\n",
        "import shutil\n",
        "import optuna\n",
        "\n",
        "\n",
        "# set the random seed\n",
        "torch.manual_seed(1)"
      ],
      "metadata": {
        "colab": {
          "base_uri": "https://localhost:8080/"
        },
        "id": "foa-AVwW_GzZ",
        "outputId": "93140112-e14e-4716-f00d-4de3bc06e5d6"
      },
      "execution_count": 23,
      "outputs": [
        {
          "output_type": "execute_result",
          "data": {
            "text/plain": [
              "<torch._C.Generator at 0x79fe86f0f670>"
            ]
          },
          "metadata": {},
          "execution_count": 23
        }
      ]
    },
    {
      "cell_type": "code",
      "source": [
        "#Connecting to Google Drive\n",
        "import glob\n",
        "from google.colab import drive\n",
        "drive.mount('/content/drive/', force_remount=True)"
      ],
      "metadata": {
        "colab": {
          "base_uri": "https://localhost:8080/"
        },
        "id": "VAomr0sR9yMm",
        "outputId": "211d8cc9-adfb-4132-edb2-9d6cba083acd"
      },
      "execution_count": 4,
      "outputs": [
        {
          "output_type": "stream",
          "name": "stdout",
          "text": [
            "Mounted at /content/drive/\n"
          ]
        }
      ]
    },
    {
      "cell_type": "code",
      "source": [
        "#Connect to right path\n",
        "working_directory = \"/content/drive/My Drive/Colab Notebooks/A2\"\n",
        "\n",
        "%cd \"/content/drive/My Drive/Colab Notebooks/A2\""
      ],
      "metadata": {
        "colab": {
          "base_uri": "https://localhost:8080/"
        },
        "id": "RpP1iSbS9_RA",
        "outputId": "04aec2c2-0016-49a1-939f-3bdd28789e48"
      },
      "execution_count": 5,
      "outputs": [
        {
          "output_type": "stream",
          "name": "stdout",
          "text": [
            "/content/drive/My Drive/Colab Notebooks/A2\n"
          ]
        }
      ]
    },
    {
      "cell_type": "code",
      "execution_count": null,
      "metadata": {
        "id": "WBrH5kBqRLa6",
        "colab": {
          "base_uri": "https://localhost:8080/",
          "height": 73
        },
        "outputId": "ad05a487-4043-4802-c51a-153462367684"
      },
      "outputs": [
        {
          "output_type": "display_data",
          "data": {
            "text/plain": [
              "<IPython.core.display.HTML object>"
            ],
            "text/html": [
              "\n",
              "     <input type=\"file\" id=\"files-f21050d2-94f3-436e-874d-6c42a2f68d99\" name=\"files[]\" multiple disabled\n",
              "        style=\"border:none\" />\n",
              "     <output id=\"result-f21050d2-94f3-436e-874d-6c42a2f68d99\">\n",
              "      Upload widget is only available when the cell has been executed in the\n",
              "      current browser session. Please rerun this cell to enable.\n",
              "      </output>\n",
              "      <script>// Copyright 2017 Google LLC\n",
              "//\n",
              "// Licensed under the Apache License, Version 2.0 (the \"License\");\n",
              "// you may not use this file except in compliance with the License.\n",
              "// You may obtain a copy of the License at\n",
              "//\n",
              "//      http://www.apache.org/licenses/LICENSE-2.0\n",
              "//\n",
              "// Unless required by applicable law or agreed to in writing, software\n",
              "// distributed under the License is distributed on an \"AS IS\" BASIS,\n",
              "// WITHOUT WARRANTIES OR CONDITIONS OF ANY KIND, either express or implied.\n",
              "// See the License for the specific language governing permissions and\n",
              "// limitations under the License.\n",
              "\n",
              "/**\n",
              " * @fileoverview Helpers for google.colab Python module.\n",
              " */\n",
              "(function(scope) {\n",
              "function span(text, styleAttributes = {}) {\n",
              "  const element = document.createElement('span');\n",
              "  element.textContent = text;\n",
              "  for (const key of Object.keys(styleAttributes)) {\n",
              "    element.style[key] = styleAttributes[key];\n",
              "  }\n",
              "  return element;\n",
              "}\n",
              "\n",
              "// Max number of bytes which will be uploaded at a time.\n",
              "const MAX_PAYLOAD_SIZE = 100 * 1024;\n",
              "\n",
              "function _uploadFiles(inputId, outputId) {\n",
              "  const steps = uploadFilesStep(inputId, outputId);\n",
              "  const outputElement = document.getElementById(outputId);\n",
              "  // Cache steps on the outputElement to make it available for the next call\n",
              "  // to uploadFilesContinue from Python.\n",
              "  outputElement.steps = steps;\n",
              "\n",
              "  return _uploadFilesContinue(outputId);\n",
              "}\n",
              "\n",
              "// This is roughly an async generator (not supported in the browser yet),\n",
              "// where there are multiple asynchronous steps and the Python side is going\n",
              "// to poll for completion of each step.\n",
              "// This uses a Promise to block the python side on completion of each step,\n",
              "// then passes the result of the previous step as the input to the next step.\n",
              "function _uploadFilesContinue(outputId) {\n",
              "  const outputElement = document.getElementById(outputId);\n",
              "  const steps = outputElement.steps;\n",
              "\n",
              "  const next = steps.next(outputElement.lastPromiseValue);\n",
              "  return Promise.resolve(next.value.promise).then((value) => {\n",
              "    // Cache the last promise value to make it available to the next\n",
              "    // step of the generator.\n",
              "    outputElement.lastPromiseValue = value;\n",
              "    return next.value.response;\n",
              "  });\n",
              "}\n",
              "\n",
              "/**\n",
              " * Generator function which is called between each async step of the upload\n",
              " * process.\n",
              " * @param {string} inputId Element ID of the input file picker element.\n",
              " * @param {string} outputId Element ID of the output display.\n",
              " * @return {!Iterable<!Object>} Iterable of next steps.\n",
              " */\n",
              "function* uploadFilesStep(inputId, outputId) {\n",
              "  const inputElement = document.getElementById(inputId);\n",
              "  inputElement.disabled = false;\n",
              "\n",
              "  const outputElement = document.getElementById(outputId);\n",
              "  outputElement.innerHTML = '';\n",
              "\n",
              "  const pickedPromise = new Promise((resolve) => {\n",
              "    inputElement.addEventListener('change', (e) => {\n",
              "      resolve(e.target.files);\n",
              "    });\n",
              "  });\n",
              "\n",
              "  const cancel = document.createElement('button');\n",
              "  inputElement.parentElement.appendChild(cancel);\n",
              "  cancel.textContent = 'Cancel upload';\n",
              "  const cancelPromise = new Promise((resolve) => {\n",
              "    cancel.onclick = () => {\n",
              "      resolve(null);\n",
              "    };\n",
              "  });\n",
              "\n",
              "  // Wait for the user to pick the files.\n",
              "  const files = yield {\n",
              "    promise: Promise.race([pickedPromise, cancelPromise]),\n",
              "    response: {\n",
              "      action: 'starting',\n",
              "    }\n",
              "  };\n",
              "\n",
              "  cancel.remove();\n",
              "\n",
              "  // Disable the input element since further picks are not allowed.\n",
              "  inputElement.disabled = true;\n",
              "\n",
              "  if (!files) {\n",
              "    return {\n",
              "      response: {\n",
              "        action: 'complete',\n",
              "      }\n",
              "    };\n",
              "  }\n",
              "\n",
              "  for (const file of files) {\n",
              "    const li = document.createElement('li');\n",
              "    li.append(span(file.name, {fontWeight: 'bold'}));\n",
              "    li.append(span(\n",
              "        `(${file.type || 'n/a'}) - ${file.size} bytes, ` +\n",
              "        `last modified: ${\n",
              "            file.lastModifiedDate ? file.lastModifiedDate.toLocaleDateString() :\n",
              "                                    'n/a'} - `));\n",
              "    const percent = span('0% done');\n",
              "    li.appendChild(percent);\n",
              "\n",
              "    outputElement.appendChild(li);\n",
              "\n",
              "    const fileDataPromise = new Promise((resolve) => {\n",
              "      const reader = new FileReader();\n",
              "      reader.onload = (e) => {\n",
              "        resolve(e.target.result);\n",
              "      };\n",
              "      reader.readAsArrayBuffer(file);\n",
              "    });\n",
              "    // Wait for the data to be ready.\n",
              "    let fileData = yield {\n",
              "      promise: fileDataPromise,\n",
              "      response: {\n",
              "        action: 'continue',\n",
              "      }\n",
              "    };\n",
              "\n",
              "    // Use a chunked sending to avoid message size limits. See b/62115660.\n",
              "    let position = 0;\n",
              "    do {\n",
              "      const length = Math.min(fileData.byteLength - position, MAX_PAYLOAD_SIZE);\n",
              "      const chunk = new Uint8Array(fileData, position, length);\n",
              "      position += length;\n",
              "\n",
              "      const base64 = btoa(String.fromCharCode.apply(null, chunk));\n",
              "      yield {\n",
              "        response: {\n",
              "          action: 'append',\n",
              "          file: file.name,\n",
              "          data: base64,\n",
              "        },\n",
              "      };\n",
              "\n",
              "      let percentDone = fileData.byteLength === 0 ?\n",
              "          100 :\n",
              "          Math.round((position / fileData.byteLength) * 100);\n",
              "      percent.textContent = `${percentDone}% done`;\n",
              "\n",
              "    } while (position < fileData.byteLength);\n",
              "  }\n",
              "\n",
              "  // All done.\n",
              "  yield {\n",
              "    response: {\n",
              "      action: 'complete',\n",
              "    }\n",
              "  };\n",
              "}\n",
              "\n",
              "scope.google = scope.google || {};\n",
              "scope.google.colab = scope.google.colab || {};\n",
              "scope.google.colab._files = {\n",
              "  _uploadFiles,\n",
              "  _uploadFilesContinue,\n",
              "};\n",
              "})(self);\n",
              "</script> "
            ]
          },
          "metadata": {}
        },
        {
          "output_type": "stream",
          "name": "stdout",
          "text": [
            "Saving White_1011790073.zip to White_1011790073.zip\n"
          ]
        }
      ],
      "source": [
        "#Uploading data that i seperated from A2_Hand_Gesture_Dataset_Revised.zip -->Gesture_Dataset_train_val.zip\n",
        "#Gesture_Test contains 9 differnt people (and their 27 images ) - people labeled 1-10 (5 was missing)\n",
        "#uploaded my images\n",
        "from google.colab import files\n",
        "uploaded = files.upload()"
      ]
    },
    {
      "cell_type": "code",
      "source": [
        "#Unzipping Gesture_Dataset_train_val.zip\n",
        "# path to folder: \"/content/drive/MyDrive/Colab Notebooks/A2/Gesture_Dataset_train_val.zip\"\n",
        "\n",
        "_ = !unzip \"/content/drive/MyDrive/Colab Notebooks/A2/Gesture_Dataset_train_val.zip\" -d \"/content/drive/MyDrive/Colab Notebooks/A2/Gesture_Dataset_train_val/\"\n",
        "\n",
        "#unzipping gesture_test.zip\n",
        "_ = !unzip \"/content/drive/MyDrive/Colab Notebooks/A2/Gesture_Test.zip\" -d \"/content/drive/MyDrive/Colab Notebooks/A2/Gesture_Dataset_Test/\"\n",
        "\n",
        "_ = !unzip \"/content/drive/MyDrive/Colab Notebooks/A2/White_1011790073.zip\" -d \"/content/drive/MyDrive/Colab Notebooks/A2/White_1011790073/\""
      ],
      "metadata": {
        "id": "cfc1bkJC-sS7"
      },
      "execution_count": null,
      "outputs": []
    },
    {
      "cell_type": "code",
      "source": [
        "!ls"
      ],
      "metadata": {
        "colab": {
          "base_uri": "https://localhost:8080/"
        },
        "id": "QlYbaS6zZ9Gw",
        "outputId": "918b8d10-31ed-4e9b-836f-4e1bc569c29a"
      },
      "execution_count": null,
      "outputs": [
        {
          "output_type": "stream",
          "name": "stdout",
          "text": [
            "Gesture_Dataset_Test\t   Gesture_Dataset_train_val.zip  White_1011790073\n",
            "Gesture_Dataset_train_val  Gesture_Test.zip\t\t  White_1011790073.zip\n"
          ]
        }
      ]
    },
    {
      "cell_type": "code",
      "source": [
        "print(\"Origional Dataset has 2,432 images\")\n",
        "print(\"Using 10% of totoal dataset for testing: 243 images\")\n",
        "print(\"each person has 27 photos; test set needs to contain 9 people -- choosing person 1-9\")"
      ],
      "metadata": {
        "colab": {
          "base_uri": "https://localhost:8080/"
        },
        "id": "nDdgCfv9df5a",
        "outputId": "25eb6a45-d433-495b-a1d5-867763261e6c"
      },
      "execution_count": null,
      "outputs": [
        {
          "output_type": "stream",
          "name": "stdout",
          "text": [
            "Origional Dataset has 2,432 images\n",
            "Using 10% of totoal dataset for testing: 243 images\n",
            "each person has 27 photos; test set needs to contain 9 people -- choosing person 1-9\n"
          ]
        }
      ]
    },
    {
      "cell_type": "markdown",
      "source": [
        "## Loader Function and Data Visualization"
      ],
      "metadata": {
        "id": "41jjXdHGBp80"
      }
    },
    {
      "cell_type": "code",
      "source": [
        "#######################################\n",
        "#functions for dataloader\n",
        "#Define a image loader function\n",
        "def image_loader(path):\n",
        "    return Image.open(path).convert(\"RGB\")  # Ensure all images are RGB\n",
        "\n",
        "#Define image transform\n",
        "image_transform = transforms.Compose([\n",
        "    transforms.Resize((224, 224)), #resize to 224 x 224\n",
        "    transforms.ToTensor(),  # Convert to tensor\n",
        "    transforms.Normalize((0.5, 0.5, 0.5), (0.5, 0.5, 0.5)) #normalize for RGB images\n",
        "    ])\n",
        "\n",
        "\n",
        "##########################################################\n",
        "#Loads data and splits it into training, validation\n",
        "\n",
        "def data_loader_train_val(data_dir, batch_size, valid_split= 0.2):\n",
        "  \"\"\"\n",
        "  Load the hand gesture data set.\n",
        "\n",
        "  Args:\n",
        "        data_dir: The root directory of the dataset, with subdirectories for each class.\n",
        "        batch_size: Number of samples per batch.\n",
        "        valid_split: Fraction of the training data to be used for validation.\n",
        "\n",
        "    Returns:\n",
        "        train_loader: Iterable DataLoader for training data.\n",
        "        val_loader: Iterable DataLoader for validation data.\n",
        "        classes: List of class names.\n",
        "    \"\"\"\n",
        "  # Load the full dataset\n",
        "  dataset = datasets.ImageFolder(data_dir, transform= image_transform)\n",
        "  classes = dataset.classes\n",
        "  print(f\"Total dataset size: {len(dataset)}\")\n",
        "\n",
        "\n",
        "  # Split the dataset\n",
        "  total_size = len(dataset)\n",
        "  valid_size = max(1, int(valid_split * total_size))\n",
        "  train_size = total_size - valid_size\n",
        "\n",
        "  train_dataset, val_dataset = random_split(dataset, [train_size, valid_size])\n",
        "\n",
        "  print(f\"Train dataset size: {len(train_dataset)}\")\n",
        "  print(f\"Validation dataset size: {len(val_dataset)}\")\n",
        "\n",
        "  # Create DataLoaders\n",
        "  train_loader = DataLoader(train_dataset, batch_size=batch_size, shuffle=True, num_workers=2)\n",
        "  val_loader = DataLoader(val_dataset, batch_size=batch_size, shuffle=False, num_workers=2)\n",
        "\n",
        "  return train_loader, val_loader, classes\n",
        "\n",
        "\n",
        "def data_loader_test(data_dir, batch_size):\n",
        "\n",
        "  # Load the full dataset\n",
        "  dataset = datasets.ImageFolder(data_dir, transform= image_transform)\n",
        "  classes = dataset.classes\n",
        "\n",
        "  # Create DataLoaders\n",
        "  test_loader = DataLoader(dataset, batch_size=batch_size, shuffle=True, num_workers=2)\n",
        "\n",
        "  return test_loader, classes"
      ],
      "metadata": {
        "id": "z7AnS5U3BnG5"
      },
      "execution_count": 6,
      "outputs": []
    },
    {
      "cell_type": "code",
      "source": [
        "#Loading training\n",
        "train_val = \"/content/drive/MyDrive/Colab Notebooks/A2/Gesture_Dataset_train_val/Gesture_Dataset_train_val\"\n",
        "test = \"/content/drive/MyDrive/Colab Notebooks/A2/Gesture_Dataset_Test/Gesture_Test\"\n",
        "batch_size = 1\n",
        "\n",
        "train_loader, val_loader, classes = data_loader_train_val(\n",
        "    data_dir = train_val, batch_size=batch_size)\n",
        "\n",
        "test_loader, classes = data_loader_test(\n",
        "    data_dir = test, batch_size=batch_size)"
      ],
      "metadata": {
        "id": "dLxqUreMiiek",
        "colab": {
          "base_uri": "https://localhost:8080/"
        },
        "outputId": "b552a2f6-ffe5-40b7-96ae-e648e58bfb28"
      },
      "execution_count": 5,
      "outputs": [
        {
          "output_type": "stream",
          "name": "stdout",
          "text": [
            "Total dataset size: 2189\n",
            "Train dataset size: 1752\n",
            "Validation dataset size: 437\n"
          ]
        }
      ]
    },
    {
      "cell_type": "markdown",
      "source": [],
      "metadata": {
        "id": "tnnwvGFmh12C"
      }
    },
    {
      "cell_type": "code",
      "source": [
        "#Visualizing Images - from A1\n",
        "import matplotlib.pyplot as plt\n",
        "\n",
        "k = 0 #determines the position of the image on the grid\n",
        "for images, labels in train_loader:\n",
        "    # since batch_size = 1, there is only 1 image in `images`\n",
        "    image = images[0] #extracts a single image from images\n",
        "    # place the colour channel at the end, instead of at the beginning\n",
        "    img = np.transpose(image, [1,2,0])\n",
        "    # normalize pixel intensity values to [0, 1]\n",
        "    img = img / 2 + 0.5\n",
        "    plt.subplot(3, 5, k+1)\n",
        "    plt.axis('off')\n",
        "    plt.imshow(img)\n",
        "\n",
        "    k += 1\n",
        "    if k > 14:\n",
        "        break"
      ],
      "metadata": {
        "colab": {
          "base_uri": "https://localhost:8080/",
          "height": 383
        },
        "id": "tBGzpX8iow4n",
        "outputId": "551c3283-37dd-4ad5-932f-46ce4b04729f"
      },
      "execution_count": null,
      "outputs": [
        {
          "output_type": "display_data",
          "data": {
            "text/plain": [
              "<Figure size 640x480 with 15 Axes>"
            ],
            "image/png": "[encoded data removed]"
          },
          "metadata": {}
        }
      ]
    },
    {
      "cell_type": "code",
      "source": [
        "#Information on dataset\n",
        "#train_loader, val_loader, test_loader, classes\n",
        "total_samples = len(train_loader) + len(val_loader) + len(test_loader)\n",
        "print(f\"Training samples: {len(train_loader)} \")\n",
        "print(f\"Validation samples: {len(val_loader)} \")\n",
        "print(f\"Test samples: {len(test_loader)} \")\n",
        "label_class_dict = {index: name for index, name in enumerate(classes)}\n",
        "print(f\"Label Classes: {label_class_dict}\")\n",
        "\n",
        "\n",
        "for images, labels in train_loader:\n",
        "    image_size = images[0].shape # Get the shape of the first image in the batch\n",
        "    break  # Stop after processing the first batch\n",
        "\n",
        "print(f\"Shape of first image in training set: {image_size}, with label {labels}\")\n",
        "print(f\"The label shape: {labels.shape}, which should be the same as torch.Size([batch_size]): torch.Size([{batch_size}]) when using CrossEntropyLoss() \")\n"
      ],
      "metadata": {
        "colab": {
          "base_uri": "https://localhost:8080/"
        },
        "id": "GdGfx7msZSpE",
        "outputId": "649732f3-2a57-4ef4-bcc2-ce763508414e"
      },
      "execution_count": null,
      "outputs": [
        {
          "output_type": "stream",
          "name": "stdout",
          "text": [
            "Training samples: 1752 \n",
            "Validation samples: 437 \n",
            "Test samples: 243 \n",
            "Label Classes: {0: 'A', 1: 'B', 2: 'C', 3: 'D', 4: 'E', 5: 'F', 6: 'G', 7: 'H', 8: 'I'}\n",
            "Shape of first image in training set: torch.Size([3, 224, 224]), with label tensor([2])\n",
            "The label shape: torch.Size([1]), which should be the same as torch.Size([batch_size]): torch.Size([1]) when using CrossEntropyLoss() \n"
          ]
        }
      ]
    },
    {
      "cell_type": "markdown",
      "source": [],
      "metadata": {
        "id": "dzDj8LAV8Nf_"
      }
    },
    {
      "cell_type": "code",
      "source": [
        "import matplotlib.pyplot as plt\n",
        "from collections import Counter\n",
        "import matplotlib.cm as cm  # Import colormap module\n",
        "\n",
        "def count_labels_and_plot(data_split, dataset_name=\"Dataset\"):\n",
        "    \"\"\"\n",
        "    Count occurrences of each label in a dataset and plot with a colormap.\n",
        "\n",
        "    Args:\n",
        "        data_split (Iterable): DataLoader that yields batches of (tensor, label).\n",
        "        dataset_name (str): The name of the dataset (e.g., \"Train\", \"Validation\", \"Test\").\n",
        "\n",
        "    Returns:\n",
        "        dict: A dictionary with label counts, sorted by label.\n",
        "        Graph: A bar chart of label counts with a colormap.\n",
        "    \"\"\"\n",
        "    counter_dict = Counter()\n",
        "\n",
        "    for _, labels in data_split:\n",
        "        counter_dict.update(labels.cpu().numpy())  # Convert tensor to NumPy array and update counter\n",
        "\n",
        "    sorted_dict = dict(sorted(counter_dict.items()))\n",
        "\n",
        "    # Get labels (keys) and counts (values)\n",
        "    labels = list(sorted_dict.keys())\n",
        "    counts = list(sorted_dict.values())\n",
        "\n",
        "    # Create colormap\n",
        "    num_classes = len(labels)\n",
        "    cmap = cm.get_cmap('viridis', num_classes)  # Choose a colormap (e.g., 'viridis')\n",
        "    colors = [cmap(i) for i in range(num_classes)]\n",
        "\n",
        "    # Create bar chart with colormap\n",
        "    fig, ax = plt.subplots()\n",
        "    bars = ax.bar(labels, counts, color=colors)\n",
        "\n",
        "    # Add count values on top of each bar\n",
        "    for bar in bars:\n",
        "        height = bar.get_height()\n",
        "        ax.text(bar.get_x() + bar.get_width() / 2, height,\n",
        "                str(int(height)), ha='center', va='bottom')\n",
        "\n",
        "    # Set x-axis labels to class names (0-8)\n",
        "    class_names = [str(label) for label in labels]\n",
        "    ax.set_xticks(labels)\n",
        "    ax.set_xticklabels(class_names)\n",
        "\n",
        "    # Set labels and title\n",
        "    plt.xlabel('Label')\n",
        "    plt.ylabel('Count')\n",
        "    plt.title(f\"{dataset_name} Label Occurrences\")\n",
        "    plt.show()\n",
        "\n",
        "    return sorted_dict"
      ],
      "metadata": {
        "id": "dau6Ufw-9IUT"
      },
      "execution_count": 7,
      "outputs": []
    },
    {
      "cell_type": "code",
      "source": [
        "count_labels_and_plot(test_loader, dataset_name = \"Testing Set\")\n",
        "count_labels_and_plot(val_loader, dataset_name = \"Validation Set\")\n",
        "count_labels_and_plot(train_loader, dataset_name = \"Training Set\")"
      ],
      "metadata": {
        "colab": {
          "base_uri": "https://localhost:8080/",
          "height": 1000
        },
        "id": "JVJt5f7E9MzB",
        "outputId": "f5ccebfe-adfe-408d-890e-464f437c262f"
      },
      "execution_count": null,
      "outputs": [
        {
          "output_type": "stream",
          "name": "stderr",
          "text": [
            "<ipython-input-11-a8cd3b6a605d>:30: MatplotlibDeprecationWarning: The get_cmap function was deprecated in Matplotlib 3.7 and will be removed in 3.11. Use ``matplotlib.colormaps[name]`` or ``matplotlib.colormaps.get_cmap()`` or ``pyplot.get_cmap()`` instead.\n",
            "  cmap = cm.get_cmap('viridis', num_classes)  # Choose a colormap (e.g., 'viridis')\n"
          ]
        },
        {
          "output_type": "display_data",
          "data": {
            "text/plain": [
              "<Figure size 640x480 with 1 Axes>"
            ],
            "image/png": "[encoded data removed]"
          },
          "metadata": {}
        },
        {
          "output_type": "stream",
          "name": "stderr",
          "text": [
            "<ipython-input-11-a8cd3b6a605d>:30: MatplotlibDeprecationWarning: The get_cmap function was deprecated in Matplotlib 3.7 and will be removed in 3.11. Use ``matplotlib.colormaps[name]`` or ``matplotlib.colormaps.get_cmap()`` or ``pyplot.get_cmap()`` instead.\n",
            "  cmap = cm.get_cmap('viridis', num_classes)  # Choose a colormap (e.g., 'viridis')\n"
          ]
        },
        {
          "output_type": "display_data",
          "data": {
            "text/plain": [
              "<Figure size 640x480 with 1 Axes>"
            ],
            "image/png": "[encoded data removed]"
          },
          "metadata": {}
        },
        {
          "output_type": "stream",
          "name": "stderr",
          "text": [
            "<ipython-input-11-a8cd3b6a605d>:30: MatplotlibDeprecationWarning: The get_cmap function was deprecated in Matplotlib 3.7 and will be removed in 3.11. Use ``matplotlib.colormaps[name]`` or ``matplotlib.colormaps.get_cmap()`` or ``pyplot.get_cmap()`` instead.\n",
            "  cmap = cm.get_cmap('viridis', num_classes)  # Choose a colormap (e.g., 'viridis')\n"
          ]
        },
        {
          "output_type": "display_data",
          "data": {
            "text/plain": [
              "<Figure size 640x480 with 1 Axes>"
            ],
            "image/png": "[encoded data removed]"
          },
          "metadata": {}
        },
        {
          "output_type": "execute_result",
          "data": {
            "text/plain": [
              "{0: 195, 1: 197, 2: 201, 3: 198, 4: 193, 5: 196, 6: 195, 7: 195, 8: 182}"
            ]
          },
          "metadata": {},
          "execution_count": 12
        }
      ]
    },
    {
      "cell_type": "code",
      "execution_count": null,
      "metadata": {
        "id": "osN3NBhdNtOC",
        "colab": {
          "base_uri": "https://localhost:8080/",
          "height": 139
        },
        "outputId": "c924bd18-d31e-423e-ed5c-c553a025c174"
      },
      "outputs": [
        {
          "output_type": "execute_result",
          "data": {
            "text/plain": [
              "'\\nBefore uploading the files, I manually split the test set, by selecting 9 people and all of their images to be the test set. This is so that\\nthose hands had never been seen before in the training and validation set.\\n\\n\\nTo load the images, I mirrored a lot of the code from the get_data_loader() fuction from A1. I edited the transform function, forcing the\\nimages to be 224x224 since those were the pixals instructed to shape images in part A. Furthermore, I normalized the images for RGB images - this\\nis different from A1 which utilizes gray scale. It was critial to visualize the images because it checked if the images were being transformed correctly when\\nthe images were loaded through my function. This helped me fix some transformation issues.\\n\\nI then used the ImageFolder function to load the entire dataset. I used the same process of get_data_loader()\\nto split the data. For this dataset the split was test(72%), validation (18%), testing(10%).\\n10% of the data is forced for testing set. The default validation split, takes 20% of the samples that are left once\\nthe test set is split. The remaining samples go into the training set.\\n\\nI then calculated the occurances of each label for each dataset split and plotted the values, this helped me visualize and ensure\\nthat the number of labels were evenly distributed within the training, validation, and test sets.\\n\\n'"
            ],
            "application/vnd.google.colaboratory.intrinsic+json": {
              "type": "string"
            }
          },
          "metadata": {},
          "execution_count": 13
        }
      ],
      "source": [
        "'''\n",
        "Before uploading the files, I manually split the test set, by selecting 9 people and all of their images to be the test set. This is so that\n",
        "those hands had never been seen before in the training and validation set.\n",
        "\n",
        "\n",
        "To load the images, I mirrored a lot of the code from the get_data_loader() fuction from A1. I edited the transform function, forcing the\n",
        "images to be 224x224 since those were the pixals instructed to shape images in part A. Furthermore, I normalized the images for RGB images - this\n",
        "is different from A1 which utilizes gray scale. It was critial to visualize the images because it checked if the images were being transformed correctly when\n",
        "the images were loaded through my function. This helped me fix some transformation issues.\n",
        "\n",
        "I then used the ImageFolder function to load the entire dataset. I used the same process of get_data_loader()\n",
        "to split the data. For this dataset the split was test(72%), validation (18%), testing(10%).\n",
        "10% of the data is forced for testing set. The default validation split, takes 20% of the samples that are left once\n",
        "the test set is split. The remaining samples go into the training set.\n",
        "\n",
        "I then calculated the occurances of each label for each dataset split and plotted the values, this helped me visualize and ensure\n",
        "that the number of labels were evenly distributed within the training, validation, and test sets.\n",
        "\n",
        "'''"
      ]
    },
    {
      "cell_type": "markdown",
      "metadata": {
        "id": "5VWX4DGY5gQE"
      },
      "source": [
        "## Part 2. Model Building and Sanity Checking [4pt]\n",
        "\n",
        "### Part (i) Convolutional Network [2pt MODEL]\n",
        "\n",
        "Build a convolutional neural network model that takes the (224x224 RGB) image as input, and predicts the gesture\n",
        "letter. Your model should be a subclass of nn.Module. Explain your choice of neural network architecture: how\n",
        "many layers did you choose? What types of layers did you use? Were they fully-connected or convolutional?\n",
        "What about other decisions like pooling layers, activation functions, number of channels / hidden units?"
      ]
    },
    {
      "cell_type": "code",
      "execution_count": 7,
      "metadata": {
        "id": "2dtx1z5951fS"
      },
      "outputs": [],
      "source": [
        "# #Convolutional Neural Network Architecture\n",
        "\n",
        "# class CNN_1(nn.Module):\n",
        "#     def __init__(self):\n",
        "#         super(CNN_1, self).__init__()\n",
        "#         self.name = \"CNN_1\"\n",
        "#         self.conv1 = nn.Conv2d(3,5,5) #goes from 3 x 224 x 224 --> 5 x 220 x 220\n",
        "#         self.pool = nn.MaxPool2d(2, 2)\n",
        "#         self.conv2 = nn.Conv2d(5,5,5) # after Pool1 (5 x 110 x 110 ) --> conv 2 (5 x 106 x 106)\n",
        "\n",
        "\n",
        "#         self.fc1 = nn.Linear(5*53*53, 32) # (out_channels(conv3) * size of resulting pool)\n",
        "#         self.fc2 = nn.Linear(32, 9)\n",
        "\n",
        "#     def forward(self, x):\n",
        "#         x = self.pool(F.relu(self.conv1(x))) # Conv1 (5 x 220 x 220 ) -> ReLU -> Pool (5 x 110 x 110 )\n",
        "#         x = self.pool(F.relu(self.conv2(x))) # conv 2 (5 x 106 x 106) -> ReLU -> Pool (5 x 53 x 53 )\n",
        "#         x = x.view(-1, 5*53*53)\n",
        "\n",
        "#         x = F.relu(self.fc1(x))\n",
        "#         x = self.fc2(x)\n",
        "\n",
        "#         return x"
      ]
    },
    {
      "cell_type": "code",
      "source": [
        "#2 Convolutional Layers Neural Network Architecture\n",
        "\n",
        "class CNN_2(nn.Module):\n",
        "    def __init__(self):\n",
        "        super(CNN_2, self).__init__()\n",
        "        self.name = \"CNN_2\"\n",
        "        self.conv1 = nn.Conv2d(3,5,5) #goes from 3 x 224 x 224 --> 5 x 220 x 220\n",
        "        self.pool = nn.MaxPool2d(2, 2)\n",
        "        self.conv2 = nn.Conv2d(5,10,5) # after Pool1 (5 x 110 x 110 ) --> conv 2 (5 x 106 x 106)\n",
        "\n",
        "\n",
        "\n",
        "        self.fc1 = nn.Linear(10*53*53, 32) # (out_channels(conv3) * size of resulting pool)\n",
        "        self.fc2 = nn.Linear(32, 9)\n",
        "\n",
        "    def forward(self, x):\n",
        "        x = self.pool(F.relu(self.conv1(x))) # Conv1 (5 x 220 x 220 ) -> ReLU -> Pool (5 x 110 x 110 )\n",
        "        x = self.pool(F.relu(self.conv2(x))) # conv 2 (5 x 106 x 106) -> ReLU -> Pool (5 x 53 x 53 )\n",
        "        x = x.view(-1, 10*53*53)\n",
        "\n",
        "        x = F.relu(self.fc1(x))\n",
        "        x = self.fc2(x)\n",
        "\n",
        "        return x"
      ],
      "metadata": {
        "id": "7KeUWVI16ZJe"
      },
      "execution_count": 18,
      "outputs": []
    },
    {
      "cell_type": "code",
      "source": [
        "# class CNN_2(nn.Module):\n",
        "#     def __init__(self):\n",
        "#         super(CNN_2, self).__init__()\n",
        "#         self.name = \"CNN_2\"\n",
        "#         self.conv1 = nn.Conv2d(in_channels=3, out_channels=32, kernel_size= 4, padding= 1, stride = 2) #after size 224\n",
        "#         self.conv2 = nn.Conv2d(in_channels= 32, out_channels = 64, kernel_size= 2, padding = 1, stride = 2) #in_channels, out_chanels, kernel_size - outside\n",
        "#         self.conv3 = nn.Conv2d(in_channels= 64, out_channels = 24, kernel_size= 3, padding= 1, stride = 2 ) #in_channels, out_chanels, kernel_size\n",
        "\n",
        "#         #self.pool = nn.MaxPool2d(2, 2)\n",
        "\n",
        "#         self.fc1 = nn.Linear(24*29*29, 32) # (out_channels(conv3) * size of resulting pool)\n",
        "#         self.fc2 = nn.Linear(32, 9)\n",
        "\n",
        "#     def forward(self, x):\n",
        "#         x = (F.relu(self.conv1(x))) # Conv1 -> ReLU -> Pool (224x224 -> 112x112)\n",
        "#         x = (F.relu(self.conv2(x)))\n",
        "#         x = (F.relu(self.conv3(x)))\n",
        "\n",
        "#         x = x.view(-1, 24*29*29)\n",
        "\n",
        "#         x = F.relu(self.fc1(x))\n",
        "#         x = self.fc2(x)\n",
        "\n",
        "#         return x"
      ],
      "metadata": {
        "id": "38C25oKdxMPr"
      },
      "execution_count": 8,
      "outputs": []
    },
    {
      "cell_type": "code",
      "execution_count": 28,
      "metadata": {
        "id": "h5TMfSuiNqbJ",
        "colab": {
          "base_uri": "https://localhost:8080/",
          "height": 87
        },
        "outputId": "ebc8ae57-13ec-49d1-b2df-7ae6a1ecd6bd"
      },
      "outputs": [
        {
          "output_type": "execute_result",
          "data": {
            "text/plain": [
              "'\\nI edited the CNN Architecture from Pre2A_CNN, which was labeled MNISTClassifier() ; I changed the inital in_channel = 3, since our images are colored (RBG).\\nThis network contains two convolutional layers and pools twice. I kept the ReLu activation function, and this network is fully connected.\\nSince the image is 224x224 i had go to calculate how the image/imput size changes after each convolutional layer and pooling. The resulting size was reflected in:\\n        self.fc1 = nn.Linear(10*53*53, 32) # (out_channels(conv3) * size of resulting pool)\\nand \\n        x = x.view(-1, 10*53*53)\\n\\n'"
            ],
            "application/vnd.google.colaboratory.intrinsic+json": {
              "type": "string"
            }
          },
          "metadata": {},
          "execution_count": 28
        }
      ],
      "source": [
        "'''\n",
        "I edited the CNN Architecture from Pre2A_CNN, which was labeled MNISTClassifier() ; I changed the inital in_channel = 3, since our images are colored (RBG).\n",
        "This network contains two convolutional layers and pools twice. I kept the ReLu activation function, and this network is fully connected.\n",
        "Since the image is 224x224 i had go to calculate how the image/imput size changes after each convolutional layer and pooling. The resulting size was reflected in:\n",
        "        self.fc1 = nn.Linear(10*53*53, 32) # (out_channels(conv3) * size of resulting pool)\n",
        "and\n",
        "        x = x.view(-1, 10*53*53)\n",
        "\n",
        "'''"
      ]
    },
    {
      "cell_type": "markdown",
      "metadata": {
        "id": "XeGvelvb515e"
      },
      "source": [
        "### Part (ii) Training Code [1pt MODEL]\n",
        "\n",
        "Write code that trains your neural network given some training data. Your training code should make it easy\n",
        "to tweak the usual hyperparameters, like batch size, learning rate, and the model object itself. Make sure\n",
        "that you are checkpointing your models from time to time (the frequency is up to you). Explain your choice\n",
        "of loss function and optimizer."
      ]
    },
    {
      "cell_type": "code",
      "source": [
        "###############################################################################\n",
        "# Training\n",
        "#get model name function from A1\n",
        "def get_model_name(name, batch_size, learning_rate, epoch):\n",
        "    \"\"\" Generate a name for the model consisting of all the hyperparameter values\n",
        "\n",
        "    Args:\n",
        "        config: Configuration object containing the hyperparameters\n",
        "    Returns:\n",
        "        path: A string with the hyperparameter name and value concatenated\n",
        "    \"\"\"\n",
        "    path = \"model_{0}_bs{1}_lr{2}_epoch{3}\".format(name,\n",
        "                                                   batch_size,\n",
        "                                                   learning_rate,\n",
        "                                                   epoch)\n",
        "    return path\n",
        "\n",
        "#evalute function from A1, but add GPU usage and accuracy calculation\n",
        "\n",
        "#CAN'T USE ON TRAINING\n",
        "def evaluate(net, loader, criterion):\n",
        "    \"\"\" Evaluate the network on a given dataset.\n",
        "     Args:\n",
        "         net: PyTorch neural network object.\n",
        "         loader: PyTorch DataLoader for data.\n",
        "         criterion: The loss function.\n",
        "     Returns:\n",
        "         err: Average classification error rate over the set.\n",
        "         loss: Average loss value over the set.\n",
        "         accuracy: Average accuracy over the  set.\n",
        "    \"\"\"\n",
        "    #intialize loss/error to be 0\n",
        "    total_loss = 0.0\n",
        "    total_err = 0.0\n",
        "    total_samples = 0\n",
        "\n",
        "    with torch.no_grad(): #disables gradient calculations (makes it more effienct, grad not needed here since we are not updating weigths)\n",
        "        for inputs, labels in loader: #iterates through selected dataset\n",
        "\n",
        "            #############################################\n",
        "            #To Enable GPU Usage\n",
        "            if use_cuda and torch.cuda.is_available():\n",
        "              inputs = inputs.cuda()\n",
        "              labels = labels.cuda()\n",
        "            #############################################\n",
        "\n",
        "            outputs = net(inputs) #gets model prediction\n",
        "\n",
        "            # Compute loss\n",
        "            loss = criterion(outputs, labels)\n",
        "\n",
        "            # Compute classification error\n",
        "            _, predicted = torch.max(outputs, 1) # makes prediction into integers (1,0s) --> highest value becomes 1\n",
        "            total_err += (predicted != labels).sum().item() #adds if prediction was incorrect\n",
        "            total_loss += loss.item() #extracts scalar value from loss and adds it too count\n",
        "            total_samples += len(labels)\n",
        "\n",
        "    err = total_err / total_samples\n",
        "    avg_loss = total_loss / len(loader)\n",
        "    accuracy = 1 - err\n",
        "    return err, avg_loss, accuracy\n",
        "\n",
        "###############################################################################\n",
        "# Training Curve\n",
        "def plot_training_curve(path):\n",
        "    \"\"\" Plot training and validation loss/accuracy curves.\n",
        "\n",
        "    Args:\n",
        "        path: Base path for the CSV files containing training logs.\n",
        "    \"\"\"\n",
        "    import matplotlib.pyplot as plt\n",
        "\n",
        "    train_loss = np.loadtxt(f\"{path}_train_loss.csv\")\n",
        "    val_loss = np.loadtxt(f\"{path}_val_loss.csv\")\n",
        "    train_accuracy = np.loadtxt(f\"{path}_train_accuracy.csv\")\n",
        "    val_accuracy = np.loadtxt(f\"{path}_val_accuracy.csv\")\n",
        "\n",
        "    plt.figure()\n",
        "    plt.title(\"Train vs Validation Loss\")\n",
        "    plt.plot(range(1, len(train_loss) + 1), train_loss, label=\"Train\")\n",
        "    plt.plot(range(1, len(val_loss) + 1), val_loss, label=\"Validation\")\n",
        "    plt.xlabel(\"Epoch\")\n",
        "    plt.ylabel(\"Loss\")\n",
        "    plt.legend(loc='best')\n",
        "    plt.show()\n",
        "\n",
        "    plt.figure()\n",
        "    plt.title(\"Train vs Validation Accuracy\")\n",
        "    plt.plot(range(1, len(train_accuracy) + 1), train_accuracy, label=\"Train\")\n",
        "    plt.plot(range(1, len(val_accuracy) + 1), val_accuracy, label=\"Validation\")\n",
        "    plt.xlabel(\"Epoch\")\n",
        "    plt.ylabel(\"Accuracy\")\n",
        "    plt.legend(loc='best')\n",
        "    plt.show()"
      ],
      "metadata": {
        "id": "SUGG4bYAvyA6"
      },
      "execution_count": 24,
      "outputs": []
    },
    {
      "cell_type": "code",
      "source": [
        "#want models to be saved in models folder\n",
        "%cd \"/content/drive/MyDrive/Colab Notebooks/A2/models\""
      ],
      "metadata": {
        "colab": {
          "base_uri": "https://localhost:8080/"
        },
        "id": "R3jmtsnZ-lvI",
        "outputId": "c7501f2e-75d8-4856-9d92-7073efd8ecae"
      },
      "execution_count": 25,
      "outputs": [
        {
          "output_type": "stream",
          "name": "stdout",
          "text": [
            "/content/drive/MyDrive/Colab Notebooks/A2/models\n"
          ]
        }
      ]
    },
    {
      "cell_type": "code",
      "execution_count": 33,
      "metadata": {
        "id": "Zs8eYG9Oa7Gs"
      },
      "outputs": [],
      "source": [
        "# Combo of A1 training function and GPU training function from Pre2A_CNN\n",
        "def train(net, train_loader, val_loader, batch_size= 64 , learning_rate=0.01, num_epochs = 30, momentum = 0.9):\n",
        "\n",
        "\n",
        "  # Use CrossEntropyLoss for multi-class classification --> learning rate and momentum set as hyperparameters\n",
        "  criterion = nn.CrossEntropyLoss()\n",
        "  optimizer = optim.SGD(net.parameters(), lr= learning_rate, momentum= momentum)\n",
        "\n",
        "  # Use AMP for faster training\n",
        "  scaler = torch.amp.GradScaler(\"cuda\")  # Explicitly specify GPU\n",
        "\n",
        "\n",
        "  # Set up some numpy arrays to store the training/test loss/accuracy\n",
        "  train_err = np.zeros(num_epochs)\n",
        "  train_loss = np.zeros(num_epochs)\n",
        "  train_accuracy = np.zeros(num_epochs)\n",
        "  val_err = np.zeros(num_epochs)\n",
        "  val_loss = np.zeros(num_epochs)\n",
        "  val_accuracy = np.zeros(num_epochs)\n",
        "\n",
        "  # Train the network\n",
        "  # Loop over the data iterator and sample a new batch of training data\n",
        "  # Get the output from the network, and optimize our loss function.\n",
        "  start_time = time.time()\n",
        "\n",
        "  for epoch in range(num_epochs):  # Loop over the dataset multiple times\n",
        "\n",
        "      total_train_loss = 0.0 #initalize loss, error, and epoch\n",
        "      total_train_err = 0.0\n",
        "      total_epoch = 0\n",
        "\n",
        "      for i, data in enumerate(train_loader, 0):  #using enumerate returning both the batch index and the batch data. (more efficient )\n",
        "          # Get the inputs/images\n",
        "          inputs, labels = data\n",
        "          # Zero the parameter gradients\n",
        "          optimizer.zero_grad()\n",
        "\n",
        "\n",
        "          if use_cuda and torch.cuda.is_available():\n",
        "            inputs = inputs.cuda()\n",
        "            labels = labels.cuda()\n",
        "\n",
        "          with autocast():  # Enable mixed precision\n",
        "              outputs = net(inputs)\n",
        "              loss = criterion(outputs, labels)\n",
        "\n",
        "          scaler.scale(loss).backward()  # Scale loss for better precision\n",
        "          scaler.step(optimizer)\n",
        "          scaler.update()\n",
        "\n",
        "\n",
        "          # #############################################\n",
        "          # #To Enable GPU Usage\n",
        "          # if use_cuda and torch.cuda.is_available():\n",
        "          #   inputs = inputs.cuda()\n",
        "          #   labels = labels.cuda()\n",
        "          # #############################################\n",
        "          # outputs = net(inputs)                    # Forward pass\n",
        "          # loss = criterion(outputs, labels)        # compute loss; No need to normalize labels here for CrossEntropyLoss\n",
        "          # loss.backward()                          # backward pass\n",
        "          # optimizer.step()                         # Optimize: make the updates for each parameter\n",
        "\n",
        "          # Calculate the statistics\n",
        "          _, predicted = torch.max(outputs, 1)  # Get the class with the highest probability\n",
        "          total_train_err += (predicted != labels).sum().item()  # Count errors\n",
        "          total_train_loss += loss.item()\n",
        "          total_epoch += len(labels)\n",
        "\n",
        "      # Calculate error and loss for the training and validation set\n",
        "      train_err[epoch] = float(total_train_err) / total_epoch\n",
        "      train_loss[epoch] = float(total_train_loss) / (i + 1)\n",
        "      train_accuracy[epoch] = 1 - train_err[epoch]\n",
        "      val_err[epoch], val_loss[epoch], val_accuracy[epoch] = evaluate(net, val_loader, criterion)\n",
        "\n",
        "      # Print stats for the current epoch\n",
        "      print(f\"Epoch {epoch + 1}: Train err: {train_err[epoch]:.4f}, Train loss: {train_loss[epoch]:.4f} | \"\n",
        "            f\"Validation err: {val_err[epoch]:.4f}, Validation loss: {val_loss[epoch]:.4f} | \"\n",
        "            f\"Train accuracy: {train_accuracy[epoch]:.4f}, Validation accuracy: {val_accuracy[epoch]:.4f}\")\n",
        "\n",
        "      # Save the current model (checkpoint) to a file\n",
        "      model_path = get_model_name(net.name, batch_size, learning_rate, epoch)\n",
        "      torch.save(net.state_dict(), model_path)\n",
        "\n",
        "  print('Finished Training')\n",
        "  end_time = time.time()\n",
        "  elapsed_time = end_time - start_time\n",
        "  print(f\"Total time elapsed: {elapsed_time:.2f} seconds\")\n",
        "\n",
        "  # Write the train/test loss/error into CSV files for plotting later\n",
        "  epochs = np.arange(1, num_epochs + 1)\n",
        "  np.savetxt(f\"{model_path}_train_err.csv\", train_err)\n",
        "  np.savetxt(f\"{model_path}_train_loss.csv\", train_loss)\n",
        "  np.savetxt(f\"{model_path}_train_accuracy.csv\", train_accuracy)\n",
        "  np.savetxt(f\"{model_path}_val_err.csv\", val_err)\n",
        "  np.savetxt(f\"{model_path}_val_loss.csv\", val_loss)\n",
        "  np.savetxt(f\"{model_path}_val_accuracy.csv\", val_accuracy)"
      ]
    },
    {
      "cell_type": "markdown",
      "source": [],
      "metadata": {
        "id": "3dCfEBZBwH11"
      }
    },
    {
      "cell_type": "code",
      "execution_count": null,
      "metadata": {
        "id": "kQNirDVYa7Gt"
      },
      "outputs": [],
      "source": [
        "'''\n",
        "I used a very similiar training set up as in A1 - I wanted to be sure to save the model and make it easy to plot information.\n",
        "I made the data_dir a parameter for the function, allowing it to be applied to other datasets. Momentum is now a hyperparater unlike\n",
        "in A1. I also enabled GPU to be used for the training. I also calcuated accuracy as another metric to evaluate the model.\n",
        "\n",
        "I also wanted to evaluate the model and plot the training curve outside of the training function. I used the evaluate() function from A1,\n",
        "enabling GPUs if available and also adding accuracy as a part of the model. I kept the get_model_name() function from A1 to pull\n",
        "the data when it is saved.\n",
        "'''"
      ]
    },
    {
      "cell_type": "markdown",
      "metadata": {
        "id": "bk1RNgAj54rZ"
      },
      "source": [
        "### Part (iii) “Overfit” to a Small Dataset - [1pt MODEL]\n",
        "\n",
        "One way to sanity check our neural network model and training code is to check whether the model is capable\n",
        "of “overfitting” or “memorizing” a small dataset. A properly constructed CNN with correct training code\n",
        "should be able to memorize the answers to a small number of images quickly.\n",
        "\n",
        "Construct a small dataset (e.g. just the images that you have collected). Then show that your model and\n",
        "training code is capable of memorizing the labels of this small data set.\n",
        "\n",
        "With a large batch size (e.g. the entire small dataset) and learning rate that is not too high, you should be\n",
        "able to obtain a 100% training accuracy on that small dataset relatively quickly (within 200 iterations)."
      ]
    },
    {
      "cell_type": "code",
      "source": [
        "#Making a folder/directory for this dataset\n",
        "sanity_dataset_dir = \"/content/drive/MyDrive/Colab Notebooks/A2/White_1011790073/White_1011790073\"\n",
        "batch_size = 1\n",
        "\n",
        "train_loader, val_loader, classes  = data_loader_train_val(data_dir = sanity_dataset_dir, batch_size=batch_size,  valid_split= 0.2)"
      ],
      "metadata": {
        "colab": {
          "base_uri": "https://localhost:8080/"
        },
        "id": "3WGj76QFHsVt",
        "outputId": "e0901930-6ed0-4a2a-e889-f09873c8fceb"
      },
      "execution_count": 26,
      "outputs": [
        {
          "output_type": "stream",
          "name": "stdout",
          "text": [
            "Total dataset size: 27\n",
            "Train dataset size: 22\n",
            "Validation dataset size: 5\n"
          ]
        }
      ]
    },
    {
      "cell_type": "code",
      "source": [
        "# TO BE COMPLETED\n",
        "use_cuda = True\n",
        "model = CNN_2()\n",
        "\n",
        "if use_cuda and torch.cuda.is_available():\n",
        "  model.cuda()\n",
        "  print('CUDA is available!  Training on GPU ...')\n",
        "else:\n",
        "  print('CUDA is not available.  Training on CPU ...')\n",
        "\n",
        "# Combo of A1 training function and GPU training function from Pre2A_CNN\n",
        "train(net = model, train_loader = train_loader, val_loader = val_loader, batch_size= 22, num_epochs= 100, learning_rate= 0.001)"
      ],
      "metadata": {
        "colab": {
          "base_uri": "https://localhost:8080/"
        },
        "collapsed": true,
        "id": "noKskKN06lr_",
        "outputId": "9ea5411c-5a82-41b9-be3e-2355f585d72d"
      },
      "execution_count": 27,
      "outputs": [
        {
          "output_type": "stream",
          "name": "stdout",
          "text": [
            "CUDA is available!  Training on GPU ...\n",
            "Epoch 1: Train err: 0.9545, Train loss: 2.2248 | Validation err: 1.0000, Validation loss: 2.2016 | Train accuracy: 0.0455, Validation accuracy: 0.0000\n",
            "Epoch 2: Train err: 0.7273, Train loss: 2.1836 | Validation err: 0.8000, Validation loss: 2.1853 | Train accuracy: 0.2727, Validation accuracy: 0.2000\n",
            "Epoch 3: Train err: 0.6364, Train loss: 2.1536 | Validation err: 1.0000, Validation loss: 2.1468 | Train accuracy: 0.3636, Validation accuracy: 0.0000\n",
            "Epoch 4: Train err: 0.6364, Train loss: 2.0593 | Validation err: 0.6000, Validation loss: 1.9857 | Train accuracy: 0.3636, Validation accuracy: 0.4000\n",
            "Epoch 5: Train err: 0.5909, Train loss: 1.6736 | Validation err: 0.8000, Validation loss: 2.3019 | Train accuracy: 0.4091, Validation accuracy: 0.2000\n",
            "Epoch 6: Train err: 0.5909, Train loss: 1.4291 | Validation err: 0.8000, Validation loss: 1.6739 | Train accuracy: 0.4091, Validation accuracy: 0.2000\n",
            "Epoch 7: Train err: 0.3636, Train loss: 0.9104 | Validation err: 0.6000, Validation loss: 1.3374 | Train accuracy: 0.6364, Validation accuracy: 0.4000\n",
            "Epoch 8: Train err: 0.0455, Train loss: 0.5309 | Validation err: 0.4000, Validation loss: 1.7414 | Train accuracy: 0.9545, Validation accuracy: 0.6000\n",
            "Epoch 9: Train err: 0.1818, Train loss: 0.5653 | Validation err: 0.6000, Validation loss: 1.7611 | Train accuracy: 0.8182, Validation accuracy: 0.4000\n",
            "Epoch 10: Train err: 0.1818, Train loss: 0.7780 | Validation err: 0.6000, Validation loss: 1.4687 | Train accuracy: 0.8182, Validation accuracy: 0.4000\n",
            "Epoch 11: Train err: 0.1364, Train loss: 0.3892 | Validation err: 0.4000, Validation loss: 0.8668 | Train accuracy: 0.8636, Validation accuracy: 0.6000\n",
            "Epoch 12: Train err: 0.1364, Train loss: 0.2802 | Validation err: 0.6000, Validation loss: 1.0457 | Train accuracy: 0.8636, Validation accuracy: 0.4000\n",
            "Epoch 13: Train err: 0.1818, Train loss: 0.8082 | Validation err: 0.6000, Validation loss: 1.4779 | Train accuracy: 0.8182, Validation accuracy: 0.4000\n",
            "Epoch 14: Train err: 0.1818, Train loss: 0.4713 | Validation err: 0.6000, Validation loss: 1.1955 | Train accuracy: 0.8182, Validation accuracy: 0.4000\n",
            "Epoch 15: Train err: 0.1818, Train loss: 0.4088 | Validation err: 0.4000, Validation loss: 1.2131 | Train accuracy: 0.8182, Validation accuracy: 0.6000\n",
            "Epoch 16: Train err: 0.1818, Train loss: 0.3855 | Validation err: 0.4000, Validation loss: 1.1286 | Train accuracy: 0.8182, Validation accuracy: 0.6000\n",
            "Epoch 17: Train err: 0.1818, Train loss: 0.3976 | Validation err: 0.4000, Validation loss: 1.1412 | Train accuracy: 0.8182, Validation accuracy: 0.6000\n",
            "Epoch 18: Train err: 0.1818, Train loss: 0.3489 | Validation err: 0.4000, Validation loss: 0.9961 | Train accuracy: 0.8182, Validation accuracy: 0.6000\n",
            "Epoch 19: Train err: 0.1818, Train loss: 0.3375 | Validation err: 0.4000, Validation loss: 0.9680 | Train accuracy: 0.8182, Validation accuracy: 0.6000\n",
            "Epoch 20: Train err: 0.1818, Train loss: 0.2962 | Validation err: 0.4000, Validation loss: 1.0246 | Train accuracy: 0.8182, Validation accuracy: 0.6000\n",
            "Epoch 21: Train err: 0.1818, Train loss: 0.3764 | Validation err: 0.4000, Validation loss: 1.1064 | Train accuracy: 0.8182, Validation accuracy: 0.6000\n",
            "Epoch 22: Train err: 0.1818, Train loss: 0.3767 | Validation err: 0.4000, Validation loss: 1.1462 | Train accuracy: 0.8182, Validation accuracy: 0.6000\n",
            "Epoch 23: Train err: 0.1818, Train loss: 0.3443 | Validation err: 0.4000, Validation loss: 1.5945 | Train accuracy: 0.8182, Validation accuracy: 0.6000\n",
            "Epoch 24: Train err: 0.1818, Train loss: 0.4903 | Validation err: 0.4000, Validation loss: 1.2402 | Train accuracy: 0.8182, Validation accuracy: 0.6000\n",
            "Epoch 25: Train err: 0.0909, Train loss: 0.2762 | Validation err: 0.2000, Validation loss: 0.7450 | Train accuracy: 0.9091, Validation accuracy: 0.8000\n",
            "Epoch 26: Train err: 0.0909, Train loss: 0.1717 | Validation err: 0.2000, Validation loss: 0.6285 | Train accuracy: 0.9091, Validation accuracy: 0.8000\n",
            "Epoch 27: Train err: 0.0455, Train loss: 0.1567 | Validation err: 0.2000, Validation loss: 0.5316 | Train accuracy: 0.9545, Validation accuracy: 0.8000\n",
            "Epoch 28: Train err: 0.0000, Train loss: 0.0838 | Validation err: 0.6000, Validation loss: 0.7431 | Train accuracy: 1.0000, Validation accuracy: 0.4000\n",
            "Epoch 29: Train err: 0.0455, Train loss: 0.2296 | Validation err: 0.2000, Validation loss: 0.4202 | Train accuracy: 0.9545, Validation accuracy: 0.8000\n",
            "Epoch 30: Train err: 0.0000, Train loss: 0.1596 | Validation err: 0.0000, Validation loss: 0.3456 | Train accuracy: 1.0000, Validation accuracy: 1.0000\n",
            "Epoch 31: Train err: 0.0000, Train loss: 0.0389 | Validation err: 0.4000, Validation loss: 0.6957 | Train accuracy: 1.0000, Validation accuracy: 0.6000\n",
            "Epoch 32: Train err: 0.0000, Train loss: 0.0099 | Validation err: 0.4000, Validation loss: 0.5241 | Train accuracy: 1.0000, Validation accuracy: 0.6000\n",
            "Epoch 33: Train err: 0.0000, Train loss: 0.0038 | Validation err: 0.4000, Validation loss: 0.5183 | Train accuracy: 1.0000, Validation accuracy: 0.6000\n",
            "Epoch 34: Train err: 0.0000, Train loss: 0.0026 | Validation err: 0.4000, Validation loss: 0.5021 | Train accuracy: 1.0000, Validation accuracy: 0.6000\n",
            "Epoch 35: Train err: 0.0000, Train loss: 0.0018 | Validation err: 0.4000, Validation loss: 0.5036 | Train accuracy: 1.0000, Validation accuracy: 0.6000\n",
            "Epoch 36: Train err: 0.0000, Train loss: 0.0016 | Validation err: 0.4000, Validation loss: 0.5081 | Train accuracy: 1.0000, Validation accuracy: 0.6000\n",
            "Epoch 37: Train err: 0.0000, Train loss: 0.0013 | Validation err: 0.4000, Validation loss: 0.4879 | Train accuracy: 1.0000, Validation accuracy: 0.6000\n",
            "Epoch 38: Train err: 0.0000, Train loss: 0.0011 | Validation err: 0.4000, Validation loss: 0.4784 | Train accuracy: 1.0000, Validation accuracy: 0.6000\n",
            "Epoch 39: Train err: 0.0000, Train loss: 0.0010 | Validation err: 0.4000, Validation loss: 0.4825 | Train accuracy: 1.0000, Validation accuracy: 0.6000\n",
            "Epoch 40: Train err: 0.0000, Train loss: 0.0008 | Validation err: 0.4000, Validation loss: 0.4770 | Train accuracy: 1.0000, Validation accuracy: 0.6000\n",
            "Epoch 41: Train err: 0.0000, Train loss: 0.0008 | Validation err: 0.4000, Validation loss: 0.4725 | Train accuracy: 1.0000, Validation accuracy: 0.6000\n",
            "Epoch 42: Train err: 0.0000, Train loss: 0.0007 | Validation err: 0.4000, Validation loss: 0.4835 | Train accuracy: 1.0000, Validation accuracy: 0.6000\n",
            "Epoch 43: Train err: 0.0000, Train loss: 0.0006 | Validation err: 0.4000, Validation loss: 0.4789 | Train accuracy: 1.0000, Validation accuracy: 0.6000\n",
            "Epoch 44: Train err: 0.0000, Train loss: 0.0006 | Validation err: 0.4000, Validation loss: 0.4682 | Train accuracy: 1.0000, Validation accuracy: 0.6000\n",
            "Epoch 45: Train err: 0.0000, Train loss: 0.0006 | Validation err: 0.4000, Validation loss: 0.4650 | Train accuracy: 1.0000, Validation accuracy: 0.6000\n",
            "Epoch 46: Train err: 0.0000, Train loss: 0.0005 | Validation err: 0.4000, Validation loss: 0.4677 | Train accuracy: 1.0000, Validation accuracy: 0.6000\n",
            "Epoch 47: Train err: 0.0000, Train loss: 0.0005 | Validation err: 0.4000, Validation loss: 0.4683 | Train accuracy: 1.0000, Validation accuracy: 0.6000\n",
            "Epoch 48: Train err: 0.0000, Train loss: 0.0004 | Validation err: 0.4000, Validation loss: 0.4614 | Train accuracy: 1.0000, Validation accuracy: 0.6000\n",
            "Epoch 49: Train err: 0.0000, Train loss: 0.0004 | Validation err: 0.4000, Validation loss: 0.4634 | Train accuracy: 1.0000, Validation accuracy: 0.6000\n",
            "Epoch 50: Train err: 0.0000, Train loss: 0.0004 | Validation err: 0.4000, Validation loss: 0.4593 | Train accuracy: 1.0000, Validation accuracy: 0.6000\n",
            "Epoch 51: Train err: 0.0000, Train loss: 0.0004 | Validation err: 0.4000, Validation loss: 0.4574 | Train accuracy: 1.0000, Validation accuracy: 0.6000\n",
            "Epoch 52: Train err: 0.0000, Train loss: 0.0004 | Validation err: 0.4000, Validation loss: 0.4542 | Train accuracy: 1.0000, Validation accuracy: 0.6000\n",
            "Epoch 53: Train err: 0.0000, Train loss: 0.0003 | Validation err: 0.4000, Validation loss: 0.4551 | Train accuracy: 1.0000, Validation accuracy: 0.6000\n",
            "Epoch 54: Train err: 0.0000, Train loss: 0.0003 | Validation err: 0.4000, Validation loss: 0.4530 | Train accuracy: 1.0000, Validation accuracy: 0.6000\n",
            "Epoch 55: Train err: 0.0000, Train loss: 0.0003 | Validation err: 0.4000, Validation loss: 0.4554 | Train accuracy: 1.0000, Validation accuracy: 0.6000\n",
            "Epoch 56: Train err: 0.0000, Train loss: 0.0003 | Validation err: 0.4000, Validation loss: 0.4548 | Train accuracy: 1.0000, Validation accuracy: 0.6000\n",
            "Epoch 57: Train err: 0.0000, Train loss: 0.0003 | Validation err: 0.4000, Validation loss: 0.4535 | Train accuracy: 1.0000, Validation accuracy: 0.6000\n",
            "Epoch 58: Train err: 0.0000, Train loss: 0.0003 | Validation err: 0.4000, Validation loss: 0.4531 | Train accuracy: 1.0000, Validation accuracy: 0.6000\n",
            "Epoch 59: Train err: 0.0000, Train loss: 0.0003 | Validation err: 0.4000, Validation loss: 0.4515 | Train accuracy: 1.0000, Validation accuracy: 0.6000\n",
            "Epoch 60: Train err: 0.0000, Train loss: 0.0003 | Validation err: 0.4000, Validation loss: 0.4509 | Train accuracy: 1.0000, Validation accuracy: 0.6000\n",
            "Epoch 61: Train err: 0.0000, Train loss: 0.0002 | Validation err: 0.4000, Validation loss: 0.4455 | Train accuracy: 1.0000, Validation accuracy: 0.6000\n",
            "Epoch 62: Train err: 0.0000, Train loss: 0.0002 | Validation err: 0.4000, Validation loss: 0.4466 | Train accuracy: 1.0000, Validation accuracy: 0.6000\n",
            "Epoch 63: Train err: 0.0000, Train loss: 0.0002 | Validation err: 0.4000, Validation loss: 0.4448 | Train accuracy: 1.0000, Validation accuracy: 0.6000\n",
            "Epoch 64: Train err: 0.0000, Train loss: 0.0002 | Validation err: 0.4000, Validation loss: 0.4439 | Train accuracy: 1.0000, Validation accuracy: 0.6000\n",
            "Epoch 65: Train err: 0.0000, Train loss: 0.0002 | Validation err: 0.4000, Validation loss: 0.4479 | Train accuracy: 1.0000, Validation accuracy: 0.6000\n",
            "Epoch 66: Train err: 0.0000, Train loss: 0.0002 | Validation err: 0.4000, Validation loss: 0.4454 | Train accuracy: 1.0000, Validation accuracy: 0.6000\n",
            "Epoch 67: Train err: 0.0000, Train loss: 0.0002 | Validation err: 0.4000, Validation loss: 0.4448 | Train accuracy: 1.0000, Validation accuracy: 0.6000\n",
            "Epoch 68: Train err: 0.0000, Train loss: 0.0002 | Validation err: 0.4000, Validation loss: 0.4431 | Train accuracy: 1.0000, Validation accuracy: 0.6000\n",
            "Epoch 69: Train err: 0.0000, Train loss: 0.0002 | Validation err: 0.4000, Validation loss: 0.4427 | Train accuracy: 1.0000, Validation accuracy: 0.6000\n",
            "Epoch 70: Train err: 0.0000, Train loss: 0.0002 | Validation err: 0.4000, Validation loss: 0.4414 | Train accuracy: 1.0000, Validation accuracy: 0.6000\n",
            "Epoch 71: Train err: 0.0000, Train loss: 0.0002 | Validation err: 0.4000, Validation loss: 0.4423 | Train accuracy: 1.0000, Validation accuracy: 0.6000\n",
            "Epoch 72: Train err: 0.0000, Train loss: 0.0002 | Validation err: 0.4000, Validation loss: 0.4419 | Train accuracy: 1.0000, Validation accuracy: 0.6000\n",
            "Epoch 73: Train err: 0.0000, Train loss: 0.0002 | Validation err: 0.4000, Validation loss: 0.4400 | Train accuracy: 1.0000, Validation accuracy: 0.6000\n",
            "Epoch 74: Train err: 0.0000, Train loss: 0.0002 | Validation err: 0.4000, Validation loss: 0.4390 | Train accuracy: 1.0000, Validation accuracy: 0.6000\n",
            "Epoch 75: Train err: 0.0000, Train loss: 0.0002 | Validation err: 0.4000, Validation loss: 0.4390 | Train accuracy: 1.0000, Validation accuracy: 0.6000\n",
            "Epoch 76: Train err: 0.0000, Train loss: 0.0002 | Validation err: 0.4000, Validation loss: 0.4370 | Train accuracy: 1.0000, Validation accuracy: 0.6000\n",
            "Epoch 77: Train err: 0.0000, Train loss: 0.0002 | Validation err: 0.4000, Validation loss: 0.4386 | Train accuracy: 1.0000, Validation accuracy: 0.6000\n",
            "Epoch 78: Train err: 0.0000, Train loss: 0.0001 | Validation err: 0.4000, Validation loss: 0.4380 | Train accuracy: 1.0000, Validation accuracy: 0.6000\n",
            "Epoch 79: Train err: 0.0000, Train loss: 0.0001 | Validation err: 0.4000, Validation loss: 0.4359 | Train accuracy: 1.0000, Validation accuracy: 0.6000\n",
            "Epoch 80: Train err: 0.0000, Train loss: 0.0001 | Validation err: 0.4000, Validation loss: 0.4355 | Train accuracy: 1.0000, Validation accuracy: 0.6000\n",
            "Epoch 81: Train err: 0.0000, Train loss: 0.0001 | Validation err: 0.4000, Validation loss: 0.4363 | Train accuracy: 1.0000, Validation accuracy: 0.6000\n",
            "Epoch 82: Train err: 0.0000, Train loss: 0.0001 | Validation err: 0.4000, Validation loss: 0.4344 | Train accuracy: 1.0000, Validation accuracy: 0.6000\n",
            "Epoch 83: Train err: 0.0000, Train loss: 0.0001 | Validation err: 0.4000, Validation loss: 0.4361 | Train accuracy: 1.0000, Validation accuracy: 0.6000\n",
            "Epoch 84: Train err: 0.0000, Train loss: 0.0001 | Validation err: 0.4000, Validation loss: 0.4350 | Train accuracy: 1.0000, Validation accuracy: 0.6000\n",
            "Epoch 85: Train err: 0.0000, Train loss: 0.0001 | Validation err: 0.4000, Validation loss: 0.4346 | Train accuracy: 1.0000, Validation accuracy: 0.6000\n",
            "Epoch 86: Train err: 0.0000, Train loss: 0.0001 | Validation err: 0.4000, Validation loss: 0.4329 | Train accuracy: 1.0000, Validation accuracy: 0.6000\n",
            "Epoch 87: Train err: 0.0000, Train loss: 0.0001 | Validation err: 0.4000, Validation loss: 0.4344 | Train accuracy: 1.0000, Validation accuracy: 0.6000\n",
            "Epoch 88: Train err: 0.0000, Train loss: 0.0001 | Validation err: 0.4000, Validation loss: 0.4331 | Train accuracy: 1.0000, Validation accuracy: 0.6000\n",
            "Epoch 89: Train err: 0.0000, Train loss: 0.0001 | Validation err: 0.4000, Validation loss: 0.4333 | Train accuracy: 1.0000, Validation accuracy: 0.6000\n",
            "Epoch 90: Train err: 0.0000, Train loss: 0.0001 | Validation err: 0.4000, Validation loss: 0.4305 | Train accuracy: 1.0000, Validation accuracy: 0.6000\n",
            "Epoch 91: Train err: 0.0000, Train loss: 0.0001 | Validation err: 0.4000, Validation loss: 0.4294 | Train accuracy: 1.0000, Validation accuracy: 0.6000\n",
            "Epoch 92: Train err: 0.0000, Train loss: 0.0001 | Validation err: 0.4000, Validation loss: 0.4316 | Train accuracy: 1.0000, Validation accuracy: 0.6000\n",
            "Epoch 93: Train err: 0.0000, Train loss: 0.0001 | Validation err: 0.4000, Validation loss: 0.4315 | Train accuracy: 1.0000, Validation accuracy: 0.6000\n",
            "Epoch 94: Train err: 0.0000, Train loss: 0.0001 | Validation err: 0.4000, Validation loss: 0.4301 | Train accuracy: 1.0000, Validation accuracy: 0.6000\n",
            "Epoch 95: Train err: 0.0000, Train loss: 0.0001 | Validation err: 0.4000, Validation loss: 0.4281 | Train accuracy: 1.0000, Validation accuracy: 0.6000\n",
            "Epoch 96: Train err: 0.0000, Train loss: 0.0001 | Validation err: 0.4000, Validation loss: 0.4305 | Train accuracy: 1.0000, Validation accuracy: 0.6000\n",
            "Epoch 97: Train err: 0.0000, Train loss: 0.0001 | Validation err: 0.4000, Validation loss: 0.4283 | Train accuracy: 1.0000, Validation accuracy: 0.6000\n",
            "Epoch 98: Train err: 0.0000, Train loss: 0.0001 | Validation err: 0.4000, Validation loss: 0.4290 | Train accuracy: 1.0000, Validation accuracy: 0.6000\n",
            "Epoch 99: Train err: 0.0000, Train loss: 0.0001 | Validation err: 0.4000, Validation loss: 0.4287 | Train accuracy: 1.0000, Validation accuracy: 0.6000\n",
            "Epoch 100: Train err: 0.0000, Train loss: 0.0001 | Validation err: 0.4000, Validation loss: 0.4266 | Train accuracy: 1.0000, Validation accuracy: 0.6000\n",
            "Finished Training\n",
            "Total time elapsed: 50.90 seconds\n"
          ]
        }
      ]
    },
    {
      "cell_type": "code",
      "source": [
        "path = get_model_name(model.name, batch_size =  22,  learning_rate= 0.001, epoch = 99)\n",
        "plot_training_curve(path)"
      ],
      "metadata": {
        "colab": {
          "base_uri": "https://localhost:8080/",
          "height": 927
        },
        "id": "XDPrY_1w_8u_",
        "outputId": "a3e1f952-da87-49a1-e3ee-042991e86a78"
      },
      "execution_count": 36,
      "outputs": [
        {
          "output_type": "display_data",
          "data": {
            "text/plain": [
              "<Figure size 640x480 with 1 Axes>"
            ],
            "image/png": "[encoded data removed]"
          },
          "metadata": {}
        },
        {
          "output_type": "display_data",
          "data": {
            "text/plain": [
              "<Figure size 640x480 with 1 Axes>"
            ],
            "image/png": "[encoded data removed]"
          },
          "metadata": {}
        }
      ]
    },
    {
      "cell_type": "markdown",
      "metadata": {
        "id": "nvDLw-Vz6eVS"
      },
      "source": [
        "## Part 3. Hyperparameter Search [7pt]\n",
        "\n",
        "### Part (i) - [2pt EXPLORATORY]\n",
        "\n",
        "List 3 hyperparameters that you think are most worth tuning. Choose at least one hyperparameter related to\n",
        "the model architecture."
      ]
    },
    {
      "cell_type": "code",
      "execution_count": 37,
      "metadata": {
        "id": "Q04SaRRjbFCR",
        "colab": {
          "base_uri": "https://localhost:8080/",
          "height": 35
        },
        "outputId": "b71cae94-87f8-4851-9c3d-61cf1cb51dee"
      },
      "outputs": [
        {
          "output_type": "execute_result",
          "data": {
            "text/plain": [
              "'\\nBatch size, learning rate, and number of hidden layers are the 3 hyperparameters I think are the most worth training. \\n\\n\\n'"
            ],
            "application/vnd.google.colaboratory.intrinsic+json": {
              "type": "string"
            }
          },
          "metadata": {},
          "execution_count": 37
        }
      ],
      "source": [
        "'''\n",
        "Batch size, learning rate, and number of hidden layers are the 3 hyperparameters I think are the most worth training.\n",
        "\n",
        "'''"
      ]
    },
    {
      "cell_type": "markdown",
      "metadata": {
        "id": "zeD6EzPB6kSW"
      },
      "source": [
        "### Part (ii) - [1pt MODEL]\n",
        "\n",
        "Tune the hyperparameters you listed in Part (i), trying as many values as you need to until you feel satisfied\n",
        "that you are getting a good model. Plot the training curve of at least 4 different hyperparameter settings."
      ]
    },
    {
      "cell_type": "code",
      "source": [
        "import torch\n",
        "print(\"CUDA Available:\", torch.cuda.is_available())\n",
        "print(\"GPU:\", torch.cuda.get_device_name(0))\n",
        "print(\"Mixed Precision Available:\", torch.cuda.is_bf16_supported() or torch.cuda.is_fp16_supported())\n"
      ],
      "metadata": {
        "colab": {
          "base_uri": "https://localhost:8080/"
        },
        "id": "nRjcUPfN1j59",
        "outputId": "acfc9366-46fd-487e-80fc-d1a0270ef28c"
      },
      "execution_count": 34,
      "outputs": [
        {
          "output_type": "stream",
          "name": "stdout",
          "text": [
            "CUDA Available: True\n",
            "GPU: Tesla T4\n",
            "Mixed Precision Available: True\n"
          ]
        }
      ]
    },
    {
      "cell_type": "code",
      "execution_count": 38,
      "metadata": {
        "id": "rDRiNGW8bJ-y"
      },
      "outputs": [],
      "source": [
        "# Define CNN model with variable hidden layers\n",
        "class CNN_Optuna(nn.Module):\n",
        "    def __init__(self, hidden_units):\n",
        "        super(CNN_Optuna, self).__init__()\n",
        "        self.name = \"CNN_Optuna\"\n",
        "        self.conv1 = nn.Conv2d(3, 5, 5) # Input: 3x224x224 -> Output: 5x220x220\n",
        "        self.pool = nn.MaxPool2d(2, 2)  # Pooling reduces to 5x110x110\n",
        "        self.conv2 = nn.Conv2d(5, 10, 5) # Output: 10x106x106\n",
        "        self.fc1 = nn.Linear(10 * 53 * 53, hidden_units) # Fully connected layer\n",
        "        self.fc2 = nn.Linear(hidden_units, 9) # Output layer\n",
        "\n",
        "    def forward(self, x):\n",
        "        x = self.pool(F.relu(self.conv1(x)))\n",
        "        x = self.pool(F.relu(self.conv2(x)))\n",
        "        x = x.view(-1, 10 * 53 * 53)\n",
        "        x = F.relu(self.fc1(x))\n",
        "        x = self.fc2(x)\n",
        "        return x\n",
        "\n",
        "def objective(trial, train_loader, val_loader):\n",
        "    learning_rate = trial.suggest_float('learning_rate', 1e-4, 1e-1, log=True)\n",
        "    batch_size = trial.suggest_categorical('batch_size', [16, 32, 64, 128])\n",
        "    hidden_units = trial.suggest_int('hidden_units', 16, 128, step=16)\n",
        "\n",
        "    model = CNN_Optuna(hidden_units)\n",
        "    if use_cuda and torch.cuda.is_available():\n",
        "        model.cuda()\n",
        "\n",
        "    train(model, train_loader, val_loader, batch_size=batch_size, learning_rate=learning_rate, num_epochs=30)\n",
        "    val_err, _, _ = evaluate(model, val_loader, nn.CrossEntropyLoss())\n",
        "    return val_err"
      ]
    },
    {
      "cell_type": "code",
      "source": [
        "dir = \"/content/drive/MyDrive/Colab Notebooks/A2/Gesture_Dataset_train_val/Gesture_Dataset_train_val\"\n",
        "batch_size = 64\n",
        "train_loader, val_loader, classes  = data_loader_train_val(\n",
        "    data_dir = dir, batch_size=batch_size,  valid_split= 0.2)"
      ],
      "metadata": {
        "colab": {
          "base_uri": "https://localhost:8080/"
        },
        "id": "DvcPp1Fgxkf4",
        "outputId": "224b9443-a15c-48ca-99e5-3b80e9415553"
      },
      "execution_count": 36,
      "outputs": [
        {
          "output_type": "stream",
          "name": "stdout",
          "text": [
            "Total dataset size: 2189\n",
            "Train dataset size: 1752\n",
            "Validation dataset size: 437\n"
          ]
        }
      ]
    },
    {
      "cell_type": "code",
      "source": [
        "# Run Bayesian Optimization\n",
        "use_cuda = True\n",
        "\n",
        "if use_cuda and torch.cuda.is_available():\n",
        "  print('CUDA is available!  Training on GPU ...')\n",
        "else:\n",
        "  print('CUDA is not available.  Training on CPU ...')\n",
        "\n",
        "study = optuna.create_study(direction='minimize')\n",
        "study.optimize(lambda trial: objective(trial, train_loader, val_loader), n_trials=15)\n",
        "\n",
        "# Print best hyperparameters\n",
        "print(\"Best hyperparameters:\", study.best_params)"
      ],
      "metadata": {
        "colab": {
          "base_uri": "https://localhost:8080/"
        },
        "id": "LU1sZHplv9mO",
        "outputId": "64a639bf-2bfd-47ad-b15b-6f2deb6f4926"
      },
      "execution_count": 39,
      "outputs": [
        {
          "output_type": "stream",
          "name": "stderr",
          "text": [
            "[I 2025-02-09 18:03:08,365] A new study created in memory with name: no-name-0d516537-9cc6-4adf-a675-2561fda55d60\n"
          ]
        },
        {
          "output_type": "stream",
          "name": "stdout",
          "text": [
            "CUDA is available!  Training on GPU ...\n"
          ]
        },
        {
          "output_type": "stream",
          "name": "stderr",
          "text": [
            "<ipython-input-33-7dc65c2b7e2c>:43: FutureWarning: `torch.cuda.amp.autocast(args...)` is deprecated. Please use `torch.amp.autocast('cuda', args...)` instead.\n",
            "  with autocast():  # Enable mixed precision\n"
          ]
        },
        {
          "output_type": "stream",
          "name": "stdout",
          "text": [
            "Epoch 1: Train err: 0.8031, Train loss: 2.2341 | Validation err: 0.9153, Validation loss: 2.2066 | Train accuracy: 0.1969, Validation accuracy: 0.0847\n",
            "Epoch 2: Train err: 0.8807, Train loss: 2.2019 | Validation err: 0.9153, Validation loss: 2.2007 | Train accuracy: 0.1193, Validation accuracy: 0.0847\n",
            "Epoch 3: Train err: 0.8870, Train loss: 2.1957 | Validation err: 0.9199, Validation loss: 2.1908 | Train accuracy: 0.1130, Validation accuracy: 0.0801\n",
            "Epoch 4: Train err: 0.7192, Train loss: 1.9903 | Validation err: 0.6156, Validation loss: 1.6895 | Train accuracy: 0.2808, Validation accuracy: 0.3844\n",
            "Epoch 5: Train err: 0.4817, Train loss: 1.3459 | Validation err: 0.4828, Validation loss: 1.4974 | Train accuracy: 0.5183, Validation accuracy: 0.5172\n",
            "Epoch 6: Train err: 0.3659, Train loss: 1.0019 | Validation err: 0.4645, Validation loss: 1.3827 | Train accuracy: 0.6341, Validation accuracy: 0.5355\n",
            "Epoch 7: Train err: 0.2842, Train loss: 0.7792 | Validation err: 0.4805, Validation loss: 1.4843 | Train accuracy: 0.7158, Validation accuracy: 0.5195\n",
            "Epoch 8: Train err: 0.2135, Train loss: 0.6144 | Validation err: 0.4416, Validation loss: 1.7785 | Train accuracy: 0.7865, Validation accuracy: 0.5584\n",
            "Epoch 9: Train err: 0.1592, Train loss: 0.4444 | Validation err: 0.4325, Validation loss: 1.9022 | Train accuracy: 0.8408, Validation accuracy: 0.5675\n",
            "Epoch 10: Train err: 0.1478, Train loss: 0.4058 | Validation err: 0.4691, Validation loss: 2.2852 | Train accuracy: 0.8522, Validation accuracy: 0.5309\n",
            "Epoch 11: Train err: 0.1153, Train loss: 0.3210 | Validation err: 0.4439, Validation loss: 2.5715 | Train accuracy: 0.8847, Validation accuracy: 0.5561\n",
            "Epoch 12: Train err: 0.1244, Train loss: 0.3402 | Validation err: 0.4165, Validation loss: 2.3738 | Train accuracy: 0.8756, Validation accuracy: 0.5835\n",
            "Epoch 13: Train err: 0.0788, Train loss: 0.2548 | Validation err: 0.4119, Validation loss: 2.8914 | Train accuracy: 0.9212, Validation accuracy: 0.5881\n",
            "Epoch 14: Train err: 0.0468, Train loss: 0.1474 | Validation err: 0.4119, Validation loss: 2.6487 | Train accuracy: 0.9532, Validation accuracy: 0.5881\n",
            "Epoch 15: Train err: 0.0622, Train loss: 0.2059 | Validation err: 0.4302, Validation loss: 2.5888 | Train accuracy: 0.9378, Validation accuracy: 0.5698\n",
            "Epoch 16: Train err: 0.0765, Train loss: 0.2401 | Validation err: 0.4279, Validation loss: 1.9443 | Train accuracy: 0.9235, Validation accuracy: 0.5721\n",
            "Epoch 17: Train err: 0.0599, Train loss: 0.1717 | Validation err: 0.4142, Validation loss: 2.6079 | Train accuracy: 0.9401, Validation accuracy: 0.5858\n",
            "Epoch 18: Train err: 0.0462, Train loss: 0.1546 | Validation err: 0.3959, Validation loss: 4.1112 | Train accuracy: 0.9538, Validation accuracy: 0.6041\n",
            "Epoch 19: Train err: 0.0519, Train loss: 0.1612 | Validation err: 0.4165, Validation loss: 3.3966 | Train accuracy: 0.9481, Validation accuracy: 0.5835\n",
            "Epoch 20: Train err: 0.0314, Train loss: 0.1147 | Validation err: 0.3707, Validation loss: 4.1667 | Train accuracy: 0.9686, Validation accuracy: 0.6293\n",
            "Epoch 21: Train err: 0.0211, Train loss: 0.0678 | Validation err: 0.3913, Validation loss: 4.2840 | Train accuracy: 0.9789, Validation accuracy: 0.6087\n",
            "Epoch 22: Train err: 0.0200, Train loss: 0.0716 | Validation err: 0.3867, Validation loss: 3.9467 | Train accuracy: 0.9800, Validation accuracy: 0.6133\n",
            "Epoch 23: Train err: 0.0320, Train loss: 0.1134 | Validation err: 0.4279, Validation loss: 6.3165 | Train accuracy: 0.9680, Validation accuracy: 0.5721\n",
            "Epoch 24: Train err: 0.0674, Train loss: 0.2389 | Validation err: 0.3867, Validation loss: 2.6810 | Train accuracy: 0.9326, Validation accuracy: 0.6133\n",
            "Epoch 25: Train err: 0.0451, Train loss: 0.1565 | Validation err: 0.3890, Validation loss: 4.2500 | Train accuracy: 0.9549, Validation accuracy: 0.6110\n",
            "Epoch 26: Train err: 0.0285, Train loss: 0.1020 | Validation err: 0.3593, Validation loss: 3.3210 | Train accuracy: 0.9715, Validation accuracy: 0.6407\n",
            "Epoch 27: Train err: 0.0200, Train loss: 0.0713 | Validation err: 0.3799, Validation loss: 5.3374 | Train accuracy: 0.9800, Validation accuracy: 0.6201\n",
            "Epoch 28: Train err: 0.0177, Train loss: 0.0767 | Validation err: 0.3684, Validation loss: 3.9533 | Train accuracy: 0.9823, Validation accuracy: 0.6316\n",
            "Epoch 29: Train err: 0.0086, Train loss: 0.0327 | Validation err: 0.3730, Validation loss: 5.1641 | Train accuracy: 0.9914, Validation accuracy: 0.6270\n",
            "Epoch 30: Train err: 0.0108, Train loss: 0.0430 | Validation err: 0.3593, Validation loss: 5.0735 | Train accuracy: 0.9892, Validation accuracy: 0.6407\n",
            "Finished Training\n",
            "Total time elapsed: 300.98 seconds\n"
          ]
        },
        {
          "output_type": "stream",
          "name": "stderr",
          "text": [
            "[I 2025-02-09 18:08:11,237] Trial 0 finished with value: 0.35926773455377575 and parameters: {'learning_rate': 0.03458447873613373, 'batch_size': 64, 'hidden_units': 32}. Best is trial 0 with value: 0.35926773455377575.\n"
          ]
        },
        {
          "output_type": "stream",
          "name": "stdout",
          "text": [
            "Epoch 1: Train err: 0.8773, Train loss: 2.1979 | Validation err: 0.9108, Validation loss: 2.1978 | Train accuracy: 0.1227, Validation accuracy: 0.0892\n",
            "Epoch 2: Train err: 0.8413, Train loss: 2.1828 | Validation err: 0.8719, Validation loss: 2.1709 | Train accuracy: 0.1587, Validation accuracy: 0.1281\n",
            "Epoch 3: Train err: 0.7003, Train loss: 2.0564 | Validation err: 0.5789, Validation loss: 1.8420 | Train accuracy: 0.2997, Validation accuracy: 0.4211\n",
            "Epoch 4: Train err: 0.4720, Train loss: 1.4408 | Validation err: 0.4279, Validation loss: 1.3091 | Train accuracy: 0.5280, Validation accuracy: 0.5721\n",
            "Epoch 5: Train err: 0.3773, Train loss: 1.1509 | Validation err: 0.3844, Validation loss: 1.1538 | Train accuracy: 0.6227, Validation accuracy: 0.6156\n",
            "Epoch 6: Train err: 0.3373, Train loss: 0.9938 | Validation err: 0.3684, Validation loss: 1.1849 | Train accuracy: 0.6627, Validation accuracy: 0.6316\n",
            "Epoch 7: Train err: 0.2882, Train loss: 0.8588 | Validation err: 0.3547, Validation loss: 1.0671 | Train accuracy: 0.7118, Validation accuracy: 0.6453\n",
            "Epoch 8: Train err: 0.2780, Train loss: 0.8105 | Validation err: 0.3593, Validation loss: 1.0763 | Train accuracy: 0.7220, Validation accuracy: 0.6407\n",
            "Epoch 9: Train err: 0.2534, Train loss: 0.7429 | Validation err: 0.3387, Validation loss: 1.1283 | Train accuracy: 0.7466, Validation accuracy: 0.6613\n",
            "Epoch 10: Train err: 0.2580, Train loss: 0.7782 | Validation err: 0.3089, Validation loss: 1.0036 | Train accuracy: 0.7420, Validation accuracy: 0.6911\n",
            "Epoch 11: Train err: 0.2135, Train loss: 0.6313 | Validation err: 0.3364, Validation loss: 1.0068 | Train accuracy: 0.7865, Validation accuracy: 0.6636\n",
            "Epoch 12: Train err: 0.2015, Train loss: 0.5895 | Validation err: 0.3089, Validation loss: 1.0320 | Train accuracy: 0.7985, Validation accuracy: 0.6911\n",
            "Epoch 13: Train err: 0.1798, Train loss: 0.5360 | Validation err: 0.2952, Validation loss: 0.9605 | Train accuracy: 0.8202, Validation accuracy: 0.7048\n",
            "Epoch 14: Train err: 0.1729, Train loss: 0.5044 | Validation err: 0.2975, Validation loss: 0.9432 | Train accuracy: 0.8271, Validation accuracy: 0.7025\n",
            "Epoch 15: Train err: 0.1661, Train loss: 0.4962 | Validation err: 0.3112, Validation loss: 1.0344 | Train accuracy: 0.8339, Validation accuracy: 0.6888\n",
            "Epoch 16: Train err: 0.1655, Train loss: 0.4639 | Validation err: 0.2746, Validation loss: 1.0202 | Train accuracy: 0.8345, Validation accuracy: 0.7254\n",
            "Epoch 17: Train err: 0.1182, Train loss: 0.3803 | Validation err: 0.2929, Validation loss: 1.1125 | Train accuracy: 0.8818, Validation accuracy: 0.7071\n",
            "Epoch 18: Train err: 0.1261, Train loss: 0.3531 | Validation err: 0.2609, Validation loss: 0.9798 | Train accuracy: 0.8739, Validation accuracy: 0.7391\n",
            "Epoch 19: Train err: 0.1256, Train loss: 0.3446 | Validation err: 0.2815, Validation loss: 1.0644 | Train accuracy: 0.8744, Validation accuracy: 0.7185\n",
            "Epoch 20: Train err: 0.1176, Train loss: 0.3365 | Validation err: 0.2746, Validation loss: 1.1110 | Train accuracy: 0.8824, Validation accuracy: 0.7254\n",
            "Epoch 21: Train err: 0.1113, Train loss: 0.3127 | Validation err: 0.2609, Validation loss: 1.0307 | Train accuracy: 0.8887, Validation accuracy: 0.7391\n",
            "Epoch 22: Train err: 0.0816, Train loss: 0.2576 | Validation err: 0.2723, Validation loss: 1.1441 | Train accuracy: 0.9184, Validation accuracy: 0.7277\n",
            "Epoch 23: Train err: 0.0896, Train loss: 0.2675 | Validation err: 0.2792, Validation loss: 1.1821 | Train accuracy: 0.9104, Validation accuracy: 0.7208\n",
            "Epoch 24: Train err: 0.0628, Train loss: 0.1857 | Validation err: 0.2929, Validation loss: 1.3315 | Train accuracy: 0.9372, Validation accuracy: 0.7071\n",
            "Epoch 25: Train err: 0.0799, Train loss: 0.2093 | Validation err: 0.2769, Validation loss: 1.3308 | Train accuracy: 0.9201, Validation accuracy: 0.7231\n",
            "Epoch 26: Train err: 0.0839, Train loss: 0.2321 | Validation err: 0.2563, Validation loss: 1.2257 | Train accuracy: 0.9161, Validation accuracy: 0.7437\n",
            "Epoch 27: Train err: 0.0485, Train loss: 0.1474 | Validation err: 0.3135, Validation loss: 1.4348 | Train accuracy: 0.9515, Validation accuracy: 0.6865\n",
            "Epoch 28: Train err: 0.0805, Train loss: 0.2114 | Validation err: 0.3021, Validation loss: 1.5136 | Train accuracy: 0.9195, Validation accuracy: 0.6979\n",
            "Epoch 29: Train err: 0.0537, Train loss: 0.1681 | Validation err: 0.2746, Validation loss: 1.3938 | Train accuracy: 0.9463, Validation accuracy: 0.7254\n",
            "Epoch 30: Train err: 0.0479, Train loss: 0.1421 | Validation err: 0.2746, Validation loss: 1.4413 | Train accuracy: 0.9521, Validation accuracy: 0.7254\n",
            "Finished Training\n",
            "Total time elapsed: 301.26 seconds\n"
          ]
        },
        {
          "output_type": "stream",
          "name": "stderr",
          "text": [
            "[I 2025-02-09 18:13:15,431] Trial 1 finished with value: 0.2745995423340961 and parameters: {'learning_rate': 0.0016657395623485781, 'batch_size': 32, 'hidden_units': 32}. Best is trial 1 with value: 0.2745995423340961.\n"
          ]
        },
        {
          "output_type": "stream",
          "name": "stdout",
          "text": [
            "Epoch 1: Train err: 0.8858, Train loss: 2.1953 | Validation err: 0.8947, Validation loss: 2.1965 | Train accuracy: 0.1142, Validation accuracy: 0.1053\n",
            "Epoch 2: Train err: 0.8510, Train loss: 2.1857 | Validation err: 0.8238, Validation loss: 2.1828 | Train accuracy: 0.1490, Validation accuracy: 0.1762\n",
            "Epoch 3: Train err: 0.7723, Train loss: 2.1602 | Validation err: 0.7849, Validation loss: 2.1460 | Train accuracy: 0.2277, Validation accuracy: 0.2151\n",
            "Epoch 4: Train err: 0.7100, Train loss: 2.0855 | Validation err: 0.6590, Validation loss: 2.0191 | Train accuracy: 0.2900, Validation accuracy: 0.3410\n",
            "Epoch 5: Train err: 0.5799, Train loss: 1.8450 | Validation err: 0.5446, Validation loss: 1.6615 | Train accuracy: 0.4201, Validation accuracy: 0.4554\n",
            "Epoch 6: Train err: 0.4492, Train loss: 1.4257 | Validation err: 0.4439, Validation loss: 1.3409 | Train accuracy: 0.5508, Validation accuracy: 0.5561\n",
            "Epoch 7: Train err: 0.3801, Train loss: 1.1950 | Validation err: 0.3822, Validation loss: 1.1959 | Train accuracy: 0.6199, Validation accuracy: 0.6178\n",
            "Epoch 8: Train err: 0.3368, Train loss: 1.0467 | Validation err: 0.3684, Validation loss: 1.1329 | Train accuracy: 0.6632, Validation accuracy: 0.6316\n",
            "Epoch 9: Train err: 0.3088, Train loss: 0.9541 | Validation err: 0.3684, Validation loss: 1.1321 | Train accuracy: 0.6912, Validation accuracy: 0.6316\n",
            "Epoch 10: Train err: 0.2945, Train loss: 0.8929 | Validation err: 0.3959, Validation loss: 1.1644 | Train accuracy: 0.7055, Validation accuracy: 0.6041\n",
            "Epoch 11: Train err: 0.2814, Train loss: 0.8300 | Validation err: 0.3547, Validation loss: 1.0718 | Train accuracy: 0.7186, Validation accuracy: 0.6453\n",
            "Epoch 12: Train err: 0.2580, Train loss: 0.7735 | Validation err: 0.3593, Validation loss: 1.1742 | Train accuracy: 0.7420, Validation accuracy: 0.6407\n",
            "Epoch 13: Train err: 0.2420, Train loss: 0.7287 | Validation err: 0.3432, Validation loss: 1.1019 | Train accuracy: 0.7580, Validation accuracy: 0.6568\n",
            "Epoch 14: Train err: 0.2203, Train loss: 0.6793 | Validation err: 0.3249, Validation loss: 1.0515 | Train accuracy: 0.7797, Validation accuracy: 0.6751\n",
            "Epoch 15: Train err: 0.2272, Train loss: 0.6854 | Validation err: 0.3547, Validation loss: 1.1044 | Train accuracy: 0.7728, Validation accuracy: 0.6453\n",
            "Epoch 16: Train err: 0.2283, Train loss: 0.6604 | Validation err: 0.3089, Validation loss: 1.0395 | Train accuracy: 0.7717, Validation accuracy: 0.6911\n",
            "Epoch 17: Train err: 0.1981, Train loss: 0.5820 | Validation err: 0.3318, Validation loss: 1.0587 | Train accuracy: 0.8019, Validation accuracy: 0.6682\n",
            "Epoch 18: Train err: 0.2049, Train loss: 0.5747 | Validation err: 0.3547, Validation loss: 1.0940 | Train accuracy: 0.7951, Validation accuracy: 0.6453\n",
            "Epoch 19: Train err: 0.1918, Train loss: 0.5741 | Validation err: 0.3158, Validation loss: 0.9807 | Train accuracy: 0.8082, Validation accuracy: 0.6842\n",
            "Epoch 20: Train err: 0.1570, Train loss: 0.4738 | Validation err: 0.2883, Validation loss: 0.9386 | Train accuracy: 0.8430, Validation accuracy: 0.7117\n",
            "Epoch 21: Train err: 0.1427, Train loss: 0.4233 | Validation err: 0.3364, Validation loss: 1.0453 | Train accuracy: 0.8573, Validation accuracy: 0.6636\n",
            "Epoch 22: Train err: 0.1535, Train loss: 0.4315 | Validation err: 0.2815, Validation loss: 0.9796 | Train accuracy: 0.8465, Validation accuracy: 0.7185\n",
            "Epoch 23: Train err: 0.1570, Train loss: 0.4379 | Validation err: 0.3135, Validation loss: 1.0084 | Train accuracy: 0.8430, Validation accuracy: 0.6865\n",
            "Epoch 24: Train err: 0.1301, Train loss: 0.3525 | Validation err: 0.2792, Validation loss: 1.0207 | Train accuracy: 0.8699, Validation accuracy: 0.7208\n",
            "Epoch 25: Train err: 0.1067, Train loss: 0.3247 | Validation err: 0.2792, Validation loss: 0.9768 | Train accuracy: 0.8933, Validation accuracy: 0.7208\n",
            "Epoch 26: Train err: 0.0896, Train loss: 0.2937 | Validation err: 0.2838, Validation loss: 1.0601 | Train accuracy: 0.9104, Validation accuracy: 0.7162\n",
            "Epoch 27: Train err: 0.0925, Train loss: 0.2804 | Validation err: 0.2769, Validation loss: 1.0423 | Train accuracy: 0.9075, Validation accuracy: 0.7231\n",
            "Epoch 28: Train err: 0.0959, Train loss: 0.2768 | Validation err: 0.2517, Validation loss: 1.0657 | Train accuracy: 0.9041, Validation accuracy: 0.7483\n",
            "Epoch 29: Train err: 0.0782, Train loss: 0.2405 | Validation err: 0.2632, Validation loss: 1.0810 | Train accuracy: 0.9218, Validation accuracy: 0.7368\n",
            "Epoch 30: Train err: 0.0639, Train loss: 0.2032 | Validation err: 0.2609, Validation loss: 1.1111 | Train accuracy: 0.9361, Validation accuracy: 0.7391\n",
            "Finished Training\n",
            "Total time elapsed: 309.08 seconds\n"
          ]
        },
        {
          "output_type": "stream",
          "name": "stderr",
          "text": [
            "[I 2025-02-09 18:18:26,403] Trial 2 finished with value: 0.2608695652173913 and parameters: {'learning_rate': 0.0006712816420899146, 'batch_size': 16, 'hidden_units': 64}. Best is trial 2 with value: 0.2608695652173913.\n"
          ]
        },
        {
          "output_type": "stream",
          "name": "stdout",
          "text": [
            "Epoch 1: Train err: 0.7489, Train loss: 2.0087 | Validation err: 0.6156, Validation loss: 1.7132 | Train accuracy: 0.2511, Validation accuracy: 0.3844\n",
            "Epoch 2: Train err: 0.4857, Train loss: 1.4104 | Validation err: 0.4531, Validation loss: 1.3054 | Train accuracy: 0.5143, Validation accuracy: 0.5469\n",
            "Epoch 3: Train err: 0.3836, Train loss: 1.0948 | Validation err: 0.3593, Validation loss: 1.1195 | Train accuracy: 0.6164, Validation accuracy: 0.6407\n",
            "Epoch 4: Train err: 0.3202, Train loss: 0.9180 | Validation err: 0.3364, Validation loss: 0.9421 | Train accuracy: 0.6798, Validation accuracy: 0.6636\n",
            "Epoch 5: Train err: 0.2597, Train loss: 0.7668 | Validation err: 0.3158, Validation loss: 0.9485 | Train accuracy: 0.7403, Validation accuracy: 0.6842\n",
            "Epoch 6: Train err: 0.2300, Train loss: 0.6770 | Validation err: 0.3593, Validation loss: 1.1829 | Train accuracy: 0.7700, Validation accuracy: 0.6407\n",
            "Epoch 7: Train err: 0.2129, Train loss: 0.5906 | Validation err: 0.3570, Validation loss: 1.2203 | Train accuracy: 0.7871, Validation accuracy: 0.6430\n",
            "Epoch 8: Train err: 0.1313, Train loss: 0.3737 | Validation err: 0.3066, Validation loss: 1.1247 | Train accuracy: 0.8687, Validation accuracy: 0.6934\n",
            "Epoch 9: Train err: 0.0822, Train loss: 0.2391 | Validation err: 0.2883, Validation loss: 1.1428 | Train accuracy: 0.9178, Validation accuracy: 0.7117\n",
            "Epoch 10: Train err: 0.0668, Train loss: 0.2062 | Validation err: 0.2792, Validation loss: 1.3154 | Train accuracy: 0.9332, Validation accuracy: 0.7208\n",
            "Epoch 11: Train err: 0.0588, Train loss: 0.1880 | Validation err: 0.3021, Validation loss: 1.5812 | Train accuracy: 0.9412, Validation accuracy: 0.6979\n",
            "Epoch 12: Train err: 0.0885, Train loss: 0.2480 | Validation err: 0.3089, Validation loss: 1.8085 | Train accuracy: 0.9115, Validation accuracy: 0.6911\n",
            "Epoch 13: Train err: 0.0833, Train loss: 0.2376 | Validation err: 0.3295, Validation loss: 1.6276 | Train accuracy: 0.9167, Validation accuracy: 0.6705\n",
            "Epoch 14: Train err: 0.0531, Train loss: 0.1594 | Validation err: 0.3043, Validation loss: 1.6743 | Train accuracy: 0.9469, Validation accuracy: 0.6957\n",
            "Epoch 15: Train err: 0.0417, Train loss: 0.1193 | Validation err: 0.2883, Validation loss: 1.9753 | Train accuracy: 0.9583, Validation accuracy: 0.7117\n",
            "Epoch 16: Train err: 0.0166, Train loss: 0.0468 | Validation err: 0.2563, Validation loss: 2.0153 | Train accuracy: 0.9834, Validation accuracy: 0.7437\n",
            "Epoch 17: Train err: 0.0502, Train loss: 0.1614 | Validation err: 0.2906, Validation loss: 1.9163 | Train accuracy: 0.9498, Validation accuracy: 0.7094\n",
            "Epoch 18: Train err: 0.0320, Train loss: 0.1022 | Validation err: 0.2586, Validation loss: 2.2448 | Train accuracy: 0.9680, Validation accuracy: 0.7414\n",
            "Epoch 19: Train err: 0.0194, Train loss: 0.0539 | Validation err: 0.2769, Validation loss: 2.1582 | Train accuracy: 0.9806, Validation accuracy: 0.7231\n",
            "Epoch 20: Train err: 0.0103, Train loss: 0.0365 | Validation err: 0.2586, Validation loss: 2.0822 | Train accuracy: 0.9897, Validation accuracy: 0.7414\n",
            "Epoch 21: Train err: 0.0074, Train loss: 0.0194 | Validation err: 0.2426, Validation loss: 2.1415 | Train accuracy: 0.9926, Validation accuracy: 0.7574\n",
            "Epoch 22: Train err: 0.0034, Train loss: 0.0099 | Validation err: 0.2426, Validation loss: 2.3691 | Train accuracy: 0.9966, Validation accuracy: 0.7574\n",
            "Epoch 23: Train err: 0.0006, Train loss: 0.0037 | Validation err: 0.2449, Validation loss: 2.3452 | Train accuracy: 0.9994, Validation accuracy: 0.7551\n",
            "Epoch 24: Train err: 0.0000, Train loss: 0.0013 | Validation err: 0.2517, Validation loss: 2.4409 | Train accuracy: 1.0000, Validation accuracy: 0.7483\n",
            "Epoch 25: Train err: 0.0000, Train loss: 0.0008 | Validation err: 0.2471, Validation loss: 2.5340 | Train accuracy: 1.0000, Validation accuracy: 0.7529\n",
            "Epoch 26: Train err: 0.0000, Train loss: 0.0006 | Validation err: 0.2471, Validation loss: 2.6211 | Train accuracy: 1.0000, Validation accuracy: 0.7529\n",
            "Epoch 27: Train err: 0.0000, Train loss: 0.0005 | Validation err: 0.2449, Validation loss: 2.6726 | Train accuracy: 1.0000, Validation accuracy: 0.7551\n",
            "Epoch 28: Train err: 0.0000, Train loss: 0.0004 | Validation err: 0.2449, Validation loss: 2.7192 | Train accuracy: 1.0000, Validation accuracy: 0.7551\n",
            "Epoch 29: Train err: 0.0000, Train loss: 0.0003 | Validation err: 0.2449, Validation loss: 2.7628 | Train accuracy: 1.0000, Validation accuracy: 0.7551\n",
            "Epoch 30: Train err: 0.0000, Train loss: 0.0003 | Validation err: 0.2449, Validation loss: 2.8003 | Train accuracy: 1.0000, Validation accuracy: 0.7551\n",
            "Finished Training\n",
            "Total time elapsed: 305.31 seconds\n"
          ]
        },
        {
          "output_type": "stream",
          "name": "stderr",
          "text": [
            "[I 2025-02-09 18:23:33,632] Trial 3 finished with value: 0.2448512585812357 and parameters: {'learning_rate': 0.018085566309452208, 'batch_size': 128, 'hidden_units': 32}. Best is trial 3 with value: 0.2448512585812357.\n"
          ]
        },
        {
          "output_type": "stream",
          "name": "stdout",
          "text": [
            "Epoch 1: Train err: 0.8670, Train loss: 2.1971 | Validation err: 0.8650, Validation loss: 2.1987 | Train accuracy: 0.1330, Validation accuracy: 0.1350\n",
            "Epoch 2: Train err: 0.8704, Train loss: 2.1932 | Validation err: 0.8490, Validation loss: 2.1957 | Train accuracy: 0.1296, Validation accuracy: 0.1510\n",
            "Epoch 3: Train err: 0.8396, Train loss: 2.1891 | Validation err: 0.8490, Validation loss: 2.1916 | Train accuracy: 0.1604, Validation accuracy: 0.1510\n",
            "Epoch 4: Train err: 0.8385, Train loss: 2.1849 | Validation err: 0.8330, Validation loss: 2.1870 | Train accuracy: 0.1615, Validation accuracy: 0.1670\n",
            "Epoch 5: Train err: 0.8008, Train loss: 2.1772 | Validation err: 0.8055, Validation loss: 2.1790 | Train accuracy: 0.1992, Validation accuracy: 0.1945\n",
            "Epoch 6: Train err: 0.7837, Train loss: 2.1668 | Validation err: 0.8009, Validation loss: 2.1686 | Train accuracy: 0.2163, Validation accuracy: 0.1991\n",
            "Epoch 7: Train err: 0.8031, Train loss: 2.1520 | Validation err: 0.7597, Validation loss: 2.1510 | Train accuracy: 0.1969, Validation accuracy: 0.2403\n",
            "Epoch 8: Train err: 0.7443, Train loss: 2.1286 | Validation err: 0.7277, Validation loss: 2.1234 | Train accuracy: 0.2557, Validation accuracy: 0.2723\n",
            "Epoch 9: Train err: 0.7300, Train loss: 2.0882 | Validation err: 0.6293, Validation loss: 2.0736 | Train accuracy: 0.2700, Validation accuracy: 0.3707\n",
            "Epoch 10: Train err: 0.6307, Train loss: 2.0217 | Validation err: 0.6316, Validation loss: 1.9910 | Train accuracy: 0.3693, Validation accuracy: 0.3684\n",
            "Epoch 11: Train err: 0.5616, Train loss: 1.9138 | Validation err: 0.5973, Validation loss: 1.8739 | Train accuracy: 0.4384, Validation accuracy: 0.4027\n",
            "Epoch 12: Train err: 0.5502, Train loss: 1.7637 | Validation err: 0.5378, Validation loss: 1.7333 | Train accuracy: 0.4498, Validation accuracy: 0.4622\n",
            "Epoch 13: Train err: 0.5086, Train loss: 1.6098 | Validation err: 0.5217, Validation loss: 1.6093 | Train accuracy: 0.4914, Validation accuracy: 0.4783\n",
            "Epoch 14: Train err: 0.4720, Train loss: 1.4785 | Validation err: 0.4805, Validation loss: 1.4986 | Train accuracy: 0.5280, Validation accuracy: 0.5195\n",
            "Epoch 15: Train err: 0.4372, Train loss: 1.3712 | Validation err: 0.4600, Validation loss: 1.4383 | Train accuracy: 0.5628, Validation accuracy: 0.5400\n",
            "Epoch 16: Train err: 0.4144, Train loss: 1.3205 | Validation err: 0.4691, Validation loss: 1.4338 | Train accuracy: 0.5856, Validation accuracy: 0.5309\n",
            "Epoch 17: Train err: 0.3938, Train loss: 1.2525 | Validation err: 0.4348, Validation loss: 1.3349 | Train accuracy: 0.6062, Validation accuracy: 0.5652\n",
            "Epoch 18: Train err: 0.4064, Train loss: 1.2424 | Validation err: 0.4508, Validation loss: 1.4226 | Train accuracy: 0.5936, Validation accuracy: 0.5492\n",
            "Epoch 19: Train err: 0.3893, Train loss: 1.1774 | Validation err: 0.4119, Validation loss: 1.2973 | Train accuracy: 0.6107, Validation accuracy: 0.5881\n",
            "Epoch 20: Train err: 0.3727, Train loss: 1.1686 | Validation err: 0.4027, Validation loss: 1.2978 | Train accuracy: 0.6273, Validation accuracy: 0.5973\n",
            "Epoch 21: Train err: 0.3636, Train loss: 1.1241 | Validation err: 0.4096, Validation loss: 1.2999 | Train accuracy: 0.6364, Validation accuracy: 0.5904\n",
            "Epoch 22: Train err: 0.3556, Train loss: 1.0826 | Validation err: 0.4211, Validation loss: 1.3350 | Train accuracy: 0.6444, Validation accuracy: 0.5789\n",
            "Epoch 23: Train err: 0.3527, Train loss: 1.0967 | Validation err: 0.4531, Validation loss: 1.3451 | Train accuracy: 0.6473, Validation accuracy: 0.5469\n",
            "Epoch 24: Train err: 0.3368, Train loss: 1.0784 | Validation err: 0.4005, Validation loss: 1.2217 | Train accuracy: 0.6632, Validation accuracy: 0.5995\n",
            "Epoch 25: Train err: 0.3322, Train loss: 1.0391 | Validation err: 0.3890, Validation loss: 1.2252 | Train accuracy: 0.6678, Validation accuracy: 0.6110\n",
            "Epoch 26: Train err: 0.3413, Train loss: 1.0314 | Validation err: 0.3982, Validation loss: 1.2655 | Train accuracy: 0.6587, Validation accuracy: 0.6018\n",
            "Epoch 27: Train err: 0.3328, Train loss: 1.0016 | Validation err: 0.4165, Validation loss: 1.2732 | Train accuracy: 0.6672, Validation accuracy: 0.5835\n",
            "Epoch 28: Train err: 0.3373, Train loss: 1.0107 | Validation err: 0.3913, Validation loss: 1.2249 | Train accuracy: 0.6627, Validation accuracy: 0.6087\n",
            "Epoch 29: Train err: 0.3236, Train loss: 0.9805 | Validation err: 0.3890, Validation loss: 1.1896 | Train accuracy: 0.6764, Validation accuracy: 0.6110\n",
            "Epoch 30: Train err: 0.3174, Train loss: 0.9504 | Validation err: 0.3638, Validation loss: 1.1981 | Train accuracy: 0.6826, Validation accuracy: 0.6362\n",
            "Finished Training\n",
            "Total time elapsed: 301.47 seconds\n"
          ]
        },
        {
          "output_type": "stream",
          "name": "stderr",
          "text": [
            "[I 2025-02-09 18:28:37,052] Trial 4 finished with value: 0.36384439359267734 and parameters: {'learning_rate': 0.00022740265639474395, 'batch_size': 128, 'hidden_units': 80}. Best is trial 3 with value: 0.2448512585812357.\n"
          ]
        },
        {
          "output_type": "stream",
          "name": "stdout",
          "text": [
            "Epoch 1: Train err: 0.8727, Train loss: 2.1968 | Validation err: 0.8009, Validation loss: 2.1885 | Train accuracy: 0.1273, Validation accuracy: 0.1991\n",
            "Epoch 2: Train err: 0.7403, Train loss: 2.1819 | Validation err: 0.7117, Validation loss: 2.1741 | Train accuracy: 0.2597, Validation accuracy: 0.2883\n",
            "Epoch 3: Train err: 0.7192, Train loss: 2.1594 | Validation err: 0.7346, Validation loss: 2.1485 | Train accuracy: 0.2808, Validation accuracy: 0.2654\n",
            "Epoch 4: Train err: 0.6906, Train loss: 2.1175 | Validation err: 0.7094, Validation loss: 2.0945 | Train accuracy: 0.3094, Validation accuracy: 0.2906\n",
            "Epoch 5: Train err: 0.6689, Train loss: 2.0293 | Validation err: 0.6384, Validation loss: 1.9753 | Train accuracy: 0.3311, Validation accuracy: 0.3616\n",
            "Epoch 6: Train err: 0.5793, Train loss: 1.8479 | Validation err: 0.6064, Validation loss: 1.7660 | Train accuracy: 0.4207, Validation accuracy: 0.3936\n",
            "Epoch 7: Train err: 0.4829, Train loss: 1.5914 | Validation err: 0.4622, Validation loss: 1.5146 | Train accuracy: 0.5171, Validation accuracy: 0.5378\n",
            "Epoch 8: Train err: 0.4110, Train loss: 1.3540 | Validation err: 0.4211, Validation loss: 1.3592 | Train accuracy: 0.5890, Validation accuracy: 0.5789\n",
            "Epoch 9: Train err: 0.3602, Train loss: 1.1832 | Validation err: 0.3753, Validation loss: 1.2220 | Train accuracy: 0.6398, Validation accuracy: 0.6247\n",
            "Epoch 10: Train err: 0.3168, Train loss: 1.0585 | Validation err: 0.3913, Validation loss: 1.1857 | Train accuracy: 0.6832, Validation accuracy: 0.6087\n",
            "Epoch 11: Train err: 0.3145, Train loss: 0.9985 | Validation err: 0.3501, Validation loss: 1.1284 | Train accuracy: 0.6855, Validation accuracy: 0.6499\n",
            "Epoch 12: Train err: 0.2831, Train loss: 0.9306 | Validation err: 0.3341, Validation loss: 1.0787 | Train accuracy: 0.7169, Validation accuracy: 0.6659\n",
            "Epoch 13: Train err: 0.2808, Train loss: 0.8918 | Validation err: 0.3318, Validation loss: 1.0702 | Train accuracy: 0.7192, Validation accuracy: 0.6682\n",
            "Epoch 14: Train err: 0.2557, Train loss: 0.8556 | Validation err: 0.3341, Validation loss: 1.0549 | Train accuracy: 0.7443, Validation accuracy: 0.6659\n",
            "Epoch 15: Train err: 0.2631, Train loss: 0.8029 | Validation err: 0.3249, Validation loss: 1.0496 | Train accuracy: 0.7369, Validation accuracy: 0.6751\n",
            "Epoch 16: Train err: 0.2666, Train loss: 0.7883 | Validation err: 0.3455, Validation loss: 1.0640 | Train accuracy: 0.7334, Validation accuracy: 0.6545\n",
            "Epoch 17: Train err: 0.2437, Train loss: 0.7453 | Validation err: 0.3135, Validation loss: 1.0235 | Train accuracy: 0.7563, Validation accuracy: 0.6865\n",
            "Epoch 18: Train err: 0.2334, Train loss: 0.7273 | Validation err: 0.3318, Validation loss: 1.0286 | Train accuracy: 0.7666, Validation accuracy: 0.6682\n",
            "Epoch 19: Train err: 0.2277, Train loss: 0.6991 | Validation err: 0.2815, Validation loss: 0.9955 | Train accuracy: 0.7723, Validation accuracy: 0.7185\n",
            "Epoch 20: Train err: 0.2021, Train loss: 0.6467 | Validation err: 0.2952, Validation loss: 0.9911 | Train accuracy: 0.7979, Validation accuracy: 0.7048\n",
            "Epoch 21: Train err: 0.2043, Train loss: 0.6115 | Validation err: 0.3043, Validation loss: 0.9750 | Train accuracy: 0.7957, Validation accuracy: 0.6957\n",
            "Epoch 22: Train err: 0.1826, Train loss: 0.5705 | Validation err: 0.3043, Validation loss: 1.0119 | Train accuracy: 0.8174, Validation accuracy: 0.6957\n",
            "Epoch 23: Train err: 0.1809, Train loss: 0.5544 | Validation err: 0.2838, Validation loss: 0.9690 | Train accuracy: 0.8191, Validation accuracy: 0.7162\n",
            "Epoch 24: Train err: 0.1592, Train loss: 0.5170 | Validation err: 0.2838, Validation loss: 0.9856 | Train accuracy: 0.8408, Validation accuracy: 0.7162\n",
            "Epoch 25: Train err: 0.1672, Train loss: 0.5070 | Validation err: 0.2723, Validation loss: 0.9766 | Train accuracy: 0.8328, Validation accuracy: 0.7277\n",
            "Epoch 26: Train err: 0.1604, Train loss: 0.4855 | Validation err: 0.2838, Validation loss: 0.9618 | Train accuracy: 0.8396, Validation accuracy: 0.7162\n",
            "Epoch 27: Train err: 0.1358, Train loss: 0.4371 | Validation err: 0.2860, Validation loss: 0.9633 | Train accuracy: 0.8642, Validation accuracy: 0.7140\n",
            "Epoch 28: Train err: 0.1381, Train loss: 0.4249 | Validation err: 0.2792, Validation loss: 1.0381 | Train accuracy: 0.8619, Validation accuracy: 0.7208\n",
            "Epoch 29: Train err: 0.1301, Train loss: 0.4036 | Validation err: 0.3043, Validation loss: 0.9981 | Train accuracy: 0.8699, Validation accuracy: 0.6957\n",
            "Epoch 30: Train err: 0.1142, Train loss: 0.3596 | Validation err: 0.2929, Validation loss: 0.9746 | Train accuracy: 0.8858, Validation accuracy: 0.7071\n",
            "Finished Training\n",
            "Total time elapsed: 306.92 seconds\n"
          ]
        },
        {
          "output_type": "stream",
          "name": "stderr",
          "text": [
            "[I 2025-02-09 18:33:46,306] Trial 5 finished with value: 0.2929061784897025 and parameters: {'learning_rate': 0.00036528844372131, 'batch_size': 128, 'hidden_units': 112}. Best is trial 3 with value: 0.2448512585812357.\n"
          ]
        },
        {
          "output_type": "stream",
          "name": "stdout",
          "text": [
            "Epoch 1: Train err: 0.7934, Train loss: 2.1275 | Validation err: 0.6636, Validation loss: 1.8498 | Train accuracy: 0.2066, Validation accuracy: 0.3364\n",
            "Epoch 2: Train err: 0.5263, Train loss: 1.4144 | Validation err: 0.4462, Validation loss: 1.2690 | Train accuracy: 0.4737, Validation accuracy: 0.5538\n",
            "Epoch 3: Train err: 0.3733, Train loss: 1.0854 | Validation err: 0.3799, Validation loss: 1.0799 | Train accuracy: 0.6267, Validation accuracy: 0.6201\n",
            "Epoch 4: Train err: 0.2991, Train loss: 0.8797 | Validation err: 0.3524, Validation loss: 1.0231 | Train accuracy: 0.7009, Validation accuracy: 0.6476\n",
            "Epoch 5: Train err: 0.2666, Train loss: 0.7661 | Validation err: 0.2815, Validation loss: 0.8853 | Train accuracy: 0.7334, Validation accuracy: 0.7185\n",
            "Epoch 6: Train err: 0.2186, Train loss: 0.6532 | Validation err: 0.2380, Validation loss: 0.8357 | Train accuracy: 0.7814, Validation accuracy: 0.7620\n",
            "Epoch 7: Train err: 0.1946, Train loss: 0.5580 | Validation err: 0.2929, Validation loss: 0.9619 | Train accuracy: 0.8054, Validation accuracy: 0.7071\n",
            "Epoch 8: Train err: 0.1752, Train loss: 0.4789 | Validation err: 0.3204, Validation loss: 0.9982 | Train accuracy: 0.8248, Validation accuracy: 0.6796\n",
            "Epoch 9: Train err: 0.1416, Train loss: 0.3935 | Validation err: 0.2243, Validation loss: 0.8001 | Train accuracy: 0.8584, Validation accuracy: 0.7757\n",
            "Epoch 10: Train err: 0.1016, Train loss: 0.3111 | Validation err: 0.3021, Validation loss: 1.0285 | Train accuracy: 0.8984, Validation accuracy: 0.6979\n",
            "Epoch 11: Train err: 0.1164, Train loss: 0.3089 | Validation err: 0.2449, Validation loss: 0.9276 | Train accuracy: 0.8836, Validation accuracy: 0.7551\n",
            "Epoch 12: Train err: 0.0765, Train loss: 0.2235 | Validation err: 0.2471, Validation loss: 0.9664 | Train accuracy: 0.9235, Validation accuracy: 0.7529\n",
            "Epoch 13: Train err: 0.0805, Train loss: 0.2175 | Validation err: 0.2151, Validation loss: 0.9899 | Train accuracy: 0.9195, Validation accuracy: 0.7849\n",
            "Epoch 14: Train err: 0.0320, Train loss: 0.1139 | Validation err: 0.2311, Validation loss: 1.2241 | Train accuracy: 0.9680, Validation accuracy: 0.7689\n",
            "Epoch 15: Train err: 0.0611, Train loss: 0.1897 | Validation err: 0.2494, Validation loss: 0.9917 | Train accuracy: 0.9389, Validation accuracy: 0.7506\n",
            "Epoch 16: Train err: 0.0394, Train loss: 0.1165 | Validation err: 0.2151, Validation loss: 1.0570 | Train accuracy: 0.9606, Validation accuracy: 0.7849\n",
            "Epoch 17: Train err: 0.0137, Train loss: 0.0474 | Validation err: 0.1991, Validation loss: 1.1514 | Train accuracy: 0.9863, Validation accuracy: 0.8009\n",
            "Epoch 18: Train err: 0.0108, Train loss: 0.0323 | Validation err: 0.1991, Validation loss: 1.0876 | Train accuracy: 0.9892, Validation accuracy: 0.8009\n",
            "Epoch 19: Train err: 0.0029, Train loss: 0.0151 | Validation err: 0.2128, Validation loss: 1.2975 | Train accuracy: 0.9971, Validation accuracy: 0.7872\n",
            "Epoch 20: Train err: 0.0046, Train loss: 0.0180 | Validation err: 0.2128, Validation loss: 1.4446 | Train accuracy: 0.9954, Validation accuracy: 0.7872\n",
            "Epoch 21: Train err: 0.0183, Train loss: 0.0476 | Validation err: 0.2174, Validation loss: 1.2359 | Train accuracy: 0.9817, Validation accuracy: 0.7826\n",
            "Epoch 22: Train err: 0.0051, Train loss: 0.0179 | Validation err: 0.1991, Validation loss: 1.2052 | Train accuracy: 0.9949, Validation accuracy: 0.8009\n",
            "Epoch 23: Train err: 0.0051, Train loss: 0.0155 | Validation err: 0.2174, Validation loss: 1.2275 | Train accuracy: 0.9949, Validation accuracy: 0.7826\n",
            "Epoch 24: Train err: 0.0029, Train loss: 0.0101 | Validation err: 0.2151, Validation loss: 1.2422 | Train accuracy: 0.9971, Validation accuracy: 0.7849\n",
            "Epoch 25: Train err: 0.0000, Train loss: 0.0028 | Validation err: 0.2059, Validation loss: 1.2242 | Train accuracy: 1.0000, Validation accuracy: 0.7941\n",
            "Epoch 26: Train err: 0.0000, Train loss: 0.0013 | Validation err: 0.1899, Validation loss: 1.2597 | Train accuracy: 1.0000, Validation accuracy: 0.8101\n",
            "Epoch 27: Train err: 0.0000, Train loss: 0.0008 | Validation err: 0.1899, Validation loss: 1.3112 | Train accuracy: 1.0000, Validation accuracy: 0.8101\n",
            "Epoch 28: Train err: 0.0000, Train loss: 0.0006 | Validation err: 0.1945, Validation loss: 1.3460 | Train accuracy: 1.0000, Validation accuracy: 0.8055\n",
            "Epoch 29: Train err: 0.0000, Train loss: 0.0005 | Validation err: 0.1945, Validation loss: 1.3661 | Train accuracy: 1.0000, Validation accuracy: 0.8055\n",
            "Epoch 30: Train err: 0.0000, Train loss: 0.0005 | Validation err: 0.1945, Validation loss: 1.3887 | Train accuracy: 1.0000, Validation accuracy: 0.8055\n",
            "Finished Training\n",
            "Total time elapsed: 301.53 seconds\n"
          ]
        },
        {
          "output_type": "stream",
          "name": "stderr",
          "text": [
            "[I 2025-02-09 18:38:49,830] Trial 6 finished with value: 0.1945080091533181 and parameters: {'learning_rate': 0.00592451067038332, 'batch_size': 128, 'hidden_units': 128}. Best is trial 6 with value: 0.1945080091533181.\n"
          ]
        },
        {
          "output_type": "stream",
          "name": "stdout",
          "text": [
            "Epoch 1: Train err: 0.7848, Train loss: 2.3488 | Validation err: 0.7460, Validation loss: 2.1710 | Train accuracy: 0.2152, Validation accuracy: 0.2540\n",
            "Epoch 2: Train err: 0.7363, Train loss: 2.0429 | Validation err: 0.7735, Validation loss: 2.1063 | Train accuracy: 0.2637, Validation accuracy: 0.2265\n",
            "Epoch 3: Train err: 0.6935, Train loss: 1.8602 | Validation err: 0.5492, Validation loss: 1.5538 | Train accuracy: 0.3065, Validation accuracy: 0.4508\n",
            "Epoch 4: Train err: 0.4561, Train loss: 1.2939 | Validation err: 0.4508, Validation loss: 1.2638 | Train accuracy: 0.5439, Validation accuracy: 0.5492\n",
            "Epoch 5: Train err: 0.3248, Train loss: 0.9064 | Validation err: 0.3890, Validation loss: 1.2390 | Train accuracy: 0.6752, Validation accuracy: 0.6110\n",
            "Epoch 6: Train err: 0.2112, Train loss: 0.5790 | Validation err: 0.3913, Validation loss: 1.2349 | Train accuracy: 0.7888, Validation accuracy: 0.6087\n",
            "Epoch 7: Train err: 0.1427, Train loss: 0.3941 | Validation err: 0.3570, Validation loss: 1.2249 | Train accuracy: 0.8573, Validation accuracy: 0.6430\n",
            "Epoch 8: Train err: 0.1005, Train loss: 0.2808 | Validation err: 0.3867, Validation loss: 1.4834 | Train accuracy: 0.8995, Validation accuracy: 0.6133\n",
            "Epoch 9: Train err: 0.0497, Train loss: 0.1623 | Validation err: 0.3616, Validation loss: 1.9000 | Train accuracy: 0.9503, Validation accuracy: 0.6384\n",
            "Epoch 10: Train err: 0.0428, Train loss: 0.1284 | Validation err: 0.3570, Validation loss: 2.0313 | Train accuracy: 0.9572, Validation accuracy: 0.6430\n",
            "Epoch 11: Train err: 0.0371, Train loss: 0.1042 | Validation err: 0.3822, Validation loss: 2.0589 | Train accuracy: 0.9629, Validation accuracy: 0.6178\n",
            "Epoch 12: Train err: 0.0531, Train loss: 0.1533 | Validation err: 0.3799, Validation loss: 1.9840 | Train accuracy: 0.9469, Validation accuracy: 0.6201\n",
            "Epoch 13: Train err: 0.0337, Train loss: 0.0957 | Validation err: 0.3822, Validation loss: 2.4290 | Train accuracy: 0.9663, Validation accuracy: 0.6178\n",
            "Epoch 14: Train err: 0.0234, Train loss: 0.0701 | Validation err: 0.3753, Validation loss: 2.4607 | Train accuracy: 0.9766, Validation accuracy: 0.6247\n",
            "Epoch 15: Train err: 0.0086, Train loss: 0.0368 | Validation err: 0.3730, Validation loss: 2.9910 | Train accuracy: 0.9914, Validation accuracy: 0.6270\n",
            "Epoch 16: Train err: 0.0080, Train loss: 0.0304 | Validation err: 0.3524, Validation loss: 3.0134 | Train accuracy: 0.9920, Validation accuracy: 0.6476\n",
            "Epoch 17: Train err: 0.0280, Train loss: 0.1012 | Validation err: 0.3982, Validation loss: 2.6335 | Train accuracy: 0.9720, Validation accuracy: 0.6018\n",
            "Epoch 18: Train err: 0.0228, Train loss: 0.0819 | Validation err: 0.3844, Validation loss: 2.8728 | Train accuracy: 0.9772, Validation accuracy: 0.6156\n",
            "Epoch 19: Train err: 0.0091, Train loss: 0.0266 | Validation err: 0.3501, Validation loss: 2.9351 | Train accuracy: 0.9909, Validation accuracy: 0.6499\n",
            "Epoch 20: Train err: 0.0046, Train loss: 0.0108 | Validation err: 0.3524, Validation loss: 3.0389 | Train accuracy: 0.9954, Validation accuracy: 0.6476\n",
            "Epoch 21: Train err: 0.0017, Train loss: 0.0055 | Validation err: 0.3524, Validation loss: 3.3756 | Train accuracy: 0.9983, Validation accuracy: 0.6476\n",
            "Epoch 22: Train err: 0.0000, Train loss: 0.0017 | Validation err: 0.3387, Validation loss: 3.4630 | Train accuracy: 1.0000, Validation accuracy: 0.6613\n",
            "Epoch 23: Train err: 0.0000, Train loss: 0.0007 | Validation err: 0.3387, Validation loss: 3.5393 | Train accuracy: 1.0000, Validation accuracy: 0.6613\n",
            "Epoch 24: Train err: 0.0000, Train loss: 0.0003 | Validation err: 0.3341, Validation loss: 3.6010 | Train accuracy: 1.0000, Validation accuracy: 0.6659\n",
            "Epoch 25: Train err: 0.0000, Train loss: 0.0002 | Validation err: 0.3318, Validation loss: 3.6502 | Train accuracy: 1.0000, Validation accuracy: 0.6682\n",
            "Epoch 26: Train err: 0.0000, Train loss: 0.0002 | Validation err: 0.3318, Validation loss: 3.6891 | Train accuracy: 1.0000, Validation accuracy: 0.6682\n",
            "Epoch 27: Train err: 0.0000, Train loss: 0.0002 | Validation err: 0.3341, Validation loss: 3.7266 | Train accuracy: 1.0000, Validation accuracy: 0.6659\n",
            "Epoch 28: Train err: 0.0000, Train loss: 0.0002 | Validation err: 0.3318, Validation loss: 3.7601 | Train accuracy: 1.0000, Validation accuracy: 0.6682\n",
            "Epoch 29: Train err: 0.0000, Train loss: 0.0001 | Validation err: 0.3295, Validation loss: 3.7882 | Train accuracy: 1.0000, Validation accuracy: 0.6705\n",
            "Epoch 30: Train err: 0.0000, Train loss: 0.0001 | Validation err: 0.3295, Validation loss: 3.8195 | Train accuracy: 1.0000, Validation accuracy: 0.6705\n",
            "Finished Training\n",
            "Total time elapsed: 299.32 seconds\n"
          ]
        },
        {
          "output_type": "stream",
          "name": "stderr",
          "text": [
            "[I 2025-02-09 18:43:51,089] Trial 7 finished with value: 0.3295194508009153 and parameters: {'learning_rate': 0.02622743544921678, 'batch_size': 128, 'hidden_units': 48}. Best is trial 6 with value: 0.1945080091533181.\n"
          ]
        },
        {
          "output_type": "stream",
          "name": "stdout",
          "text": [
            "Epoch 1: Train err: 0.8847, Train loss: 2.2020 | Validation err: 0.8581, Validation loss: 2.1972 | Train accuracy: 0.1153, Validation accuracy: 0.1419\n",
            "Epoch 2: Train err: 0.8567, Train loss: 2.1968 | Validation err: 0.8513, Validation loss: 2.1924 | Train accuracy: 0.1433, Validation accuracy: 0.1487\n",
            "Epoch 3: Train err: 0.8710, Train loss: 2.1880 | Validation err: 0.8513, Validation loss: 2.1816 | Train accuracy: 0.1290, Validation accuracy: 0.1487\n",
            "Epoch 4: Train err: 0.8185, Train loss: 2.1647 | Validation err: 0.8650, Validation loss: 2.1454 | Train accuracy: 0.1815, Validation accuracy: 0.1350\n",
            "Epoch 5: Train err: 0.7791, Train loss: 2.0854 | Validation err: 0.6476, Validation loss: 1.9996 | Train accuracy: 0.2209, Validation accuracy: 0.3524\n",
            "Epoch 6: Train err: 0.6050, Train loss: 1.7884 | Validation err: 0.5286, Validation loss: 1.6091 | Train accuracy: 0.3950, Validation accuracy: 0.4714\n",
            "Epoch 7: Train err: 0.4932, Train loss: 1.4593 | Validation err: 0.5309, Validation loss: 1.4699 | Train accuracy: 0.5068, Validation accuracy: 0.4691\n",
            "Epoch 8: Train err: 0.4315, Train loss: 1.2881 | Validation err: 0.4737, Validation loss: 1.3861 | Train accuracy: 0.5685, Validation accuracy: 0.5263\n",
            "Epoch 9: Train err: 0.3950, Train loss: 1.1885 | Validation err: 0.4005, Validation loss: 1.2577 | Train accuracy: 0.6050, Validation accuracy: 0.5995\n",
            "Epoch 10: Train err: 0.3881, Train loss: 1.1698 | Validation err: 0.4485, Validation loss: 1.3606 | Train accuracy: 0.6119, Validation accuracy: 0.5515\n",
            "Epoch 11: Train err: 0.3248, Train loss: 1.0236 | Validation err: 0.3753, Validation loss: 1.1418 | Train accuracy: 0.6752, Validation accuracy: 0.6247\n",
            "Epoch 12: Train err: 0.3248, Train loss: 0.9670 | Validation err: 0.3890, Validation loss: 1.2059 | Train accuracy: 0.6752, Validation accuracy: 0.6110\n",
            "Epoch 13: Train err: 0.3191, Train loss: 0.9172 | Validation err: 0.3455, Validation loss: 1.0636 | Train accuracy: 0.6809, Validation accuracy: 0.6545\n",
            "Epoch 14: Train err: 0.2683, Train loss: 0.8240 | Validation err: 0.3432, Validation loss: 1.0539 | Train accuracy: 0.7317, Validation accuracy: 0.6568\n",
            "Epoch 15: Train err: 0.2791, Train loss: 0.7966 | Validation err: 0.3410, Validation loss: 1.0620 | Train accuracy: 0.7209, Validation accuracy: 0.6590\n",
            "Epoch 16: Train err: 0.2449, Train loss: 0.7407 | Validation err: 0.3341, Validation loss: 0.9878 | Train accuracy: 0.7551, Validation accuracy: 0.6659\n",
            "Epoch 17: Train err: 0.2471, Train loss: 0.7235 | Validation err: 0.3661, Validation loss: 1.0311 | Train accuracy: 0.7529, Validation accuracy: 0.6339\n",
            "Epoch 18: Train err: 0.2352, Train loss: 0.6742 | Validation err: 0.3295, Validation loss: 1.0018 | Train accuracy: 0.7648, Validation accuracy: 0.6705\n",
            "Epoch 19: Train err: 0.2272, Train loss: 0.6583 | Validation err: 0.3021, Validation loss: 0.9616 | Train accuracy: 0.7728, Validation accuracy: 0.6979\n",
            "Epoch 20: Train err: 0.2049, Train loss: 0.6141 | Validation err: 0.3341, Validation loss: 1.1149 | Train accuracy: 0.7951, Validation accuracy: 0.6659\n",
            "Epoch 21: Train err: 0.2032, Train loss: 0.5814 | Validation err: 0.3043, Validation loss: 1.0195 | Train accuracy: 0.7968, Validation accuracy: 0.6957\n",
            "Epoch 22: Train err: 0.1918, Train loss: 0.5385 | Validation err: 0.3043, Validation loss: 0.9587 | Train accuracy: 0.8082, Validation accuracy: 0.6957\n",
            "Epoch 23: Train err: 0.1787, Train loss: 0.5199 | Validation err: 0.3432, Validation loss: 1.0636 | Train accuracy: 0.8213, Validation accuracy: 0.6568\n",
            "Epoch 24: Train err: 0.1689, Train loss: 0.4821 | Validation err: 0.2952, Validation loss: 1.0523 | Train accuracy: 0.8311, Validation accuracy: 0.7048\n",
            "Epoch 25: Train err: 0.1661, Train loss: 0.4648 | Validation err: 0.2975, Validation loss: 1.0312 | Train accuracy: 0.8339, Validation accuracy: 0.7025\n",
            "Epoch 26: Train err: 0.1416, Train loss: 0.4104 | Validation err: 0.3227, Validation loss: 1.0868 | Train accuracy: 0.8584, Validation accuracy: 0.6773\n",
            "Epoch 27: Train err: 0.1296, Train loss: 0.3793 | Validation err: 0.2860, Validation loss: 0.9590 | Train accuracy: 0.8704, Validation accuracy: 0.7140\n",
            "Epoch 28: Train err: 0.1353, Train loss: 0.3827 | Validation err: 0.2677, Validation loss: 1.0010 | Train accuracy: 0.8647, Validation accuracy: 0.7323\n",
            "Epoch 29: Train err: 0.1261, Train loss: 0.3628 | Validation err: 0.2609, Validation loss: 0.9986 | Train accuracy: 0.8739, Validation accuracy: 0.7391\n",
            "Epoch 30: Train err: 0.1210, Train loss: 0.3373 | Validation err: 0.2838, Validation loss: 1.0598 | Train accuracy: 0.8790, Validation accuracy: 0.7162\n",
            "Finished Training\n",
            "Total time elapsed: 314.34 seconds\n"
          ]
        },
        {
          "output_type": "stream",
          "name": "stderr",
          "text": [
            "[I 2025-02-09 18:49:07,571] Trial 8 finished with value: 0.2837528604118993 and parameters: {'learning_rate': 0.000800523352000885, 'batch_size': 128, 'hidden_units': 32}. Best is trial 6 with value: 0.1945080091533181.\n"
          ]
        },
        {
          "output_type": "stream",
          "name": "stdout",
          "text": [
            "Epoch 1: Train err: 0.8362, Train loss: 2.1825 | Validation err: 0.7323, Validation loss: 2.1607 | Train accuracy: 0.1638, Validation accuracy: 0.2677\n",
            "Epoch 2: Train err: 0.6787, Train loss: 2.1066 | Validation err: 0.6522, Validation loss: 2.0147 | Train accuracy: 0.3213, Validation accuracy: 0.3478\n",
            "Epoch 3: Train err: 0.5902, Train loss: 1.8247 | Validation err: 0.5400, Validation loss: 1.6631 | Train accuracy: 0.4098, Validation accuracy: 0.4600\n",
            "Epoch 4: Train err: 0.5120, Train loss: 1.4772 | Validation err: 0.5126, Validation loss: 1.5330 | Train accuracy: 0.4880, Validation accuracy: 0.4874\n",
            "Epoch 5: Train err: 0.4401, Train loss: 1.2903 | Validation err: 0.4348, Validation loss: 1.2834 | Train accuracy: 0.5599, Validation accuracy: 0.5652\n",
            "Epoch 6: Train err: 0.3750, Train loss: 1.1323 | Validation err: 0.3936, Validation loss: 1.1907 | Train accuracy: 0.6250, Validation accuracy: 0.6064\n",
            "Epoch 7: Train err: 0.3305, Train loss: 1.0088 | Validation err: 0.3593, Validation loss: 1.1098 | Train accuracy: 0.6695, Validation accuracy: 0.6407\n",
            "Epoch 8: Train err: 0.3345, Train loss: 0.9594 | Validation err: 0.3593, Validation loss: 1.0738 | Train accuracy: 0.6655, Validation accuracy: 0.6407\n",
            "Epoch 9: Train err: 0.2974, Train loss: 0.9004 | Validation err: 0.3021, Validation loss: 1.0230 | Train accuracy: 0.7026, Validation accuracy: 0.6979\n",
            "Epoch 10: Train err: 0.2557, Train loss: 0.8130 | Validation err: 0.3158, Validation loss: 1.0205 | Train accuracy: 0.7443, Validation accuracy: 0.6842\n",
            "Epoch 11: Train err: 0.2568, Train loss: 0.7620 | Validation err: 0.3158, Validation loss: 1.0086 | Train accuracy: 0.7432, Validation accuracy: 0.6842\n",
            "Epoch 12: Train err: 0.2255, Train loss: 0.7050 | Validation err: 0.3066, Validation loss: 1.0115 | Train accuracy: 0.7745, Validation accuracy: 0.6934\n",
            "Epoch 13: Train err: 0.2317, Train loss: 0.6838 | Validation err: 0.2838, Validation loss: 0.9794 | Train accuracy: 0.7683, Validation accuracy: 0.7162\n",
            "Epoch 14: Train err: 0.2317, Train loss: 0.6657 | Validation err: 0.3158, Validation loss: 1.0284 | Train accuracy: 0.7683, Validation accuracy: 0.6842\n",
            "Epoch 15: Train err: 0.1986, Train loss: 0.5992 | Validation err: 0.3066, Validation loss: 0.9685 | Train accuracy: 0.8014, Validation accuracy: 0.6934\n",
            "Epoch 16: Train err: 0.1975, Train loss: 0.5555 | Validation err: 0.2769, Validation loss: 0.9289 | Train accuracy: 0.8025, Validation accuracy: 0.7231\n",
            "Epoch 17: Train err: 0.1826, Train loss: 0.5176 | Validation err: 0.2838, Validation loss: 0.9415 | Train accuracy: 0.8174, Validation accuracy: 0.7162\n",
            "Epoch 18: Train err: 0.1615, Train loss: 0.4532 | Validation err: 0.2700, Validation loss: 0.9516 | Train accuracy: 0.8385, Validation accuracy: 0.7300\n",
            "Epoch 19: Train err: 0.1535, Train loss: 0.4463 | Validation err: 0.3066, Validation loss: 1.0335 | Train accuracy: 0.8465, Validation accuracy: 0.6934\n",
            "Epoch 20: Train err: 0.1421, Train loss: 0.4138 | Validation err: 0.2723, Validation loss: 0.9639 | Train accuracy: 0.8579, Validation accuracy: 0.7277\n",
            "Epoch 21: Train err: 0.1176, Train loss: 0.3555 | Validation err: 0.3227, Validation loss: 1.2136 | Train accuracy: 0.8824, Validation accuracy: 0.6773\n",
            "Epoch 22: Train err: 0.1239, Train loss: 0.3706 | Validation err: 0.2540, Validation loss: 0.9383 | Train accuracy: 0.8761, Validation accuracy: 0.7460\n",
            "Epoch 23: Train err: 0.0987, Train loss: 0.2926 | Validation err: 0.2403, Validation loss: 0.9153 | Train accuracy: 0.9013, Validation accuracy: 0.7597\n",
            "Epoch 24: Train err: 0.1010, Train loss: 0.2877 | Validation err: 0.3318, Validation loss: 1.2529 | Train accuracy: 0.8990, Validation accuracy: 0.6682\n",
            "Epoch 25: Train err: 0.0799, Train loss: 0.2475 | Validation err: 0.2265, Validation loss: 0.9686 | Train accuracy: 0.9201, Validation accuracy: 0.7735\n",
            "Epoch 26: Train err: 0.0588, Train loss: 0.1850 | Validation err: 0.2517, Validation loss: 1.0141 | Train accuracy: 0.9412, Validation accuracy: 0.7483\n",
            "Epoch 27: Train err: 0.0462, Train loss: 0.1665 | Validation err: 0.2311, Validation loss: 1.0136 | Train accuracy: 0.9538, Validation accuracy: 0.7689\n",
            "Epoch 28: Train err: 0.0468, Train loss: 0.1491 | Validation err: 0.2563, Validation loss: 1.1643 | Train accuracy: 0.9532, Validation accuracy: 0.7437\n",
            "Epoch 29: Train err: 0.0554, Train loss: 0.1646 | Validation err: 0.2700, Validation loss: 1.1179 | Train accuracy: 0.9446, Validation accuracy: 0.7300\n",
            "Epoch 30: Train err: 0.0285, Train loss: 0.1122 | Validation err: 0.2243, Validation loss: 1.0378 | Train accuracy: 0.9715, Validation accuracy: 0.7757\n",
            "Finished Training\n",
            "Total time elapsed: 307.47 seconds\n"
          ]
        },
        {
          "output_type": "stream",
          "name": "stderr",
          "text": [
            "[I 2025-02-09 18:54:16,936] Trial 9 finished with value: 0.2242562929061785 and parameters: {'learning_rate': 0.0007800752494379903, 'batch_size': 64, 'hidden_units': 96}. Best is trial 6 with value: 0.1945080091533181.\n"
          ]
        },
        {
          "output_type": "stream",
          "name": "stdout",
          "text": [
            "Epoch 1: Train err: 0.7426, Train loss: 2.0022 | Validation err: 0.5950, Validation loss: 1.7529 | Train accuracy: 0.2574, Validation accuracy: 0.4050\n",
            "Epoch 2: Train err: 0.4549, Train loss: 1.2878 | Validation err: 0.4462, Validation loss: 1.1992 | Train accuracy: 0.5451, Validation accuracy: 0.5538\n",
            "Epoch 3: Train err: 0.3390, Train loss: 0.9705 | Validation err: 0.3867, Validation loss: 1.1322 | Train accuracy: 0.6610, Validation accuracy: 0.6133\n",
            "Epoch 4: Train err: 0.3071, Train loss: 0.8755 | Validation err: 0.3043, Validation loss: 1.0051 | Train accuracy: 0.6929, Validation accuracy: 0.6957\n",
            "Epoch 5: Train err: 0.2711, Train loss: 0.7849 | Validation err: 0.2883, Validation loss: 0.8955 | Train accuracy: 0.7289, Validation accuracy: 0.7117\n",
            "Epoch 6: Train err: 0.2226, Train loss: 0.6512 | Validation err: 0.2998, Validation loss: 0.9171 | Train accuracy: 0.7774, Validation accuracy: 0.7002\n",
            "Epoch 7: Train err: 0.2106, Train loss: 0.6047 | Validation err: 0.2815, Validation loss: 0.9125 | Train accuracy: 0.7894, Validation accuracy: 0.7185\n",
            "Epoch 8: Train err: 0.1906, Train loss: 0.5317 | Validation err: 0.3387, Validation loss: 1.0451 | Train accuracy: 0.8094, Validation accuracy: 0.6613\n",
            "Epoch 9: Train err: 0.1524, Train loss: 0.4467 | Validation err: 0.2609, Validation loss: 0.8882 | Train accuracy: 0.8476, Validation accuracy: 0.7391\n",
            "Epoch 10: Train err: 0.1330, Train loss: 0.3664 | Validation err: 0.2540, Validation loss: 0.9359 | Train accuracy: 0.8670, Validation accuracy: 0.7460\n",
            "Epoch 11: Train err: 0.1210, Train loss: 0.3463 | Validation err: 0.2403, Validation loss: 0.8006 | Train accuracy: 0.8790, Validation accuracy: 0.7597\n",
            "Epoch 12: Train err: 0.0885, Train loss: 0.2434 | Validation err: 0.2151, Validation loss: 0.9317 | Train accuracy: 0.9115, Validation accuracy: 0.7849\n",
            "Epoch 13: Train err: 0.0753, Train loss: 0.2240 | Validation err: 0.2403, Validation loss: 0.9733 | Train accuracy: 0.9247, Validation accuracy: 0.7597\n",
            "Epoch 14: Train err: 0.0696, Train loss: 0.2010 | Validation err: 0.2197, Validation loss: 0.9364 | Train accuracy: 0.9304, Validation accuracy: 0.7803\n",
            "Epoch 15: Train err: 0.0491, Train loss: 0.1525 | Validation err: 0.2334, Validation loss: 1.1018 | Train accuracy: 0.9509, Validation accuracy: 0.7666\n",
            "Epoch 16: Train err: 0.0639, Train loss: 0.1997 | Validation err: 0.2471, Validation loss: 1.1139 | Train accuracy: 0.9361, Validation accuracy: 0.7529\n",
            "Epoch 17: Train err: 0.0297, Train loss: 0.0851 | Validation err: 0.2128, Validation loss: 1.0462 | Train accuracy: 0.9703, Validation accuracy: 0.7872\n",
            "Epoch 18: Train err: 0.0154, Train loss: 0.0500 | Validation err: 0.2105, Validation loss: 1.1305 | Train accuracy: 0.9846, Validation accuracy: 0.7895\n",
            "Epoch 19: Train err: 0.0063, Train loss: 0.0272 | Validation err: 0.2082, Validation loss: 1.1999 | Train accuracy: 0.9937, Validation accuracy: 0.7918\n",
            "Epoch 20: Train err: 0.0023, Train loss: 0.0129 | Validation err: 0.1991, Validation loss: 1.1419 | Train accuracy: 0.9977, Validation accuracy: 0.8009\n",
            "Epoch 21: Train err: 0.0000, Train loss: 0.0041 | Validation err: 0.1968, Validation loss: 1.2763 | Train accuracy: 1.0000, Validation accuracy: 0.8032\n",
            "Epoch 22: Train err: 0.0000, Train loss: 0.0016 | Validation err: 0.1876, Validation loss: 1.3251 | Train accuracy: 1.0000, Validation accuracy: 0.8124\n",
            "Epoch 23: Train err: 0.0000, Train loss: 0.0009 | Validation err: 0.1899, Validation loss: 1.3649 | Train accuracy: 1.0000, Validation accuracy: 0.8101\n",
            "Epoch 24: Train err: 0.0000, Train loss: 0.0007 | Validation err: 0.1922, Validation loss: 1.3957 | Train accuracy: 1.0000, Validation accuracy: 0.8078\n",
            "Epoch 25: Train err: 0.0000, Train loss: 0.0006 | Validation err: 0.1922, Validation loss: 1.4237 | Train accuracy: 1.0000, Validation accuracy: 0.8078\n",
            "Epoch 26: Train err: 0.0000, Train loss: 0.0005 | Validation err: 0.1922, Validation loss: 1.4490 | Train accuracy: 1.0000, Validation accuracy: 0.8078\n",
            "Epoch 27: Train err: 0.0000, Train loss: 0.0005 | Validation err: 0.1945, Validation loss: 1.4727 | Train accuracy: 1.0000, Validation accuracy: 0.8055\n",
            "Epoch 28: Train err: 0.0000, Train loss: 0.0004 | Validation err: 0.1945, Validation loss: 1.4907 | Train accuracy: 1.0000, Validation accuracy: 0.8055\n",
            "Epoch 29: Train err: 0.0000, Train loss: 0.0004 | Validation err: 0.1945, Validation loss: 1.5076 | Train accuracy: 1.0000, Validation accuracy: 0.8055\n",
            "Epoch 30: Train err: 0.0000, Train loss: 0.0004 | Validation err: 0.1945, Validation loss: 1.5258 | Train accuracy: 1.0000, Validation accuracy: 0.8055\n",
            "Finished Training\n",
            "Total time elapsed: 308.42 seconds\n"
          ]
        },
        {
          "output_type": "stream",
          "name": "stderr",
          "text": [
            "[I 2025-02-09 18:59:27,299] Trial 10 finished with value: 0.1945080091533181 and parameters: {'learning_rate': 0.006264388978134985, 'batch_size': 32, 'hidden_units': 128}. Best is trial 6 with value: 0.1945080091533181.\n"
          ]
        },
        {
          "output_type": "stream",
          "name": "stdout",
          "text": [
            "Epoch 1: Train err: 0.7780, Train loss: 2.1261 | Validation err: 0.5675, Validation loss: 1.7507 | Train accuracy: 0.2220, Validation accuracy: 0.4325\n",
            "Epoch 2: Train err: 0.4795, Train loss: 1.4210 | Validation err: 0.4645, Validation loss: 1.2875 | Train accuracy: 0.5205, Validation accuracy: 0.5355\n",
            "Epoch 3: Train err: 0.3699, Train loss: 1.0844 | Validation err: 0.3295, Validation loss: 1.1231 | Train accuracy: 0.6301, Validation accuracy: 0.6705\n",
            "Epoch 4: Train err: 0.3042, Train loss: 0.8940 | Validation err: 0.3661, Validation loss: 1.0813 | Train accuracy: 0.6958, Validation accuracy: 0.6339\n",
            "Epoch 5: Train err: 0.2842, Train loss: 0.8161 | Validation err: 0.3021, Validation loss: 0.9633 | Train accuracy: 0.7158, Validation accuracy: 0.6979\n",
            "Epoch 6: Train err: 0.2414, Train loss: 0.7165 | Validation err: 0.3593, Validation loss: 1.0127 | Train accuracy: 0.7586, Validation accuracy: 0.6407\n",
            "Epoch 7: Train err: 0.2380, Train loss: 0.6700 | Validation err: 0.2654, Validation loss: 0.8274 | Train accuracy: 0.7620, Validation accuracy: 0.7346\n",
            "Epoch 8: Train err: 0.1844, Train loss: 0.5566 | Validation err: 0.2815, Validation loss: 0.8354 | Train accuracy: 0.8156, Validation accuracy: 0.7185\n",
            "Epoch 9: Train err: 0.1952, Train loss: 0.5321 | Validation err: 0.2792, Validation loss: 0.8929 | Train accuracy: 0.8048, Validation accuracy: 0.7208\n",
            "Epoch 10: Train err: 0.1564, Train loss: 0.4579 | Validation err: 0.2838, Validation loss: 0.8861 | Train accuracy: 0.8436, Validation accuracy: 0.7162\n",
            "Epoch 11: Train err: 0.1427, Train loss: 0.3870 | Validation err: 0.3272, Validation loss: 1.1558 | Train accuracy: 0.8573, Validation accuracy: 0.6728\n",
            "Epoch 12: Train err: 0.1130, Train loss: 0.3365 | Validation err: 0.2128, Validation loss: 0.8381 | Train accuracy: 0.8870, Validation accuracy: 0.7872\n",
            "Epoch 13: Train err: 0.0953, Train loss: 0.2807 | Validation err: 0.1968, Validation loss: 0.7355 | Train accuracy: 0.9047, Validation accuracy: 0.8032\n",
            "Epoch 14: Train err: 0.0953, Train loss: 0.2761 | Validation err: 0.2082, Validation loss: 0.9022 | Train accuracy: 0.9047, Validation accuracy: 0.7918\n",
            "Epoch 15: Train err: 0.0890, Train loss: 0.2690 | Validation err: 0.2746, Validation loss: 1.0028 | Train accuracy: 0.9110, Validation accuracy: 0.7254\n",
            "Epoch 16: Train err: 0.0668, Train loss: 0.1947 | Validation err: 0.1899, Validation loss: 0.8194 | Train accuracy: 0.9332, Validation accuracy: 0.8101\n",
            "Epoch 17: Train err: 0.0342, Train loss: 0.1100 | Validation err: 0.1831, Validation loss: 1.0020 | Train accuracy: 0.9658, Validation accuracy: 0.8169\n",
            "Epoch 18: Train err: 0.0285, Train loss: 0.0884 | Validation err: 0.2059, Validation loss: 1.0754 | Train accuracy: 0.9715, Validation accuracy: 0.7941\n",
            "Epoch 19: Train err: 0.0325, Train loss: 0.0842 | Validation err: 0.1876, Validation loss: 1.0134 | Train accuracy: 0.9675, Validation accuracy: 0.8124\n",
            "Epoch 20: Train err: 0.0228, Train loss: 0.0680 | Validation err: 0.1808, Validation loss: 0.9449 | Train accuracy: 0.9772, Validation accuracy: 0.8192\n",
            "Epoch 21: Train err: 0.0051, Train loss: 0.0293 | Validation err: 0.1899, Validation loss: 1.1657 | Train accuracy: 0.9949, Validation accuracy: 0.8101\n",
            "Epoch 22: Train err: 0.0051, Train loss: 0.0251 | Validation err: 0.1876, Validation loss: 1.2457 | Train accuracy: 0.9949, Validation accuracy: 0.8124\n",
            "Epoch 23: Train err: 0.0023, Train loss: 0.0105 | Validation err: 0.1762, Validation loss: 1.2391 | Train accuracy: 0.9977, Validation accuracy: 0.8238\n",
            "Epoch 24: Train err: 0.0011, Train loss: 0.0069 | Validation err: 0.1831, Validation loss: 1.3578 | Train accuracy: 0.9989, Validation accuracy: 0.8169\n",
            "Epoch 25: Train err: 0.0029, Train loss: 0.0098 | Validation err: 0.2082, Validation loss: 1.3664 | Train accuracy: 0.9971, Validation accuracy: 0.7918\n",
            "Epoch 26: Train err: 0.0086, Train loss: 0.0370 | Validation err: 0.1785, Validation loss: 1.1365 | Train accuracy: 0.9914, Validation accuracy: 0.8215\n",
            "Epoch 27: Train err: 0.0177, Train loss: 0.0595 | Validation err: 0.2288, Validation loss: 1.2132 | Train accuracy: 0.9823, Validation accuracy: 0.7712\n",
            "Epoch 28: Train err: 0.0154, Train loss: 0.0536 | Validation err: 0.1899, Validation loss: 1.0412 | Train accuracy: 0.9846, Validation accuracy: 0.8101\n",
            "Epoch 29: Train err: 0.0034, Train loss: 0.0189 | Validation err: 0.1808, Validation loss: 1.1518 | Train accuracy: 0.9966, Validation accuracy: 0.8192\n",
            "Epoch 30: Train err: 0.0023, Train loss: 0.0173 | Validation err: 0.1854, Validation loss: 1.2597 | Train accuracy: 0.9977, Validation accuracy: 0.8146\n",
            "Finished Training\n",
            "Total time elapsed: 306.12 seconds\n"
          ]
        },
        {
          "output_type": "stream",
          "name": "stderr",
          "text": [
            "[I 2025-02-09 19:04:35,387] Trial 11 finished with value: 0.1853546910755149 and parameters: {'learning_rate': 0.006099192147536632, 'batch_size': 32, 'hidden_units': 128}. Best is trial 11 with value: 0.1853546910755149.\n"
          ]
        },
        {
          "output_type": "stream",
          "name": "stdout",
          "text": [
            "Epoch 1: Train err: 0.8037, Train loss: 2.0985 | Validation err: 0.5606, Validation loss: 1.7181 | Train accuracy: 0.1963, Validation accuracy: 0.4394\n",
            "Epoch 2: Train err: 0.4960, Train loss: 1.4141 | Validation err: 0.4279, Validation loss: 1.2199 | Train accuracy: 0.5040, Validation accuracy: 0.5721\n",
            "Epoch 3: Train err: 0.3590, Train loss: 1.0180 | Validation err: 0.3295, Validation loss: 1.0550 | Train accuracy: 0.6410, Validation accuracy: 0.6705\n",
            "Epoch 4: Train err: 0.2979, Train loss: 0.8784 | Validation err: 0.3204, Validation loss: 1.0321 | Train accuracy: 0.7021, Validation accuracy: 0.6796\n",
            "Epoch 5: Train err: 0.2568, Train loss: 0.7405 | Validation err: 0.3021, Validation loss: 1.0025 | Train accuracy: 0.7432, Validation accuracy: 0.6979\n",
            "Epoch 6: Train err: 0.2289, Train loss: 0.6646 | Validation err: 0.3089, Validation loss: 1.0295 | Train accuracy: 0.7711, Validation accuracy: 0.6911\n",
            "Epoch 7: Train err: 0.2317, Train loss: 0.6388 | Validation err: 0.2723, Validation loss: 0.8341 | Train accuracy: 0.7683, Validation accuracy: 0.7277\n",
            "Epoch 8: Train err: 0.2021, Train loss: 0.5571 | Validation err: 0.2883, Validation loss: 0.8616 | Train accuracy: 0.7979, Validation accuracy: 0.7117\n",
            "Epoch 9: Train err: 0.1758, Train loss: 0.5104 | Validation err: 0.2654, Validation loss: 0.8849 | Train accuracy: 0.8242, Validation accuracy: 0.7346\n",
            "Epoch 10: Train err: 0.1541, Train loss: 0.4386 | Validation err: 0.2243, Validation loss: 0.7513 | Train accuracy: 0.8459, Validation accuracy: 0.7757\n",
            "Epoch 11: Train err: 0.1119, Train loss: 0.3396 | Validation err: 0.2540, Validation loss: 0.9216 | Train accuracy: 0.8881, Validation accuracy: 0.7460\n",
            "Epoch 12: Train err: 0.1050, Train loss: 0.3005 | Validation err: 0.2998, Validation loss: 1.1539 | Train accuracy: 0.8950, Validation accuracy: 0.7002\n",
            "Epoch 13: Train err: 0.0765, Train loss: 0.2230 | Validation err: 0.2265, Validation loss: 0.9939 | Train accuracy: 0.9235, Validation accuracy: 0.7735\n",
            "Epoch 14: Train err: 0.0793, Train loss: 0.2017 | Validation err: 0.2220, Validation loss: 0.9168 | Train accuracy: 0.9207, Validation accuracy: 0.7780\n",
            "Epoch 15: Train err: 0.0594, Train loss: 0.1671 | Validation err: 0.2540, Validation loss: 1.0845 | Train accuracy: 0.9406, Validation accuracy: 0.7460\n",
            "Epoch 16: Train err: 0.0491, Train loss: 0.1549 | Validation err: 0.2609, Validation loss: 1.1890 | Train accuracy: 0.9509, Validation accuracy: 0.7391\n",
            "Epoch 17: Train err: 0.0799, Train loss: 0.2102 | Validation err: 0.2517, Validation loss: 0.9738 | Train accuracy: 0.9201, Validation accuracy: 0.7483\n",
            "Epoch 18: Train err: 0.0354, Train loss: 0.1129 | Validation err: 0.1945, Validation loss: 0.9872 | Train accuracy: 0.9646, Validation accuracy: 0.8055\n",
            "Epoch 19: Train err: 0.0194, Train loss: 0.0594 | Validation err: 0.1968, Validation loss: 1.0237 | Train accuracy: 0.9806, Validation accuracy: 0.8032\n",
            "Epoch 20: Train err: 0.0114, Train loss: 0.0424 | Validation err: 0.2037, Validation loss: 1.1836 | Train accuracy: 0.9886, Validation accuracy: 0.7963\n",
            "Epoch 21: Train err: 0.0223, Train loss: 0.0595 | Validation err: 0.2243, Validation loss: 1.1554 | Train accuracy: 0.9777, Validation accuracy: 0.7757\n",
            "Epoch 22: Train err: 0.0068, Train loss: 0.0263 | Validation err: 0.2037, Validation loss: 1.2029 | Train accuracy: 0.9932, Validation accuracy: 0.7963\n",
            "Epoch 23: Train err: 0.0034, Train loss: 0.0195 | Validation err: 0.1945, Validation loss: 1.2401 | Train accuracy: 0.9966, Validation accuracy: 0.8055\n",
            "Epoch 24: Train err: 0.0011, Train loss: 0.0073 | Validation err: 0.2059, Validation loss: 1.3472 | Train accuracy: 0.9989, Validation accuracy: 0.7941\n",
            "Epoch 25: Train err: 0.0000, Train loss: 0.0035 | Validation err: 0.1876, Validation loss: 1.3050 | Train accuracy: 1.0000, Validation accuracy: 0.8124\n",
            "Epoch 26: Train err: 0.0006, Train loss: 0.0024 | Validation err: 0.1922, Validation loss: 1.3474 | Train accuracy: 0.9994, Validation accuracy: 0.8078\n",
            "Epoch 27: Train err: 0.0000, Train loss: 0.0014 | Validation err: 0.1968, Validation loss: 1.3869 | Train accuracy: 1.0000, Validation accuracy: 0.8032\n",
            "Epoch 28: Train err: 0.0000, Train loss: 0.0008 | Validation err: 0.1991, Validation loss: 1.4159 | Train accuracy: 1.0000, Validation accuracy: 0.8009\n",
            "Epoch 29: Train err: 0.0000, Train loss: 0.0007 | Validation err: 0.1945, Validation loss: 1.4391 | Train accuracy: 1.0000, Validation accuracy: 0.8055\n",
            "Epoch 30: Train err: 0.0000, Train loss: 0.0006 | Validation err: 0.1945, Validation loss: 1.4603 | Train accuracy: 1.0000, Validation accuracy: 0.8055\n",
            "Finished Training\n",
            "Total time elapsed: 307.43 seconds\n"
          ]
        },
        {
          "output_type": "stream",
          "name": "stderr",
          "text": [
            "[I 2025-02-09 19:09:44,707] Trial 12 finished with value: 0.1945080091533181 and parameters: {'learning_rate': 0.005564728626093972, 'batch_size': 32, 'hidden_units': 128}. Best is trial 11 with value: 0.1853546910755149.\n"
          ]
        },
        {
          "output_type": "stream",
          "name": "stdout",
          "text": [
            "Epoch 1: Train err: 0.7317, Train loss: 2.0201 | Validation err: 0.6224, Validation loss: 1.9490 | Train accuracy: 0.2683, Validation accuracy: 0.3776\n",
            "Epoch 2: Train err: 0.4994, Train loss: 1.4448 | Validation err: 0.4119, Validation loss: 1.2843 | Train accuracy: 0.5006, Validation accuracy: 0.5881\n",
            "Epoch 3: Train err: 0.3356, Train loss: 0.9969 | Validation err: 0.3524, Validation loss: 1.0261 | Train accuracy: 0.6644, Validation accuracy: 0.6476\n",
            "Epoch 4: Train err: 0.3111, Train loss: 0.8536 | Validation err: 0.3936, Validation loss: 0.9985 | Train accuracy: 0.6889, Validation accuracy: 0.6064\n",
            "Epoch 5: Train err: 0.2740, Train loss: 0.7730 | Validation err: 0.2929, Validation loss: 0.9301 | Train accuracy: 0.7260, Validation accuracy: 0.7071\n",
            "Epoch 6: Train err: 0.2409, Train loss: 0.6585 | Validation err: 0.2860, Validation loss: 0.9427 | Train accuracy: 0.7591, Validation accuracy: 0.7140\n",
            "Epoch 7: Train err: 0.1792, Train loss: 0.5180 | Validation err: 0.3089, Validation loss: 1.0082 | Train accuracy: 0.8208, Validation accuracy: 0.6911\n",
            "Epoch 8: Train err: 0.1324, Train loss: 0.3929 | Validation err: 0.3181, Validation loss: 1.0626 | Train accuracy: 0.8676, Validation accuracy: 0.6819\n",
            "Epoch 9: Train err: 0.1398, Train loss: 0.4132 | Validation err: 0.2586, Validation loss: 1.0213 | Train accuracy: 0.8602, Validation accuracy: 0.7414\n",
            "Epoch 10: Train err: 0.0965, Train loss: 0.2799 | Validation err: 0.2815, Validation loss: 0.9635 | Train accuracy: 0.9035, Validation accuracy: 0.7185\n",
            "Epoch 11: Train err: 0.0662, Train loss: 0.1891 | Validation err: 0.2403, Validation loss: 1.1442 | Train accuracy: 0.9338, Validation accuracy: 0.7597\n",
            "Epoch 12: Train err: 0.0622, Train loss: 0.1736 | Validation err: 0.2311, Validation loss: 0.9890 | Train accuracy: 0.9378, Validation accuracy: 0.7689\n",
            "Epoch 13: Train err: 0.0217, Train loss: 0.0721 | Validation err: 0.2243, Validation loss: 1.2746 | Train accuracy: 0.9783, Validation accuracy: 0.7757\n",
            "Epoch 14: Train err: 0.0080, Train loss: 0.0314 | Validation err: 0.2174, Validation loss: 1.2296 | Train accuracy: 0.9920, Validation accuracy: 0.7826\n",
            "Epoch 15: Train err: 0.0074, Train loss: 0.0233 | Validation err: 0.2426, Validation loss: 1.4159 | Train accuracy: 0.9926, Validation accuracy: 0.7574\n",
            "Epoch 16: Train err: 0.0046, Train loss: 0.0140 | Validation err: 0.2265, Validation loss: 1.2709 | Train accuracy: 0.9954, Validation accuracy: 0.7735\n",
            "Epoch 17: Train err: 0.0000, Train loss: 0.0069 | Validation err: 0.2105, Validation loss: 1.4611 | Train accuracy: 1.0000, Validation accuracy: 0.7895\n",
            "Epoch 18: Train err: 0.0011, Train loss: 0.0037 | Validation err: 0.2357, Validation loss: 1.6613 | Train accuracy: 0.9989, Validation accuracy: 0.7643\n",
            "Epoch 19: Train err: 0.0029, Train loss: 0.0082 | Validation err: 0.2128, Validation loss: 1.3541 | Train accuracy: 0.9971, Validation accuracy: 0.7872\n",
            "Epoch 20: Train err: 0.0000, Train loss: 0.0028 | Validation err: 0.2151, Validation loss: 1.4705 | Train accuracy: 1.0000, Validation accuracy: 0.7849\n",
            "Epoch 21: Train err: 0.0000, Train loss: 0.0009 | Validation err: 0.2265, Validation loss: 1.5504 | Train accuracy: 1.0000, Validation accuracy: 0.7735\n",
            "Epoch 22: Train err: 0.0000, Train loss: 0.0006 | Validation err: 0.2243, Validation loss: 1.6039 | Train accuracy: 1.0000, Validation accuracy: 0.7757\n",
            "Epoch 23: Train err: 0.0000, Train loss: 0.0004 | Validation err: 0.2220, Validation loss: 1.6365 | Train accuracy: 1.0000, Validation accuracy: 0.7780\n",
            "Epoch 24: Train err: 0.0000, Train loss: 0.0004 | Validation err: 0.2197, Validation loss: 1.6673 | Train accuracy: 1.0000, Validation accuracy: 0.7803\n",
            "Epoch 25: Train err: 0.0000, Train loss: 0.0003 | Validation err: 0.2197, Validation loss: 1.6909 | Train accuracy: 1.0000, Validation accuracy: 0.7803\n",
            "Epoch 26: Train err: 0.0000, Train loss: 0.0003 | Validation err: 0.2220, Validation loss: 1.7121 | Train accuracy: 1.0000, Validation accuracy: 0.7780\n",
            "Epoch 27: Train err: 0.0000, Train loss: 0.0003 | Validation err: 0.2243, Validation loss: 1.7311 | Train accuracy: 1.0000, Validation accuracy: 0.7757\n",
            "Epoch 28: Train err: 0.0000, Train loss: 0.0002 | Validation err: 0.2220, Validation loss: 1.7486 | Train accuracy: 1.0000, Validation accuracy: 0.7780\n",
            "Epoch 29: Train err: 0.0000, Train loss: 0.0002 | Validation err: 0.2243, Validation loss: 1.7647 | Train accuracy: 1.0000, Validation accuracy: 0.7757\n",
            "Epoch 30: Train err: 0.0000, Train loss: 0.0002 | Validation err: 0.2243, Validation loss: 1.7803 | Train accuracy: 1.0000, Validation accuracy: 0.7757\n",
            "Finished Training\n",
            "Total time elapsed: 309.49 seconds\n"
          ]
        },
        {
          "output_type": "stream",
          "name": "stderr",
          "text": [
            "[I 2025-02-09 19:14:56,860] Trial 13 finished with value: 0.2242562929061785 and parameters: {'learning_rate': 0.01044170573538385, 'batch_size': 16, 'hidden_units': 96}. Best is trial 11 with value: 0.1853546910755149.\n"
          ]
        },
        {
          "output_type": "stream",
          "name": "stdout",
          "text": [
            "Epoch 1: Train err: 0.8368, Train loss: 2.2491 | Validation err: 0.8947, Validation loss: 130.6686 | Train accuracy: 0.1632, Validation accuracy: 0.1053\n",
            "Epoch 2: Train err: 0.8721, Train loss: 31.6832 | Validation err: 0.7963, Validation loss: 2.2126 | Train accuracy: 0.1279, Validation accuracy: 0.2037\n",
            "Epoch 3: Train err: 0.6906, Train loss: 1.8738 | Validation err: 0.6064, Validation loss: 1.5581 | Train accuracy: 0.3094, Validation accuracy: 0.3936\n",
            "Epoch 4: Train err: 0.5245, Train loss: 1.4150 | Validation err: 0.4943, Validation loss: 1.4057 | Train accuracy: 0.4755, Validation accuracy: 0.5057\n",
            "Epoch 5: Train err: 0.3773, Train loss: 1.0325 | Validation err: 0.4920, Validation loss: 1.5986 | Train accuracy: 0.6227, Validation accuracy: 0.5080\n",
            "Epoch 6: Train err: 0.2865, Train loss: 0.7822 | Validation err: 0.5080, Validation loss: 2.0124 | Train accuracy: 0.7135, Validation accuracy: 0.4920\n",
            "Epoch 7: Train err: 0.2255, Train loss: 0.6422 | Validation err: 0.4737, Validation loss: 1.9068 | Train accuracy: 0.7745, Validation accuracy: 0.5263\n",
            "Epoch 8: Train err: 0.2026, Train loss: 0.5584 | Validation err: 0.5172, Validation loss: 1.8888 | Train accuracy: 0.7974, Validation accuracy: 0.4828\n",
            "Epoch 9: Train err: 0.1170, Train loss: 0.3501 | Validation err: 0.4577, Validation loss: 2.4031 | Train accuracy: 0.8830, Validation accuracy: 0.5423\n",
            "Epoch 10: Train err: 0.1313, Train loss: 0.3901 | Validation err: 0.5240, Validation loss: 3.1804 | Train accuracy: 0.8687, Validation accuracy: 0.4760\n",
            "Epoch 11: Train err: 0.0742, Train loss: 0.2320 | Validation err: 0.4920, Validation loss: 3.0896 | Train accuracy: 0.9258, Validation accuracy: 0.5080\n",
            "Epoch 12: Train err: 0.0885, Train loss: 0.2950 | Validation err: 0.5126, Validation loss: 2.8614 | Train accuracy: 0.9115, Validation accuracy: 0.4874\n",
            "Epoch 13: Train err: 0.0548, Train loss: 0.1779 | Validation err: 0.5057, Validation loss: 3.7428 | Train accuracy: 0.9452, Validation accuracy: 0.4943\n",
            "Epoch 14: Train err: 0.0360, Train loss: 0.1188 | Validation err: 0.5240, Validation loss: 5.7808 | Train accuracy: 0.9640, Validation accuracy: 0.4760\n",
            "Epoch 15: Train err: 0.2300, Train loss: 0.9070 | Validation err: 0.6453, Validation loss: 2.7977 | Train accuracy: 0.7700, Validation accuracy: 0.3547\n",
            "Epoch 16: Train err: 0.1998, Train loss: 0.8892 | Validation err: 0.6613, Validation loss: 9.3266 | Train accuracy: 0.8002, Validation accuracy: 0.3387\n",
            "Epoch 17: Train err: 0.3682, Train loss: 1.2866 | Validation err: 0.6636, Validation loss: 4.1051 | Train accuracy: 0.6318, Validation accuracy: 0.3364\n",
            "Epoch 18: Train err: 0.1610, Train loss: 0.5530 | Validation err: 0.6499, Validation loss: 3.3787 | Train accuracy: 0.8390, Validation accuracy: 0.3501\n",
            "Epoch 19: Train err: 0.0388, Train loss: 0.1371 | Validation err: 0.6384, Validation loss: 5.5642 | Train accuracy: 0.9612, Validation accuracy: 0.3616\n",
            "Epoch 20: Train err: 0.0126, Train loss: 0.0416 | Validation err: 0.6293, Validation loss: 6.2225 | Train accuracy: 0.9874, Validation accuracy: 0.3707\n",
            "Epoch 21: Train err: 0.0057, Train loss: 0.0207 | Validation err: 0.6362, Validation loss: 6.1976 | Train accuracy: 0.9943, Validation accuracy: 0.3638\n",
            "Epoch 22: Train err: 0.0011, Train loss: 0.0086 | Validation err: 0.6316, Validation loss: 6.8824 | Train accuracy: 0.9989, Validation accuracy: 0.3684\n",
            "Epoch 23: Train err: 0.0006, Train loss: 0.0037 | Validation err: 0.6316, Validation loss: 7.4656 | Train accuracy: 0.9994, Validation accuracy: 0.3684\n",
            "Epoch 24: Train err: 0.0006, Train loss: 0.0027 | Validation err: 0.6293, Validation loss: 7.8453 | Train accuracy: 0.9994, Validation accuracy: 0.3707\n",
            "Epoch 25: Train err: 0.0000, Train loss: 0.0021 | Validation err: 0.6316, Validation loss: 7.8880 | Train accuracy: 1.0000, Validation accuracy: 0.3684\n",
            "Epoch 26: Train err: 0.0000, Train loss: 0.0014 | Validation err: 0.6247, Validation loss: 8.2872 | Train accuracy: 1.0000, Validation accuracy: 0.3753\n",
            "Epoch 27: Train err: 0.0000, Train loss: 0.0011 | Validation err: 0.6270, Validation loss: 8.4266 | Train accuracy: 1.0000, Validation accuracy: 0.3730\n",
            "Epoch 28: Train err: 0.0000, Train loss: 0.0010 | Validation err: 0.6293, Validation loss: 8.5443 | Train accuracy: 1.0000, Validation accuracy: 0.3707\n",
            "Epoch 29: Train err: 0.0000, Train loss: 0.0009 | Validation err: 0.6293, Validation loss: 8.6358 | Train accuracy: 1.0000, Validation accuracy: 0.3707\n",
            "Epoch 30: Train err: 0.0000, Train loss: 0.0009 | Validation err: 0.6316, Validation loss: 8.7179 | Train accuracy: 1.0000, Validation accuracy: 0.3684\n",
            "Finished Training\n",
            "Total time elapsed: 311.38 seconds\n"
          ]
        },
        {
          "output_type": "stream",
          "name": "stderr",
          "text": [
            "[I 2025-02-09 19:20:11,350] Trial 14 finished with value: 0.631578947368421 and parameters: {'learning_rate': 0.09978364747104368, 'batch_size': 32, 'hidden_units': 112}. Best is trial 11 with value: 0.1853546910755149.\n"
          ]
        },
        {
          "output_type": "stream",
          "name": "stdout",
          "text": [
            "Best hyperparameters: {'learning_rate': 0.006099192147536632, 'batch_size': 32, 'hidden_units': 128}\n"
          ]
        }
      ]
    },
    {
      "cell_type": "markdown",
      "metadata": {
        "id": "H93iN5_l60BO"
      },
      "source": [
        "### Part (iii) - [2pt DISCUSSION]\n",
        "Choose the best model out of all the ones that you have trained. Justify your choice."
      ]
    },
    {
      "cell_type": "code",
      "execution_count": null,
      "metadata": {
        "id": "eJHwissDbNMD"
      },
      "outputs": [],
      "source": [
        "'''\n",
        "PROVIDE YOUR ANSWER BELOW\n",
        "\n",
        "\n",
        "\n",
        "\n",
        "\n",
        "\n",
        "'''"
      ]
    },
    {
      "cell_type": "markdown",
      "metadata": {
        "id": "QzNA5oup67JO"
      },
      "source": [
        "### Part (iv) - [2pt RESULTS]\n",
        "Report the test accuracy of your best model. You should only do this step once and prior to this step you should have only used the training and validation data.\n",
        "\n",
        "Additionally, provide a confusion matrix to visualize the performance of your model across different classes."
      ]
    },
    {
      "cell_type": "code",
      "execution_count": null,
      "metadata": {
        "id": "HL_gly-PbOyD"
      },
      "outputs": [],
      "source": [
        "# TO BE COMPLETED\n",
        "\n",
        "\n",
        "\n"
      ]
    },
    {
      "cell_type": "code",
      "execution_count": null,
      "metadata": {
        "id": "C6R_NNH_bOyN"
      },
      "outputs": [],
      "source": [
        "'''\n",
        "PROVIDE YOUR ANSWER BELOW\n",
        "\n",
        "\n",
        "\n",
        "\n",
        "\n",
        "\n",
        "'''"
      ]
    },
    {
      "cell_type": "markdown",
      "metadata": {
        "id": "Wrem-iXV6_Bz"
      },
      "source": [
        "## Part 4. Transfer Learning [8pt]\n",
        "For many image classification tasks, it is generally not a good idea to train a very large deep neural network\n",
        "model from scratch due to the enormous compute requirements and lack of sufficient amounts of training\n",
        "data.\n",
        "\n",
        "One of the better options is to try using an existing model that performs a similar task to the one you need\n",
        "to solve. This method of utilizing a pre-trained network for other similar tasks is broadly termed **Transfer\n",
        "Learning**. In this assignment, we will use Transfer Learning to extract features from the hand gesture\n",
        "images. Then, train a smaller network to use these features as input and classify the hand gestures.\n",
        "\n",
        "As you have learned from the CNN lecture, convolution layers extract various features from the images which\n",
        "get utilized by the fully connected layers for correct classification. AlexNet architecture played a pivotal\n",
        "role in establishing Deep Neural Nets as a go-to tool for image classification problems and we will use an\n",
        "ImageNet pre-trained AlexNet model to extract features in this assignment."
      ]
    },
    {
      "cell_type": "markdown",
      "metadata": {
        "id": "rWdQJz4Q7O2F"
      },
      "source": [
        "### Part (i) - [1pt EXPLORATORY]\n",
        "Here is the code to load the AlexNet network, with pretrained weights. When you first run the code, PyTorch\n",
        "will download the pretrained weights from the internet."
      ]
    },
    {
      "cell_type": "code",
      "execution_count": null,
      "metadata": {
        "id": "BJKcTW9C7TZk"
      },
      "outputs": [],
      "source": [
        "import torchvision.models\n",
        "alexnet = torchvision.models.alexnet(pretrained=True)"
      ]
    },
    {
      "cell_type": "markdown",
      "metadata": {
        "id": "NQ0GZYaP7VAR"
      },
      "source": [
        "The alexnet model is split up into two components: *alexnet.features* and *alexnet.classifier*. The\n",
        "first neural network component, *alexnet.features*, is used to compute convolutional features, which are\n",
        "taken as input in *alexnet.classifier*.\n",
        "\n",
        "The neural network alexnet.features expects an image tensor of shape Nx3x224x224 as input and it will\n",
        "output a tensor of shape Nx256x6x6 . (N = batch size).\n",
        "\n",
        "Compute the AlexNet features for each of your training, validation, and test data. Here is an example code\n",
        "snippet showing how you can compute the AlexNet features for some images (your actual code might be\n",
        "different):"
      ]
    },
    {
      "cell_type": "code",
      "execution_count": null,
      "metadata": {
        "id": "oX7SjVdB7XAE"
      },
      "outputs": [],
      "source": [
        "# img = ... a PyTorch tensor with shape [N,3,224,224] containing hand images ...\n",
        "features = alexnet.features(img)"
      ]
    },
    {
      "cell_type": "markdown",
      "metadata": {
        "id": "DYcjHg_A7cCM"
      },
      "source": [
        "**Save the computed features**. You will be using these features as input to your neural network in Part\n",
        "(ii), and you do not want to re-compute the features every time. Instead, run *alexnet.features* once for\n",
        "each image, and save the result."
      ]
    },
    {
      "cell_type": "code",
      "execution_count": null,
      "metadata": {
        "id": "QDQr5eBybSOL"
      },
      "outputs": [],
      "source": [
        "# TO BE COMPLETED\n",
        "\n",
        "\n",
        "\n"
      ]
    },
    {
      "cell_type": "markdown",
      "metadata": {
        "id": "OFWvvhFN73qY"
      },
      "source": [
        "### Part (ii) - [1pt MODEL]\n",
        "Build a convolutional neural network that takes as input these AlexNet features, and makes a prediction using additional convolutional and/or linear layers. Your model should be a subclass of nn.Module.\n",
        "\n",
        "Explain your choice of neural network architecture: how many layers did you choose? What types of layers\n",
        "did you use: fully-connected or convolutional? What about other decisions like pooling layers, activation\n",
        "functions, number of channels / hidden units in each layer?\n",
        "\n",
        "Here is an example of how your model may be called:"
      ]
    },
    {
      "cell_type": "code",
      "execution_count": null,
      "metadata": {
        "id": "oVTuHUeV78-U"
      },
      "outputs": [],
      "source": [
        "# features = ... load precomputed alexnet.features(img) ...\n",
        "output = model(features)\n",
        "prob = F.softmax(output)"
      ]
    },
    {
      "cell_type": "code",
      "execution_count": null,
      "metadata": {
        "id": "k0fiyAZVbapt"
      },
      "outputs": [],
      "source": [
        "# TO BE COMPLETED\n",
        "\n",
        "\n",
        "\n"
      ]
    },
    {
      "cell_type": "code",
      "execution_count": null,
      "metadata": {
        "id": "P7FVHuYkbaqF"
      },
      "outputs": [],
      "source": [
        "'''\n",
        "PROVIDE YOUR ANSWER BELOW\n",
        "\n",
        "\n",
        "\n",
        "\n",
        "\n",
        "\n",
        "'''"
      ]
    },
    {
      "cell_type": "markdown",
      "metadata": {
        "id": "wVAGuURu7-9q"
      },
      "source": [
        "### Part (iii) - [1pt MODEL]\n",
        "Train your new network, including any hyperparameter tuning. Plot and submit the training curve of your\n",
        "best model only.\n",
        "\n",
        "Note: Depending on how you are caching (saving) your AlexNet features, PyTorch might still be tracking\n",
        "updates to the **AlexNet weights**, which we are not tuning. One workaround is to convert your AlexNet\n",
        "feature tensor into a numpy array, and then back into a PyTorch tensor."
      ]
    },
    {
      "cell_type": "code",
      "execution_count": null,
      "metadata": {
        "id": "JCmiH11x7-q1"
      },
      "outputs": [],
      "source": [
        "tensor = torch.from_numpy(tensor.detach().numpy())"
      ]
    },
    {
      "cell_type": "code",
      "execution_count": null,
      "metadata": {
        "id": "hbGXEv_9bd6_"
      },
      "outputs": [],
      "source": [
        "# TO BE COMPLETED\n",
        "\n",
        "\n",
        "\n"
      ]
    },
    {
      "cell_type": "markdown",
      "metadata": {
        "id": "hQ2tvqJ68Mqb"
      },
      "source": [
        "### Part (iv) - [1pt RESULTS]\n",
        "Report the test accuracy of your best model. How does the test accuracy compare to Part 3(iv) without transfer learning?\n",
        "\n",
        "Additionally, provide a confusion matrix to visualize the performance of your model across different classes."
      ]
    },
    {
      "cell_type": "code",
      "execution_count": null,
      "metadata": {
        "id": "a7TJTa_qbfrR"
      },
      "outputs": [],
      "source": [
        "# TO BE COMPLETED\n",
        "\n",
        "\n",
        "\n"
      ]
    },
    {
      "cell_type": "code",
      "execution_count": null,
      "metadata": {
        "id": "8Fyh08uCbfrm"
      },
      "outputs": [],
      "source": [
        "'''\n",
        "PROVIDE YOUR ANSWER BELOW\n",
        "\n",
        "\n",
        "\n",
        "\n",
        "\n",
        "\n",
        "'''"
      ]
    },
    {
      "cell_type": "markdown",
      "metadata": {
        "id": "OlOMAeplTOfc"
      },
      "source": [
        "### Part (v) - Transfer Learning with Another Pretrained Model [1pts EXPLORATORY]\n",
        "In this section, you will repeat the steps performed in Parts B4(i) to B4(iv) using another pretrained model available in torchvision.models. The goal is to compare the results obtained with AlexNet to those obtained with another model, such as VGG16 or ResNet18 (you can choose your model/s of interest)."
      ]
    },
    {
      "cell_type": "code",
      "execution_count": null,
      "metadata": {
        "id": "p4TvTSBJXw7o"
      },
      "outputs": [],
      "source": [
        "## Load the model/s of interest\n",
        "## TO BE COMPLETED\n",
        "\n",
        "\n"
      ]
    },
    {
      "cell_type": "markdown",
      "metadata": {
        "id": "ExuGaPASYYaF"
      },
      "source": [
        "### Part (vi) - [1pt MODEL]\n",
        "Build a convolutional neural network model that makes\n",
        "predictions based on features extracted by your model of interest in Part B4(v). Your model should be a subclass of nn.Module.\n",
        "\n",
        "Explain your choice of neural network architecture."
      ]
    },
    {
      "cell_type": "code",
      "execution_count": null,
      "metadata": {
        "id": "rBXTafjHYzul"
      },
      "outputs": [],
      "source": [
        "# TO BE COMPLETED\n",
        "\n",
        "\n",
        "\n"
      ]
    },
    {
      "cell_type": "code",
      "execution_count": null,
      "metadata": {
        "id": "QukvaphlZB-O"
      },
      "outputs": [],
      "source": [
        "'''\n",
        "PROVIDE YOUR ANSWER BELOW\n",
        "\n",
        "\n",
        "\n",
        "\n",
        "\n",
        "\n",
        "'''"
      ]
    },
    {
      "cell_type": "markdown",
      "metadata": {
        "id": "ZwzxSiwiZWKH"
      },
      "source": [
        "### Part (vii) - [1pt MODEL]\n",
        "Train your new network, including any hyperparameter tuning. Plot and submit the training curve of your best model only."
      ]
    },
    {
      "cell_type": "code",
      "execution_count": null,
      "metadata": {
        "id": "gtvERFJeZfeU"
      },
      "outputs": [],
      "source": [
        "# TO BE COMPLETED\n",
        "\n",
        "\n",
        "\n"
      ]
    },
    {
      "cell_type": "markdown",
      "metadata": {
        "id": "XL4c2TaqaEtB"
      },
      "source": [
        "### Part (viii) - [1pt RESULTS]\n",
        "Compare the performance of AlexNet (Part B4(iv)) and the other pretrained model you selected (Part B4(vii)). Discuss the differences in performance between AlexNet and the new model."
      ]
    },
    {
      "cell_type": "code",
      "execution_count": null,
      "metadata": {
        "id": "oowtpuLjaUjX"
      },
      "outputs": [],
      "source": [
        "# TO BE COMPLETED\n",
        "\n",
        "\n",
        "\n"
      ]
    },
    {
      "cell_type": "code",
      "execution_count": null,
      "metadata": {
        "id": "hnmMcouh-UFm"
      },
      "outputs": [],
      "source": [
        "'''\n",
        "PROVIDE YOUR ANSWER BELOW\n",
        "\n",
        "\n",
        "\n",
        "\n",
        "\n",
        "\n",
        "'''"
      ]
    },
    {
      "cell_type": "markdown",
      "metadata": {
        "id": "XrDPb0orGZYJ"
      },
      "source": [
        "## Part 5. Testing on New Data [14pt]\n",
        "\n",
        "In this final step, we will evaluate the models trained using new data that was not part of the training process. In this assignment, there will be three different test datasets:\n",
        "\n",
        "1. The test dataset generated by splitting the labeled data provided in the file `A2_Hand_Gesture_Dataset_revised.zip` into train, validation, and test sets. It is used throughout Part B1 to B4.\n",
        "2. The data you collected in Part A.\n",
        "3. The unlabeled data provided in `A2_Hand_Gesture_Unlabeled_Data.zip`."
      ]
    },
    {
      "cell_type": "markdown",
      "metadata": {
        "id": "IsunI_7ILqnS"
      },
      "source": [
        "### Part (i) - [2pt EXPLORATORY]\n",
        "Load and process the hand gesture images you had collected so that they can easily be evaulated by your model."
      ]
    },
    {
      "cell_type": "code",
      "execution_count": null,
      "metadata": {
        "id": "uSBa_pDmblQZ"
      },
      "outputs": [],
      "source": [
        "# TO BE COMPLETED\n",
        "\n",
        "\n",
        "\n"
      ]
    },
    {
      "cell_type": "markdown",
      "metadata": {
        "id": "8z7JBhPmLqnS"
      },
      "source": [
        "### Part (ii) - [2pt RESULTS]\n",
        "Using the best transfer learning model developed in Part 4. Report the test accuracy on your sample images and how it compares to the test accuracy obtained in Part 4(iv)? Also, use your best model from Part 3 to report the test accuracy on the new sample images and how it compares to the test accuracy obtained in Part 3(iv). You should present your results in a pandas DataFrame.\n",
        "\n",
        "This question will also be evaluated on the overal performance achieved."
      ]
    },
    {
      "cell_type": "code",
      "execution_count": null,
      "metadata": {
        "id": "lfT77JP3bpud"
      },
      "outputs": [],
      "source": [
        "# TO BE COMPLETED\n",
        "\n",
        "\n",
        "\n"
      ]
    },
    {
      "cell_type": "markdown",
      "metadata": {
        "id": "ZtWjvcTJd_ro"
      },
      "source": [
        "### Part (iii) - [3pt RESULTS]\n",
        "\n",
        "Load the unlabeled hand gesture images from the supplementary assignment files on Quercus (`A2_Hand_Gesture_Unlabeled_Data.zip`), which contains 615 unlabeled images. Using the best transfer learning model developed in Part 4, classify all 615 images and save the results in a .CSV file with the following format (Note: The file will be evaluated using an automated Python script to assess your model's performance, so make sure to follow the format precisely).\n",
        "\n",
        "1. The .csv file must contain exactly 615 lines.\n",
        "2. Each line should have two comma-separated values: the first value is the image ID number (the filename, e.g., 1 or 123), and the second is the image class (a letter, such as A, B, C, D, E, F, G, H, or I). Do not use spaces or quotation marks.\n",
        "3. Name your .csv file your student number (Example: 1001234567.csv)\n",
        "\n",
        "Example .csv file:\n",
        "```\n",
        "1,A\n",
        "2,B\n",
        "3,C\n",
        "4,H\n",
        "...\n",
        "..\n",
        "615,I\n",
        "```"
      ]
    },
    {
      "cell_type": "code",
      "execution_count": null,
      "metadata": {
        "id": "9X1_E4iroG7R"
      },
      "outputs": [],
      "source": [
        "##TO BE COMPLETED\n",
        "\n",
        "\n",
        "\n"
      ]
    },
    {
      "cell_type": "markdown",
      "metadata": {
        "id": "IBdVwrmGmdS0"
      },
      "source": [
        "### Part (iv) - [5pt DISCUSSION]\n",
        "How well did your models do for the different hand guestures? Provide an explanation for why you think your models performed the way it did? Be sure to compare the results for three test datasets mentioned in part B5. You can refer to the confusion matrices presented earlier.\n",
        "\n",
        "How well would this model perform if you were to deploy it in the real-world? List some things you could do to improve the model performance."
      ]
    },
    {
      "cell_type": "code",
      "execution_count": null,
      "metadata": {
        "id": "KD5YZTfBbpu1"
      },
      "outputs": [],
      "source": [
        "'''\n",
        "PROVIDE YOUR ANSWER BELOW\n",
        "\n",
        "\n",
        "\n",
        "\n",
        "\n",
        "\n",
        "'''"
      ]
    },
    {
      "cell_type": "markdown",
      "metadata": {
        "id": "cyCMx83xLJt0"
      },
      "source": [
        "### Part (v) - [2pt DISCUSSION]\n",
        "Reflect on the ethical implications of deploying a hand gesture recognition model in real-world applications. What are some potential biases that could arise in your model, and how might they impact different user groups?\n",
        "\n",
        "Discuss measures you can take to identify and mitigate these biases during the development and deployment phases. Consider aspects such as data collection, model training, and user feedback."
      ]
    },
    {
      "cell_type": "code",
      "execution_count": null,
      "metadata": {
        "id": "bFsB8SN0LJt0"
      },
      "outputs": [],
      "source": [
        "'''\n",
        "PROVIDE YOUR ANSWER BELOW\n",
        "\n",
        "\n",
        "\n",
        "\n",
        "\n",
        "\n",
        "'''"
      ]
    },
    {
      "cell_type": "markdown",
      "metadata": {
        "id": "9SMqukISPXen"
      },
      "source": [
        "# PART C (Optional) - Bonus Challenge!\n",
        "\n",
        "This is an optional exercise for those that finish the assignment early and would like to take on some additional challenging task.\n",
        "\n",
        "For this bonus challenge you are asked to explore different techniques to further improve the model for more realistic scenarios where the hands may be in front of various backgrounds, be taken at different scales, rotations, and positions in the image. To build a superior image classification model you can complete one or all of the following tasks.\n",
        "\n",
        "Tasks:\n",
        "\n",
        "1. Test your best models (with or without transfer learning) on hand gestures images with backgrounds that are not clean and smooth. You can take your own hand gesture images, or find ones online to test your model. Comment on the performance of your model.\n",
        "2. Generated additional data by performing data augmentation to replace the clean, smooth backgrounds with backgrounds with different textures. Do this on all your training, validation, and test data. This task can be done manually (could take a long time) or you can implement code that can automate the task. For Example, one approach you could take to automate this task is to use pretrained image segmentation tools to identify the hands in the images and crop them out and put them onto other backgrounds.\n",
        "3. Implement one of many region proposal tools to detect hand gestures in image frames and put a bounding box around the region with the highest confidence. You can use pretrained YOLO models, or a region proposal tool from openCV.\n",
        "4. Create a short video demonstration how you can use your hand gesture recognition model to communicate a message using hand gestures.\n",
        "\n",
        "Bonus marks will be provided based on the number of steps completed. Summarize below your results and anything intersting you learned from the steps that you completed. Bonus marks cannot be accumulated beyond the maximum assignment grade."
      ]
    },
    {
      "cell_type": "code",
      "execution_count": null,
      "metadata": {
        "id": "y7RdCepbPbya"
      },
      "outputs": [],
      "source": [
        "# TO BE COMPLETED\n",
        "\n",
        "\n"
      ]
    },
    {
      "cell_type": "code",
      "execution_count": null,
      "metadata": {
        "id": "l-16xaXFPcql"
      },
      "outputs": [],
      "source": [
        "'''\n",
        "PROVIDE YOUR ANSWER BELOW\n",
        "\n",
        "\n",
        "\n",
        "\n",
        "\n",
        "\n",
        "'''"
      ]
    },
    {
      "cell_type": "markdown",
      "metadata": {
        "id": "FYwI4RmFS2RB"
      },
      "source": [
        "### Saving to HTML\n",
        "Detailed instructions for saving to HTML can be found <a href=\"https://stackoverflow.com/questions/53460051/convert-ipynb-notebook-to-html-in-google-colab/64487858#64487858\">here</a>. Provided below are a summary of the instructions:\n",
        "\n",
        "(1) download your ipynb file by clicking on File->Download.ipynb\n",
        "\n",
        "(2) reupload your file to the temporary Google Colab storage (you can access the temporary storage from the tab to the left)\n",
        "\n",
        "(3) run the following:"
      ]
    },
    {
      "cell_type": "code",
      "execution_count": 11,
      "metadata": {
        "id": "aW8Kd8kwC5oz",
        "colab": {
          "base_uri": "https://localhost:8080/"
        },
        "outputId": "9f96054e-90d1-46b9-d02b-de23e9f00b77"
      },
      "outputs": [
        {
          "output_type": "stream",
          "name": "stdout",
          "text": [
            "Drive already mounted at /content/drive; to attempt to forcibly remount, call drive.mount(\"/content/drive\", force_remount=True).\n"
          ]
        }
      ],
      "source": [
        "from google.colab import drive\n",
        "drive.mount('/content/drive')"
      ]
    },
    {
      "cell_type": "code",
      "execution_count": null,
      "metadata": {
        "id": "2TrsqdNgS5ex"
      },
      "outputs": [],
      "source": [
        "%%shell\n",
        "jupyter nbconvert --to html /content/drive/MyDrive/MIE1517-TA-2025/A2.ipynb"
      ]
    },
    {
      "cell_type": "markdown",
      "metadata": {
        "id": "nuXhlFlPTY7F"
      },
      "source": [
        "(4) the html file will be available for download in the temporary Google Colab storage\n",
        "\n",
        "(5) review the html file and make sure all the results are visible before submitting your assignment to Quercus"
      ]
    },
    {
      "cell_type": "markdown",
      "metadata": {
        "id": "cLzCpNFMhgxO"
      },
      "source": [
        "# Assignment Grading Rubric\n",
        "The grading of the assignment will be based on the following categories:\n",
        "\n",
        "(0) **5 Pt - DATA** Generating new data to evaluate your model.\n",
        "\n",
        "(1) **9 Pt - EXPLORATORY QUESTIONS** These are basic questions that in most cases can be answered without requiring a fully working and trained neural network model. For example, data loading, processing and visualization, summary statistics, data exploration, model and training setup, etc.\n",
        "\n",
        "(2) **9 Pt - MODEL** Student has successfully implemented all the required neural network models and has demonstrated successful training of the model without any errors.\n",
        "\n",
        "(3) **9 Pt - RESULT** Students are evaluated based on the results achieved in comparison to the expected results of the assignment.\n",
        "\n",
        "(4) **9 Pt - DISCUSSION QUESTIONS** Student demonstrated understanding beyond the basic exploratory questions, can answer some of the more challenging questions, and provide arguments for their model selection decisions.\n",
        "\n",
        "(5) **9 Pt - COMMUNICATION** Student has provided a quality submission that is easy to read without too many unnecessary output statements that distract the reading of the document. The code has been well commented and all the answers are communicated clearly and concisely.\n",
        "\n",
        "(6) **5 Pt - BONUS** Student has completed the assignment and has taken on the challenging bonus tasks listed in PART C. The student has demonstrated a good understanding of all aspects of the assignment and has exceeded expectations for the assignment.\n",
        "\n",
        "\n",
        "\n",
        "**TOTAL GRADE = _____ of 50 Pts**"
      ]
    }
  ],
  "metadata": {
    "colab": {
      "provenance": [],
      "gpuType": "T4",
      "include_colab_link": true
    },
    "kernelspec": {
      "display_name": "Python 3",
      "name": "python3"
    },
    "language_info": {
      "codemirror_mode": {
        "name": "ipython",
        "version": 3
      },
      "file_extension": ".py",
      "mimetype": "text/x-python",
      "name": "python",
      "nbconvert_exporter": "python",
      "pygments_lexer": "ipython3",
      "version": "3.11.11"
    },
    "accelerator": "GPU"
  },
  "nbformat": 4,
  "nbformat_minor": 0
}